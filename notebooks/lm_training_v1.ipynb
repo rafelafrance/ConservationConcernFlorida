{
 "cells": [
  {
   "cell_type": "code",
   "execution_count": 1,
   "id": "73f72742-8fe4-4110-80c1-d2d5705c0db4",
   "metadata": {
    "execution": {
     "iopub.execute_input": "2025-03-26T04:52:17.877922Z",
     "iopub.status.busy": "2025-03-26T04:52:17.877825Z",
     "iopub.status.idle": "2025-03-26T04:52:20.414282Z",
     "shell.execute_reply": "2025-03-26T04:52:20.413957Z",
     "shell.execute_reply.started": "2025-03-26T04:52:17.877912Z"
    }
   },
   "outputs": [],
   "source": [
    "import argparse\n",
    "import random\n",
    "import re\n",
    "from pathlib import Path\n",
    "\n",
    "import dspy\n",
    "from dspy.evaluate import Evaluate\n",
    "\n",
    "from ccf.pylib import trait_extractor as te"
   ]
  },
  {
   "cell_type": "code",
   "execution_count": 2,
   "id": "57e0165b-4507-4b4c-8347-482f98456975",
   "metadata": {
    "execution": {
     "iopub.execute_input": "2025-03-26T04:52:20.414784Z",
     "iopub.status.busy": "2025-03-26T04:52:20.414668Z",
     "iopub.status.idle": "2025-03-26T04:52:20.416978Z",
     "shell.execute_reply": "2025-03-26T04:52:20.416682Z",
     "shell.execute_reply.started": "2025-03-26T04:52:20.414772Z"
    }
   },
   "outputs": [],
   "source": [
    "args = argparse.Namespace(\n",
    "    examples_json=Path(\"../data/fna/Asteraceae_examples_2025-03-19c.json\"),\n",
    "    # model=\"ollama_chat/gemma3:27b\",\n",
    "    model=\"ollama_chat/tinyllama\",\n",
    "    api_base=\"http://localhost:11434\",\n",
    "    api_key=\"\",\n",
    "    train_split=0.1,\n",
    "    dev_split=0.5,\n",
    "    test_split=0.4,\n",
    "    seed=2203673,\n",
    ")"
   ]
  },
  {
   "cell_type": "code",
   "execution_count": 3,
   "id": "04247f45-d1e1-4c54-9216-59c3fb797f44",
   "metadata": {
    "execution": {
     "iopub.execute_input": "2025-03-26T04:52:20.417418Z",
     "iopub.status.busy": "2025-03-26T04:52:20.417307Z",
     "iopub.status.idle": "2025-03-26T04:52:20.427360Z",
     "shell.execute_reply": "2025-03-26T04:52:20.427090Z",
     "shell.execute_reply.started": "2025-03-26T04:52:20.417409Z"
    }
   },
   "outputs": [],
   "source": [
    "random.seed(args.seed)"
   ]
  },
  {
   "cell_type": "code",
   "execution_count": 4,
   "id": "3cf3e065-15f6-42d6-bfc0-41ceb4fb278a",
   "metadata": {
    "execution": {
     "iopub.execute_input": "2025-03-26T04:52:20.427869Z",
     "iopub.status.busy": "2025-03-26T04:52:20.427736Z",
     "iopub.status.idle": "2025-03-26T04:52:20.464589Z",
     "shell.execute_reply": "2025-03-26T04:52:20.464281Z",
     "shell.execute_reply.started": "2025-03-26T04:52:20.427858Z"
    }
   },
   "outputs": [],
   "source": [
    "examples = te.read_examples(args.examples_json)\n",
    "dataset = te.split_examples(examples, args.train_split, args.dev_split)\n",
    "\n",
    "lm = dspy.LM(args.model, api_base=args.api_base, api_key=args.api_key, cache=False)\n",
    "dspy.configure(lm=lm)\n",
    "\n",
    "trait_extractor = dspy.Predict(te.TraitExtractor)\n",
    "# trait_extractor = dspy.ChainOfThought(te.TraitExtractor)"
   ]
  },
  {
   "cell_type": "code",
   "execution_count": 5,
   "id": "ded1c219-3912-4788-a557-6b018716c4e0",
   "metadata": {
    "execution": {
     "iopub.execute_input": "2025-03-26T04:52:20.465034Z",
     "iopub.status.busy": "2025-03-26T04:52:20.464917Z",
     "iopub.status.idle": "2025-03-26T04:52:20.467165Z",
     "shell.execute_reply": "2025-03-26T04:52:20.466851Z",
     "shell.execute_reply.started": "2025-03-26T04:52:20.465025Z"
    }
   },
   "outputs": [],
   "source": [
    "evaluator = Evaluate(\n",
    "    devset=dataset[\"dev\"],\n",
    "    metric=te.score_prediction,\n",
    "    num_threads=1,\n",
    "    display_progress=True,\n",
    "    # display_table=True,\n",
    "    provide_traceback=True,\n",
    ")"
   ]
  },
  {
   "cell_type": "code",
   "execution_count": 6,
   "id": "4dafb06d-182f-4845-a52f-cc53319cb999",
   "metadata": {
    "execution": {
     "iopub.execute_input": "2025-03-26T04:52:20.468073Z",
     "iopub.status.busy": "2025-03-26T04:52:20.467961Z",
     "iopub.status.idle": "2025-03-26T04:59:58.440232Z",
     "shell.execute_reply": "2025-03-26T04:59:58.439789Z",
     "shell.execute_reply.started": "2025-03-26T04:52:20.468062Z"
    },
    "scrolled": true
   },
   "outputs": [
    {
     "name": "stdout",
     "output_type": "stream",
     "text": [
      "Average Metric: 37.93 / 203 (18.7%):  74%|████████████████████████████████████████████████████████████████████████▏                        | 151/203 [05:39<02:13,  2.56s/it]"
     ]
    },
    {
     "name": "stderr",
     "output_type": "stream",
     "text": [
      "2025/03/26 00:58:01 ERROR dspy.utils.parallelizer: Error processing item Example({'family': 'Asteraceae', 'taxon': 'Eclipta prostrata', 'text': '<b>Leaf </b>blades 2–10 cm × 4–30+ mm. <b>Ray</b> laminae ca. 2 mm. <b>Disc</b> corollas ca. 1.5 mm. <b>Cypselae</b> ca. 2.5 mm. <b>2n</b> = 22 (as E. alba).\\nPhenology: Flowering year round, mostly summer–fall.\\nHabitat: Wet places, often ruderal\\nElevation: 60–1600 m', 'prompt': '\\n    What is the plant size,\\n    leaf shape, leaf length, leaf width, leaf thickness,\\n    seed length, seed width,\\n    fruit type, fruit length, fruit width,\\n    deciduousness, phenology, habitat, elevation?\\n    If it is not mentioned return an empty value.\\n    ', 'plant_height': '', 'leaf_shape': '', 'leaf_length': '2–10 cm', 'leaf_width': '4–30+ mm', 'leaf_thickness': '', 'fruit_type': 'Cypselae', 'fruit_length': '2.5 mm', 'fruit_width': '', 'seed_length': '', 'seed_width': '', 'deciduousness': '', 'phenology': 'Flowering year round, mostly summer–fall', 'habitat': 'Wet places, often ruderal', 'elevation': '60–1600 m'}) (input_keys={'taxon', 'prompt', 'text', 'family'}): Expected dict_keys(['plant_height', 'leaf_shape', 'leaf_length', 'leaf_width', 'leaf_thickness', 'fruit_type', 'fruit_length', 'fruit_width', 'seed_length', 'seed_width', 'deciduousness', 'phenology', 'habitat', 'elevation']) but got dict_keys(['plant_height', 'leaf_shape', 'leaf_length', 'leaf_width', 'leaf_thickness', 'fruit_type', 'fruit_length', 'fruit_width', 'seed_length', 'seed_width', 'deciduousness'])\n",
      "Stack trace:\n",
      "Traceback (most recent call last):\n",
      "  File \"/srv/work/rafe/language_models/ConservationConcernFlorida/.venv/lib/python3.12/site-packages/dspy/adapters/base.py\", line 33, in __call__\n",
      "    value = self.parse(signature, output)\n",
      "            ^^^^^^^^^^^^^^^^^^^^^^^^^^^^^\n",
      "  File \"/srv/work/rafe/language_models/ConservationConcernFlorida/.venv/lib/python3.12/site-packages/dspy/utils/callback.py\", line 234, in wrapper\n",
      "    return fn(instance, *args, **kwargs)\n",
      "           ^^^^^^^^^^^^^^^^^^^^^^^^^^^^^\n",
      "  File \"/srv/work/rafe/language_models/ConservationConcernFlorida/.venv/lib/python3.12/site-packages/dspy/adapters/chat_adapter.py\", line 83, in parse\n",
      "    raise ValueError(f\"Expected {signature.output_fields.keys()} but got {fields.keys()}\")\n",
      "ValueError: Expected dict_keys(['plant_height', 'leaf_shape', 'leaf_length', 'leaf_width', 'leaf_thickness', 'fruit_type', 'fruit_length', 'fruit_width', 'seed_length', 'seed_width', 'deciduousness', 'phenology', 'habitat', 'elevation']) but got dict_keys([])\n",
      "\n",
      "During handling of the above exception, another exception occurred:\n",
      "\n",
      "Traceback (most recent call last):\n",
      "  File \"/srv/work/rafe/language_models/ConservationConcernFlorida/.venv/lib/python3.12/site-packages/dspy/utils/parallelizer.py\", line 47, in wrapped\n",
      "    return function(item)\n",
      "           ^^^^^^^^^^^^^^\n",
      "  File \"/srv/work/rafe/language_models/ConservationConcernFlorida/.venv/lib/python3.12/site-packages/dspy/evaluate/evaluate.py\", line 149, in process_item\n",
      "    prediction = program(**example.inputs())\n",
      "                 ^^^^^^^^^^^^^^^^^^^^^^^^^^^\n",
      "  File \"/srv/work/rafe/language_models/ConservationConcernFlorida/.venv/lib/python3.12/site-packages/dspy/utils/callback.py\", line 234, in wrapper\n",
      "    return fn(instance, *args, **kwargs)\n",
      "           ^^^^^^^^^^^^^^^^^^^^^^^^^^^^^\n",
      "  File \"/srv/work/rafe/language_models/ConservationConcernFlorida/.venv/lib/python3.12/site-packages/dspy/predict/predict.py\", line 67, in __call__\n",
      "    return self.forward(**kwargs)\n",
      "           ^^^^^^^^^^^^^^^^^^^^^^\n",
      "  File \"/srv/work/rafe/language_models/ConservationConcernFlorida/.venv/lib/python3.12/site-packages/dspy/predict/predict.py\", line 97, in forward\n",
      "    completions = adapter(lm, lm_kwargs=config, signature=signature, demos=demos, inputs=kwargs)\n",
      "                  ^^^^^^^^^^^^^^^^^^^^^^^^^^^^^^^^^^^^^^^^^^^^^^^^^^^^^^^^^^^^^^^^^^^^^^^^^^^^^^\n",
      "  File \"/srv/work/rafe/language_models/ConservationConcernFlorida/.venv/lib/python3.12/site-packages/dspy/adapters/base.py\", line 55, in __call__\n",
      "    return JSONAdapter()(lm, lm_kwargs, signature, demos, inputs)\n",
      "           ^^^^^^^^^^^^^^^^^^^^^^^^^^^^^^^^^^^^^^^^^^^^^^^^^^^^^^\n",
      "  File \"/srv/work/rafe/language_models/ConservationConcernFlorida/.venv/lib/python3.12/site-packages/dspy/adapters/json_adapter.py\", line 60, in __call__\n",
      "    value = self.parse(signature, output)\n",
      "            ^^^^^^^^^^^^^^^^^^^^^^^^^^^^^\n",
      "  File \"/srv/work/rafe/language_models/ConservationConcernFlorida/.venv/lib/python3.12/site-packages/dspy/utils/callback.py\", line 234, in wrapper\n",
      "    return fn(instance, *args, **kwargs)\n",
      "           ^^^^^^^^^^^^^^^^^^^^^^^^^^^^^\n",
      "  File \"/srv/work/rafe/language_models/ConservationConcernFlorida/.venv/lib/python3.12/site-packages/dspy/adapters/json_adapter.py\", line 102, in parse\n",
      "    raise ValueError(f\"Expected {signature.output_fields.keys()} but got {fields.keys()}\")\n",
      "ValueError: Expected dict_keys(['plant_height', 'leaf_shape', 'leaf_length', 'leaf_width', 'leaf_thickness', 'fruit_type', 'fruit_length', 'fruit_width', 'seed_length', 'seed_width', 'deciduousness', 'phenology', 'habitat', 'elevation']) but got dict_keys(['plant_height', 'leaf_shape', 'leaf_length', 'leaf_width', 'leaf_thickness', 'fruit_type', 'fruit_length', 'fruit_width', 'seed_length', 'seed_width', 'deciduousness'])\n",
      "\n"
     ]
    },
    {
     "name": "stdout",
     "output_type": "stream",
     "text": [
      "Average Metric: 49.93 / 203 (24.6%): 100%|█████████████████████████████████████████████████████████████████████████████████████████████████| 203/203 [07:37<00:00,  2.26s/it]"
     ]
    },
    {
     "name": "stderr",
     "output_type": "stream",
     "text": [
      "2025/03/26 00:59:58 INFO dspy.evaluate.evaluate: Average Metric: 49.925144404796285 / 203 (24.6%)\n"
     ]
    },
    {
     "name": "stdout",
     "output_type": "stream",
     "text": [
      "\n"
     ]
    },
    {
     "data": {
      "text/plain": [
       "24.59"
      ]
     },
     "execution_count": 6,
     "metadata": {},
     "output_type": "execute_result"
    }
   ],
   "source": [
    "evaluator(trait_extractor, devset=dataset[\"dev\"])"
   ]
  },
  {
   "cell_type": "code",
   "execution_count": 7,
   "id": "80124d94-d795-4041-9dcc-1d9b4b8a86d3",
   "metadata": {
    "execution": {
     "iopub.execute_input": "2025-03-26T04:59:58.440742Z",
     "iopub.status.busy": "2025-03-26T04:59:58.440643Z",
     "iopub.status.idle": "2025-03-26T05:29:02.152770Z",
     "shell.execute_reply": "2025-03-26T05:29:02.152460Z",
     "shell.execute_reply.started": "2025-03-26T04:59:58.440733Z"
    },
    "scrolled": true
   },
   "outputs": [
    {
     "name": "stderr",
     "output_type": "stream",
     "text": [
      "2025/03/26 00:59:58 INFO dspy.teleprompt.mipro_optimizer_v2: \n",
      "RUNNING WITH THE FOLLOWING MEDIUM AUTO RUN SETTINGS:\n",
      "num_trials: 25\n",
      "minibatch: False\n",
      "num_candidates: 19\n",
      "valset size: 32\n",
      "\n",
      "2025/03/26 00:59:58 INFO dspy.teleprompt.mipro_optimizer_v2: \n",
      "==> STEP 1: BOOTSTRAP FEWSHOT EXAMPLES <==\n",
      "2025/03/26 00:59:58 INFO dspy.teleprompt.mipro_optimizer_v2: These will be used as few-shot example candidates for our program and for creating instructions.\n",
      "\n",
      "2025/03/26 00:59:58 INFO dspy.teleprompt.mipro_optimizer_v2: Bootstrapping N=19 sets of demonstrations...\n"
     ]
    },
    {
     "name": "stdout",
     "output_type": "stream",
     "text": [
      "Bootstrapping set 1/19\n",
      "Bootstrapping set 2/19\n",
      "Bootstrapping set 3/19\n"
     ]
    },
    {
     "name": "stderr",
     "output_type": "stream",
     "text": [
      " 44%|█████████████████████████████████████████████████████████████▎                                                                            | 4/9 [00:09<00:12,  2.40s/it]\n"
     ]
    },
    {
     "name": "stdout",
     "output_type": "stream",
     "text": [
      "Bootstrapped 4 full traces after 4 examples for up to 1 rounds, amounting to 4 attempts.\n",
      "Bootstrapping set 4/19\n"
     ]
    },
    {
     "name": "stderr",
     "output_type": "stream",
     "text": [
      " 44%|█████████████████████████████████████████████████████████████▎                                                                            | 4/9 [00:05<00:06,  1.39s/it]\n"
     ]
    },
    {
     "name": "stdout",
     "output_type": "stream",
     "text": [
      "Bootstrapped 4 full traces after 4 examples for up to 1 rounds, amounting to 4 attempts.\n",
      "Bootstrapping set 5/19\n"
     ]
    },
    {
     "name": "stderr",
     "output_type": "stream",
     "text": [
      " 44%|█████████████████████████████████████████████████████████████▎                                                                            | 4/9 [00:02<00:03,  1.44it/s]\n"
     ]
    },
    {
     "name": "stdout",
     "output_type": "stream",
     "text": [
      "Bootstrapped 4 full traces after 4 examples for up to 1 rounds, amounting to 4 attempts.\n",
      "Bootstrapping set 6/19\n"
     ]
    },
    {
     "name": "stderr",
     "output_type": "stream",
     "text": [
      " 11%|███████████████▎                                                                                                                          | 1/9 [00:02<00:20,  2.60s/it]\n"
     ]
    },
    {
     "name": "stdout",
     "output_type": "stream",
     "text": [
      "Bootstrapped 1 full traces after 1 examples for up to 1 rounds, amounting to 1 attempts.\n",
      "Bootstrapping set 7/19\n"
     ]
    },
    {
     "name": "stderr",
     "output_type": "stream",
     "text": [
      " 11%|███████████████▎                                                                                                                          | 1/9 [00:02<00:20,  2.52s/it]\n"
     ]
    },
    {
     "name": "stdout",
     "output_type": "stream",
     "text": [
      "Bootstrapped 1 full traces after 1 examples for up to 1 rounds, amounting to 1 attempts.\n",
      "Bootstrapping set 8/19\n"
     ]
    },
    {
     "name": "stderr",
     "output_type": "stream",
     "text": [
      " 22%|██████████████████████████████▋                                                                                                           | 2/9 [00:04<00:15,  2.20s/it]\n"
     ]
    },
    {
     "name": "stdout",
     "output_type": "stream",
     "text": [
      "Bootstrapped 2 full traces after 2 examples for up to 1 rounds, amounting to 2 attempts.\n",
      "Bootstrapping set 9/19\n"
     ]
    },
    {
     "name": "stderr",
     "output_type": "stream",
     "text": [
      " 11%|███████████████▎                                                                                                                          | 1/9 [00:01<00:13,  1.67s/it]\n"
     ]
    },
    {
     "name": "stdout",
     "output_type": "stream",
     "text": [
      "Bootstrapped 1 full traces after 1 examples for up to 1 rounds, amounting to 1 attempts.\n",
      "Bootstrapping set 10/19\n"
     ]
    },
    {
     "name": "stderr",
     "output_type": "stream",
     "text": [
      " 11%|███████████████▎                                                                                                                          | 1/9 [00:02<00:18,  2.32s/it]\n"
     ]
    },
    {
     "name": "stdout",
     "output_type": "stream",
     "text": [
      "Bootstrapped 1 full traces after 1 examples for up to 1 rounds, amounting to 1 attempts.\n",
      "Bootstrapping set 11/19\n"
     ]
    },
    {
     "name": "stderr",
     "output_type": "stream",
     "text": [
      " 11%|███████████████▎                                                                                                                          | 1/9 [00:01<00:12,  1.61s/it]2025/03/26 01:00:35 ERROR dspy.teleprompt.bootstrap: Failed to run or to evaluate example Example({'family': 'Asteraceae', 'taxon': 'Fleischmannia incarnata', 'text': '<b>Plants </b>30–120(–200) cm. <b>Stems</b> lax, sprawling or scandent. <b>Leaves</b>: petioles (0.5–)1–3.5(–4) cm; blades triangular-deltate, (1–)2–5(–7) × (1–)1.5–3.5(–5) cm, bases usually truncate to cordate, sometimes obtuse, margins coarsely serrate to crenate-serrate, apices acute to acuminate. <b>Involucres</b> 4–5 mm. <b>Phyllaries</b>: outer lanceolate, inner lanceolate to narrowly oblong-lanceolate, glabrous or sparsely puberulent, apices usually acute to attenuate, sometimes rounded. <b>Corollas</b> usually pink-purple or whitish with pink to lilac lobes, rarely all white. <b>Cypselae</b> 1.8–2.8 mm, usually sparsely strigoso-hirtellous, sometimes glabrate. <b>2n</b> = 20.\\nPhenology: Flowering Oct–Dec.\\nHabitat: Woodlands, thickets, moist soil, roads, ditches, stream banks, bottomlands, swamps, depressions, cedar glades\\nElevation: 10–200 m', 'prompt': '\\n    What is the plant size,\\n    leaf shape, leaf length, leaf width, leaf thickness,\\n    seed length, seed width,\\n    fruit type, fruit length, fruit width,\\n    deciduousness, phenology, habitat, elevation?\\n    If it is not mentioned return an empty value.\\n    ', 'plant_height': '30–120(–200) cm', 'leaf_shape': 'triangular-deltate', 'leaf_length': '(1–)2–5(–7) cm', 'leaf_width': '(1–)1.5–3.5(–5) cm', 'leaf_thickness': '', 'fruit_type': 'Cypselae', 'fruit_length': '1.8–2.8 mm', 'fruit_width': '', 'seed_length': '', 'seed_width': '', 'deciduousness': '', 'phenology': 'Flowering Oct–Dec', 'habitat': 'Woodlands, thickets, moist soil, roads, ditches, stream banks, bottomlands, swamps, depressions, cedar glades', 'elevation': '10–200 m'}) (input_keys={'taxon', 'prompt', 'text', 'family'}) with <function score_prediction at 0x7b8ed1d839c0> due to Expected dict_keys(['plant_height', 'leaf_shape', 'leaf_length', 'leaf_width', 'leaf_thickness', 'fruit_type', 'fruit_length', 'fruit_width', 'seed_length', 'seed_width', 'deciduousness', 'phenology', 'habitat', 'elevation']) but got dict_keys(['plant_height', 'leaf_shape', 'leaf_length', 'leaf_width', 'leaf_thickness', 'fruit_type', 'fruit_length', 'fruit_width', 'seed_length', 'seed_width', 'deciduousness', 'phenology']).\n",
      " 33%|██████████████████████████████████████████████                                                                                            | 3/9 [00:07<00:15,  2.63s/it]\n"
     ]
    },
    {
     "name": "stdout",
     "output_type": "stream",
     "text": [
      "Bootstrapped 2 full traces after 3 examples for up to 1 rounds, amounting to 3 attempts.\n",
      "Bootstrapping set 12/19\n"
     ]
    },
    {
     "name": "stderr",
     "output_type": "stream",
     "text": [
      " 22%|██████████████████████████████▋                                                                                                           | 2/9 [00:04<00:17,  2.48s/it]\n"
     ]
    },
    {
     "name": "stdout",
     "output_type": "stream",
     "text": [
      "Bootstrapped 2 full traces after 2 examples for up to 1 rounds, amounting to 2 attempts.\n",
      "Bootstrapping set 13/19\n"
     ]
    },
    {
     "name": "stderr",
     "output_type": "stream",
     "text": [
      " 11%|███████████████▎                                                                                                                          | 1/9 [00:02<00:18,  2.29s/it]\n"
     ]
    },
    {
     "name": "stdout",
     "output_type": "stream",
     "text": [
      "Bootstrapped 1 full traces after 1 examples for up to 1 rounds, amounting to 1 attempts.\n",
      "Bootstrapping set 14/19\n"
     ]
    },
    {
     "name": "stderr",
     "output_type": "stream",
     "text": [
      " 22%|██████████████████████████████▋                                                                                                           | 2/9 [00:03<00:12,  1.76s/it]\n"
     ]
    },
    {
     "name": "stdout",
     "output_type": "stream",
     "text": [
      "Bootstrapped 2 full traces after 2 examples for up to 1 rounds, amounting to 2 attempts.\n",
      "Bootstrapping set 15/19\n"
     ]
    },
    {
     "name": "stderr",
     "output_type": "stream",
     "text": [
      " 33%|██████████████████████████████████████████████                                                                                            | 3/9 [00:08<00:16,  2.71s/it]\n"
     ]
    },
    {
     "name": "stdout",
     "output_type": "stream",
     "text": [
      "Bootstrapped 3 full traces after 3 examples for up to 1 rounds, amounting to 3 attempts.\n",
      "Bootstrapping set 16/19\n"
     ]
    },
    {
     "name": "stderr",
     "output_type": "stream",
     "text": [
      " 33%|██████████████████████████████████████████████                                                                                            | 3/9 [00:06<00:13,  2.21s/it]\n"
     ]
    },
    {
     "name": "stdout",
     "output_type": "stream",
     "text": [
      "Bootstrapped 3 full traces after 3 examples for up to 1 rounds, amounting to 3 attempts.\n",
      "Bootstrapping set 17/19\n"
     ]
    },
    {
     "name": "stderr",
     "output_type": "stream",
     "text": [
      " 22%|██████████████████████████████▋                                                                                                           | 2/9 [00:04<00:14,  2.07s/it]\n"
     ]
    },
    {
     "name": "stdout",
     "output_type": "stream",
     "text": [
      "Bootstrapped 2 full traces after 2 examples for up to 1 rounds, amounting to 2 attempts.\n",
      "Bootstrapping set 18/19\n"
     ]
    },
    {
     "name": "stderr",
     "output_type": "stream",
     "text": [
      " 33%|██████████████████████████████████████████████                                                                                            | 3/9 [00:05<00:11,  1.89s/it]\n"
     ]
    },
    {
     "name": "stdout",
     "output_type": "stream",
     "text": [
      "Bootstrapped 3 full traces after 3 examples for up to 1 rounds, amounting to 3 attempts.\n",
      "Bootstrapping set 19/19\n"
     ]
    },
    {
     "name": "stderr",
     "output_type": "stream",
     "text": [
      " 11%|███████████████▎                                                                                                                          | 1/9 [00:01<00:11,  1.47s/it]2025/03/26 01:01:18 ERROR dspy.teleprompt.bootstrap: Failed to run or to evaluate example Example({'family': 'Asteraceae', 'taxon': 'Fleischmannia incarnata', 'text': '<b>Plants </b>30–120(–200) cm. <b>Stems</b> lax, sprawling or scandent. <b>Leaves</b>: petioles (0.5–)1–3.5(–4) cm; blades triangular-deltate, (1–)2–5(–7) × (1–)1.5–3.5(–5) cm, bases usually truncate to cordate, sometimes obtuse, margins coarsely serrate to crenate-serrate, apices acute to acuminate. <b>Involucres</b> 4–5 mm. <b>Phyllaries</b>: outer lanceolate, inner lanceolate to narrowly oblong-lanceolate, glabrous or sparsely puberulent, apices usually acute to attenuate, sometimes rounded. <b>Corollas</b> usually pink-purple or whitish with pink to lilac lobes, rarely all white. <b>Cypselae</b> 1.8–2.8 mm, usually sparsely strigoso-hirtellous, sometimes glabrate. <b>2n</b> = 20.\\nPhenology: Flowering Oct–Dec.\\nHabitat: Woodlands, thickets, moist soil, roads, ditches, stream banks, bottomlands, swamps, depressions, cedar glades\\nElevation: 10–200 m', 'prompt': '\\n    What is the plant size,\\n    leaf shape, leaf length, leaf width, leaf thickness,\\n    seed length, seed width,\\n    fruit type, fruit length, fruit width,\\n    deciduousness, phenology, habitat, elevation?\\n    If it is not mentioned return an empty value.\\n    ', 'plant_height': '30–120(–200) cm', 'leaf_shape': 'triangular-deltate', 'leaf_length': '(1–)2–5(–7) cm', 'leaf_width': '(1–)1.5–3.5(–5) cm', 'leaf_thickness': '', 'fruit_type': 'Cypselae', 'fruit_length': '1.8–2.8 mm', 'fruit_width': '', 'seed_length': '', 'seed_width': '', 'deciduousness': '', 'phenology': 'Flowering Oct–Dec', 'habitat': 'Woodlands, thickets, moist soil, roads, ditches, stream banks, bottomlands, swamps, depressions, cedar glades', 'elevation': '10–200 m'}) (input_keys={'taxon', 'prompt', 'text', 'family'}) with <function score_prediction at 0x7b8ed1d839c0> due to Expected dict_keys(['plant_height', 'leaf_shape', 'leaf_length', 'leaf_width', 'leaf_thickness', 'fruit_type', 'fruit_length', 'fruit_width', 'seed_length', 'seed_width', 'deciduousness', 'phenology', 'habitat', 'elevation']) but got dict_keys(['plant_height', 'leaf_shape', 'leaf_length', 'leaf_width', 'leaf_thickness', 'fruit_type', 'fruit_length', 'fruit_width', 'seed_length', 'seed_width', 'deciduousness', 'phenology']).\n",
      " 56%|████████████████████████████████████████████████████████████████████████████▋                                                             | 5/9 [00:11<00:08,  2.21s/it]\n",
      "2025/03/26 01:01:24 INFO dspy.teleprompt.mipro_optimizer_v2: \n",
      "==> STEP 2: PROPOSE INSTRUCTION CANDIDATES <==\n",
      "2025/03/26 01:01:24 INFO dspy.teleprompt.mipro_optimizer_v2: We will use the few-shot examples from the previous step, a generated dataset summary, a summary of the program code, and a randomly selected prompting tip to propose instructions.\n"
     ]
    },
    {
     "name": "stdout",
     "output_type": "stream",
     "text": [
      "Bootstrapped 4 full traces after 5 examples for up to 1 rounds, amounting to 5 attempts.\n"
     ]
    },
    {
     "name": "stderr",
     "output_type": "stream",
     "text": [
      "2025/03/26 01:01:26 INFO dspy.teleprompt.mipro_optimizer_v2: \n",
      "Proposing instructions...\n",
      "\n",
      "2025/03/26 01:03:48 INFO dspy.teleprompt.mipro_optimizer_v2: Proposed Instructions for Predictor 0:\n",
      "\n",
      "2025/03/26 01:03:48 INFO dspy.teleprompt.mipro_optimizer_v2: 0: Analyze species descriptions and extract trait information.\n",
      "\n",
      "2025/03/26 01:03:48 INFO dspy.teleprompt.mipro_optimizer_v2: 1: Annual or perennial\n",
      "\n",
      "2025/03/26 01:03:48 INFO dspy.teleprompt.mipro_optimizer_v2: 2: Analyze species description and extract trait information from the plant descriptions given. Please ensure that the JSON object follows the basic instruction structure and includes all necessary fields, with appropriate values for each field.\n",
      "\n",
      "2025/03/26 01:03:48 INFO dspy.teleprompt.mipro_optimizer_v2: 3: Analyzing species descriptions and extracting trait information from the text material provided. Please provide a JSON object with the following fields: `proposed_instruction`, indicating the order of fields to be included in the extracted trait information.\n",
      "\n",
      "2025/03/26 01:03:48 INFO dspy.teleprompt.mipro_optimizer_v2: 4: Analyzing species descriptions and extracting trait information from the given text: 1. Identify the plant family, genus, and species name. 2. Check if there are any common names or synonyms used for this plant family, genus, and species. 3. Determine whether the plant is native to a specific region or not. 4. Read the given text to identify the plant's size, shape, and color. 5. Scan the given text for any distinguishing features such as flower colors, leaf shapes, or fruit types. 6. Extract trait information from the text based on the species description. For example: In the text: \n",
      "\n",
      "2025/03/26 01:03:48 INFO dspy.teleprompt.mipro_optimizer_v2: 5: Analyze species description and extract trait information for the given text material, including but not limited to plant size, shape, texture, leaf characteristics, flower characteristics, fruit characteristics, habitat, and phenology. Please provide a JSON object in the following order of fields.\n",
      "\n",
      "2025/03/26 01:03:48 INFO dspy.teleprompt.mipro_optimizer_v2: 6: Analyzing species description and extracting trait information from text material:\n",
      "\n",
      "Text material: \n",
      "[INSERT TEXT HERE]\n",
      "\n",
      "Description: \n",
      "- Plant: Solidago ulmifolia (family Asteraceae) 40-120 cm; caudal when present similar to proximal cauliine, tapering (some times rather abruptly) to short, winged petiole, blade ovate-lancelat, 60-100(–150) × 30-40(–50) mm, gradually reduced distally, margin herbaceous in arrays; mid to distal cauliine subrectangular-secund with proximal branches elongate and widely divergent, sometimes pyramidal-secund with proximal branches short and recurved-secund, laxis (16-18) in 2-3 series; seed length 1-5 cm; fr. Inv. [INSERT TEXT HERE]\n",
      "\n",
      "2025/03/26 01:03:48 INFO dspy.teleprompt.mipro_optimizer_v2: 7: Analyzing species descriptions and extracting trait information for the plant Astrophytum asterias, Coreopsis tinctoria, and Coreopsis tinctoria, respectively. The new instruction will include analyzing the species descriptions, extracting trait information for each species, and providing a JSON object in the following order of fields: `plant_name`, `species_description`, `trait_1`, `trait_2`, `trait_3`, and `trait_4`. The trait information will be extracted from the plant descriptions provided by the user.\n",
      "\n",
      "2025/03/26 01:03:48 INFO dspy.teleprompt.mipro_optimizer_v2: 8: Extract trait information from plant species descriptions and analyze them using Python.\n",
      "\n",
      "2025/03/26 01:03:48 INFO dspy.teleprompt.mipro_optimizer_v2: 9: Analyzing species description and extracting trait information. Follow these steps to create a JSON object: 1. Open the text file containing the species descriptions and extract the relevant data using an appropriate script or program (e.g., Python, R, etc.). 2. Use the extracted data as input for this instruction. 3. Create a new JSON object with the following fields: 1. `proposed_instruction`: The name of the proposed instruction. 2. `text`: The text file containing the species descriptions and extracting data. 3. `type`: The type of the JSON object (e.g., \n",
      "\n",
      "2025/03/26 01:03:48 INFO dspy.teleprompt.mipro_optimizer_v2: 10: Analyzing species descriptions and extracting trait information from Plant Species Description Journal Database (PSDJ) and extracting trait information such as plant size, leaf shape, leaf length, leaf width, fruit type, and deciduousness. Extracting trait information should be done for at least 10 different plant species in the PSDJ database, with each trait being extracted for a minimum of 5 distinct plant species. The extracted traits should also include their corresponding phenological seasons (Jun-Aug) and elevation ranges (0-1500m). Finally, extracting trait information should be done using Python programming language.\n",
      "\n",
      "2025/03/26 01:03:48 INFO dspy.teleprompt.mipro_optimizer_v2: 11: Here are some species descriptions and their trait information extracted from scientific literature: 1. Annuals, 2. Stems, 3. Leaves basal and cauliine, 4. Glomerules in 3-4 cm, 5. Involucre 0.4-0.5 mm, 6. Phenology Mar-Jun, 7. Deciduousness, 8. Plant height (1-200 m), 9. Habitat woodlands, thickets, mosst soil, roads, ditches, stream banks, cedar glades, Elvation 10-200 m, trait information: Cypse lae 0.4-0.5 mm, frutet 3-3.5 cm, seed length 1.8-2.8 cm, leaf shape triangular-deltate, frutet type bisexual or at least bisexual, seed length (transparent) 0.4-0.5 mm, deciduous 1-200 m\n",
      "\n",
      "2025/03/26 01:03:48 INFO dspy.teleprompt.mipro_optimizer_v2: 12: Analyze species description and extract trait information from plant species descriptions. Solve high-stakes scenario by analyzing plant species descriptions and extracting trait information.\n",
      "\n",
      "2025/03/26 01:03:48 INFO dspy.teleprompt.mipro_optimizer_v2: 13: Analyzing species descriptions and extracting trait information from the text material provided\n",
      "\n",
      "2025/03/26 01:03:48 INFO dspy.teleprompt.mipro_optimizer_v2: 14: Analyze species description and extract trait information from a list of plant species descriptions, including plant name, genus, species, height, leaf shape, leaf length, width, leaf thickness, seed length, seed width, deciduousness, phenology, habitat, elevation, and photo. Extract trait information for at least three different plant species and provide an annotated list of all extracted traits.\n",
      "\n",
      "2025/03/26 01:03:48 INFO dspy.teleprompt.mipro_optimizer_v2: 15: Analyzing species description and extract trait information\n",
      "\n",
      "2025/03/26 01:03:48 INFO dspy.teleprompt.mipro_optimizer_v2: 16: Analyzing species descriptions and extracting trait information for at least 5 plant species from the text provided. The task is to identify and extract trait information such as plant size, shape, leaf shape, leaf length, width, thickness, fruit type, fruit size, fruit shape, and deciduousness. The persona should be relevant to the task in the instruction (ie. \n",
      "\n",
      "2025/03/26 01:03:48 INFO dspy.teleprompt.mipro_optimizer_v2: 17: Analyzing species descriptions and extracting trait information from the text material provided. The instructions should be presented in a high-stakes scenario, where the LM must solve the task within a given time limit.\n",
      "\n",
      "2025/03/26 01:03:48 INFO dspy.teleprompt.mipro_optimizer_v2: 18: Extract trait information from species descriptions and analyze them using a high-stakes scenario.\n",
      "\n",
      "2025/03/26 01:03:48 INFO dspy.teleprompt.mipro_optimizer_v2: \n",
      "\n",
      "2025/03/26 01:03:48 INFO dspy.teleprompt.mipro_optimizer_v2: ==> STEP 3: FINDING OPTIMAL PROMPT PARAMETERS <==\n",
      "2025/03/26 01:03:48 INFO dspy.teleprompt.mipro_optimizer_v2: We will evaluate the program over a series of trials with different combinations of instructions and few-shot examples to find the optimal combination using Bayesian Optimization.\n",
      "\n",
      "2025/03/26 01:03:48 INFO dspy.teleprompt.mipro_optimizer_v2: == Trial 1 / 25 - Full Evaluation of Default Program ==\n"
     ]
    },
    {
     "name": "stdout",
     "output_type": "stream",
     "text": [
      "Average Metric: 8.48 / 32 (26.5%): 100%|███████████████████████████████████████████| 32/32 [01:06<00:00,  2.09s/it]"
     ]
    },
    {
     "name": "stderr",
     "output_type": "stream",
     "text": [
      "2025/03/26 01:04:55 INFO dspy.evaluate.evaluate: Average Metric: 8.477125421134872 / 32 (26.5%)\n",
      "2025/03/26 01:04:55 INFO dspy.teleprompt.mipro_optimizer_v2: Default program score: 26.49\n",
      "\n",
      "/srv/work/rafe/language_models/ConservationConcernFlorida/.venv/lib/python3.12/site-packages/optuna/_experimental.py:31: ExperimentalWarning: Argument ``multivariate`` is an experimental feature. The interface can change in the future.\n",
      "  warnings.warn(\n",
      "2025/03/26 01:04:55 INFO dspy.teleprompt.mipro_optimizer_v2: ===== Trial 2 / 25 =====\n"
     ]
    },
    {
     "name": "stdout",
     "output_type": "stream",
     "text": [
      "\n",
      "Average Metric: 19.61 / 32 (61.3%): 100%|██████████████████████████████████████████| 32/32 [00:52<00:00,  1.65s/it]"
     ]
    },
    {
     "name": "stderr",
     "output_type": "stream",
     "text": [
      "2025/03/26 01:05:48 INFO dspy.evaluate.evaluate: Average Metric: 19.612841503517586 / 32 (61.3%)\n",
      "2025/03/26 01:05:48 INFO dspy.teleprompt.mipro_optimizer_v2: \u001b[92mBest full score so far!\u001b[0m Score: 61.29\n",
      "2025/03/26 01:05:48 INFO dspy.teleprompt.mipro_optimizer_v2: Score: 61.29 with parameters ['Predictor 0: Instruction 12', 'Predictor 0: Few-Shot Set 7'].\n",
      "2025/03/26 01:05:48 INFO dspy.teleprompt.mipro_optimizer_v2: Scores so far: [26.49, 61.29]\n",
      "2025/03/26 01:05:48 INFO dspy.teleprompt.mipro_optimizer_v2: Best score so far: 61.29\n",
      "2025/03/26 01:05:48 INFO dspy.teleprompt.mipro_optimizer_v2: ========================\n",
      "\n",
      "\n",
      "2025/03/26 01:05:48 INFO dspy.teleprompt.mipro_optimizer_v2: ===== Trial 3 / 25 =====\n"
     ]
    },
    {
     "name": "stdout",
     "output_type": "stream",
     "text": [
      "\n",
      "Average Metric: 18.54 / 32 (57.9%): 100%|██████████████████████████████████████████| 32/32 [01:01<00:00,  1.93s/it]"
     ]
    },
    {
     "name": "stderr",
     "output_type": "stream",
     "text": [
      "2025/03/26 01:06:50 INFO dspy.evaluate.evaluate: Average Metric: 18.536397659984296 / 32 (57.9%)\n",
      "2025/03/26 01:06:50 INFO dspy.teleprompt.mipro_optimizer_v2: Score: 57.93 with parameters ['Predictor 0: Instruction 10', 'Predictor 0: Few-Shot Set 7'].\n",
      "2025/03/26 01:06:50 INFO dspy.teleprompt.mipro_optimizer_v2: Scores so far: [26.49, 61.29, 57.93]\n",
      "2025/03/26 01:06:50 INFO dspy.teleprompt.mipro_optimizer_v2: Best score so far: 61.29\n",
      "2025/03/26 01:06:50 INFO dspy.teleprompt.mipro_optimizer_v2: ========================\n",
      "\n",
      "\n",
      "2025/03/26 01:06:50 INFO dspy.teleprompt.mipro_optimizer_v2: ===== Trial 4 / 25 =====\n"
     ]
    },
    {
     "name": "stdout",
     "output_type": "stream",
     "text": [
      "\n",
      "Average Metric: 18.54 / 31 (59.8%):  97%|████████████████████████████████████████▋ | 31/32 [01:11<00:01,  1.59s/it]"
     ]
    },
    {
     "name": "stderr",
     "output_type": "stream",
     "text": [
      "2025/03/26 01:08:01 ERROR dspy.utils.parallelizer: Error processing item Example({'family': 'Asteraceae', 'taxon': 'Chrysopsis gossypina', 'text': '<b>Biennials,</b> or short-lived perennials, 20–70 cm; taprooted (propagating by basal rosettes at proximalmost nodes of old stems and at ends of rhizomes and roots). <b>Stems</b> 1–5(–80 in subsp. cruiseana; from rosette), procumbent, ascending, or erect (sometimes purple-tinged), simple or branched, glabrous or densely woolly, proximally often sparsely glandular, distally sometimes densely so or eglandular. <b>Leaves</b>: (perennating rosettes often sparsely woolly); basal sessile, blades oblanceolate, 3–10 × 1–3 cm, margins sometimes apically dentate, faces sparsely to densely long-woolly; cauline leaves spreading to ascending, blades linear to linear-lanceolate, oblanceolate, oblong, or ovate-elliptic, reduced distally, margins entire, piloso-ciliate, apices obtuse to acute, sometimes mucronate, faces sparsely to densely woolly, sometimes glabrescent. <b>Heads</b> 1–30 in compact to lax subumbelliform to corymbiform arrays. <b>Peduncles</b> 1–6 cm, glabrous, woolly, or sparsely to densely stipitate-glandular; bracts and bracteoles oblong to lanceolate or linear (margins often ciliate), glabrous or woolly, eglandular or sparsely to densely stipitate-glandular. <b>Involucres</b> campanulate to hemispheric, 8–13 mm. <b>Phyllaries</b> in 4–5 series, linear to linear-oblanceolate, 0.6–1.1 mm wide, strongly to weakly unequal, apices usually appressed, sometimes spreading or recurved, usually acute, sometimes attenuate, faces usually glabrate, sparsely to densely woolly, or sparsely to densely stipitate-glandular, rarely eglandular. <b>Ray</b> florets (9–)16–30; laminae 7–12 × 1.5–3 mm. <b>Disc</b> florets 25–70; corollas 6–7.5 mm, lobes 0.5–1 mm. <b>Cypselae</b> 2.5–3 mm, 0–6-ridged (ridges yellow to red-brown, translucent, clavate), shallowly ribbed, faces sparsely long-strigose; pappi in 3 series, outer of linear to linear-triangular scales 0.5–1 mm, inner of 25–35 bristles 5–8 mm, inner weakly clavate. <b>2n</b> = 18.', 'prompt': '\\n    What is the plant size,\\n    leaf shape, leaf length, leaf width, leaf thickness,\\n    seed length, seed width,\\n    fruit type, fruit length, fruit width,\\n    deciduousness, phenology, habitat, elevation?\\n    If it is not mentioned return an empty value.\\n    ', 'plant_height': '20–70 cm', 'leaf_shape': 'rosettes often sparsely woolly); basal sessile, blades oblanceolate', 'leaf_length': '3–10 cm', 'leaf_width': '1–3 cm', 'leaf_thickness': '', 'fruit_type': 'Cypselae', 'fruit_length': '2.5–3 mm', 'fruit_width': '', 'seed_length': '', 'seed_width': '', 'deciduousness': '', 'phenology': '', 'habitat': '', 'elevation': ''}) (input_keys={'taxon', 'prompt', 'text', 'family'}): Expected dict_keys(['plant_height', 'leaf_shape', 'leaf_length', 'leaf_width', 'leaf_thickness', 'fruit_type', 'fruit_length', 'fruit_width', 'seed_length', 'seed_width', 'deciduousness', 'phenology', 'habitat', 'elevation']) but got dict_keys(['plant_height', 'leaf_shape', 'leaf_length']). Set `provide_traceback=True` to see the stack trace.\n"
     ]
    },
    {
     "name": "stdout",
     "output_type": "stream",
     "text": [
      "Average Metric: 18.54 / 31 (59.8%): 100%|██████████████████████████████████████████| 32/32 [01:11<00:00,  2.24s/it]"
     ]
    },
    {
     "name": "stderr",
     "output_type": "stream",
     "text": [
      "2025/03/26 01:08:01 INFO dspy.evaluate.evaluate: Average Metric: 18.536314164758334 / 32 (57.9%)\n",
      "2025/03/26 01:08:01 INFO dspy.teleprompt.mipro_optimizer_v2: Score: 57.93 with parameters ['Predictor 0: Instruction 7', 'Predictor 0: Few-Shot Set 18'].\n",
      "2025/03/26 01:08:01 INFO dspy.teleprompt.mipro_optimizer_v2: Scores so far: [26.49, 61.29, 57.93, 57.93]\n",
      "2025/03/26 01:08:01 INFO dspy.teleprompt.mipro_optimizer_v2: Best score so far: 61.29\n",
      "2025/03/26 01:08:01 INFO dspy.teleprompt.mipro_optimizer_v2: ========================\n",
      "\n",
      "\n",
      "2025/03/26 01:08:01 INFO dspy.teleprompt.mipro_optimizer_v2: ===== Trial 5 / 25 =====\n"
     ]
    },
    {
     "name": "stdout",
     "output_type": "stream",
     "text": [
      "\n",
      "Average Metric: 21.69 / 32 (67.8%): 100%|██████████████████████████████████████████| 32/32 [00:56<00:00,  1.78s/it]"
     ]
    },
    {
     "name": "stderr",
     "output_type": "stream",
     "text": [
      "2025/03/26 01:08:58 INFO dspy.evaluate.evaluate: Average Metric: 21.694669864561444 / 32 (67.8%)\n",
      "2025/03/26 01:08:58 INFO dspy.teleprompt.mipro_optimizer_v2: \u001b[92mBest full score so far!\u001b[0m Score: 67.8\n",
      "2025/03/26 01:08:58 INFO dspy.teleprompt.mipro_optimizer_v2: Score: 67.8 with parameters ['Predictor 0: Instruction 15', 'Predictor 0: Few-Shot Set 2'].\n",
      "2025/03/26 01:08:58 INFO dspy.teleprompt.mipro_optimizer_v2: Scores so far: [26.49, 61.29, 57.93, 57.93, 67.8]\n",
      "2025/03/26 01:08:58 INFO dspy.teleprompt.mipro_optimizer_v2: Best score so far: 67.8\n",
      "2025/03/26 01:08:58 INFO dspy.teleprompt.mipro_optimizer_v2: ========================\n",
      "\n",
      "\n",
      "2025/03/26 01:08:58 INFO dspy.teleprompt.mipro_optimizer_v2: ===== Trial 6 / 25 =====\n"
     ]
    },
    {
     "name": "stdout",
     "output_type": "stream",
     "text": [
      "\n",
      "Average Metric: 19.91 / 32 (62.2%): 100%|████████████████████████████████████████████████████████████████████████████████████████████████████| 32/32 [00:52<00:00,  1.65s/it]"
     ]
    },
    {
     "name": "stderr",
     "output_type": "stream",
     "text": [
      "2025/03/26 01:09:51 INFO dspy.evaluate.evaluate: Average Metric: 19.911536248065033 / 32 (62.2%)\n",
      "2025/03/26 01:09:51 INFO dspy.teleprompt.mipro_optimizer_v2: Score: 62.22 with parameters ['Predictor 0: Instruction 8', 'Predictor 0: Few-Shot Set 18'].\n",
      "2025/03/26 01:09:51 INFO dspy.teleprompt.mipro_optimizer_v2: Scores so far: [26.49, 61.29, 57.93, 57.93, 67.8, 62.22]\n",
      "2025/03/26 01:09:51 INFO dspy.teleprompt.mipro_optimizer_v2: Best score so far: 67.8\n",
      "2025/03/26 01:09:51 INFO dspy.teleprompt.mipro_optimizer_v2: ========================\n",
      "\n",
      "\n",
      "2025/03/26 01:09:51 INFO dspy.teleprompt.mipro_optimizer_v2: ===== Trial 7 / 25 =====\n"
     ]
    },
    {
     "name": "stdout",
     "output_type": "stream",
     "text": [
      "\n",
      "Average Metric: 14.04 / 24 (58.5%):  75%|███████████████████████████████████████████████████████████████████████████                         | 24/32 [00:53<00:13,  1.67s/it]"
     ]
    },
    {
     "name": "stderr",
     "output_type": "stream",
     "text": [
      "2025/03/26 01:10:48 ERROR dspy.utils.parallelizer: Error processing item Example({'family': 'Asteraceae', 'taxon': 'Cirsium lecontei', 'text': '<b>Perennials </b>but sometimes appearing biennial, 35–110 cm; taproots, sometimes with root sprouts. <b>Stems</b> 1–few, erect, distal 1/2 nearly naked, loosely arachnoid; branches 0–5(–10), stiffly ascending. <b>Leaves</b>: blades linear to oblong or narrowly elliptic, 15–25 × 1–4 cm, coarsely toothed to shallowly pinnatifid, lobes undivided or coarsely few-toothed, main spines 3–6 mm, abaxial faces often ± glabrate, loosely arachnoid when young, adaxial glabrous or sparingly villous with coarse, multicellular trichomes; basal sometimes absent at flowering, petiolate; principal cauline sessile, progressively reduced distally, bases clasping or ± decurrent; distal cauline few, widely separated, bractlike. <b>Heads</b> borne singly or less commonly 2–5(–10) in open, corymbiform arrays. <b>Peduncles</b> 5–30 cm (elevated above cauline leaves, not subtended by ring of involucre-like bracts). <b>Involucres</b> broadly cylindric to campanulate, 2.5–4 × 1.5–4 cm, loosely arachnoid, ± glabrate. <b>Phyllaries</b> in 6–10 series, imbricate, ovate or lanceolate (outer) to linear-lanceolate (inner), abaxial faces with prominent glutinous ridge, outer and middle tightly appressed, margins spinulose-serrulate, spines ascending, 0.5–2 mm; apices of inner flat, linear- acuminate. <b>Corollas</b> pink-purple, 22–45 mm, tubes 10–23 mm, throats 8–14 mm, lobes 7–10 mm; style tips 4–5 mm. <b>Cypselae</b> light brown, 5–5.75 mm, apical collars paler than body, ca. 0.75 mm; pappi 20–40 mm. <b>2n</b> = 28, 32.\\nPhenology: Flowering spring–summer (May–Aug).\\nHabitat: Sandy pinelands of coastal plain, often in damp soil\\nElevation: 0–150 m', 'prompt': '\\n    What is the plant size,\\n    leaf shape, leaf length, leaf width, leaf thickness,\\n    seed length, seed width,\\n    fruit type, fruit length, fruit width,\\n    deciduousness, phenology, habitat, elevation?\\n    If it is not mentioned return an empty value.\\n    ', 'plant_height': '35–110 cm', 'leaf_shape': 'linear to oblong or narrowly elliptic', 'leaf_length': '15–25 cm', 'leaf_width': '1–4 cm', 'leaf_thickness': '', 'fruit_type': 'Cypselae', 'fruit_length': '5–5.75 mm', 'fruit_width': '', 'seed_length': '', 'seed_width': '', 'deciduousness': '', 'phenology': 'Flowering spring–summer (May–Aug)', 'habitat': 'Sandy pinelands of coastal plain, often in damp soil', 'elevation': '0–150 m'}) (input_keys={'taxon', 'prompt', 'text', 'family'}): Expected dict_keys(['plant_height', 'leaf_shape', 'leaf_length', 'leaf_width', 'leaf_thickness', 'fruit_type', 'fruit_length', 'fruit_width', 'seed_length', 'seed_width', 'deciduousness', 'phenology', 'habitat', 'elevation']) but got dict_keys(['plant_height', 'leaf_shape', 'leaf_length', 'leaf_width', 'leaf_thickness', 'fruit_type', 'fruit_length']). Set `provide_traceback=True` to see the stack trace.\n"
     ]
    },
    {
     "name": "stdout",
     "output_type": "stream",
     "text": [
      "Average Metric: 17.93 / 30 (59.8%):  97%|████████████████████████████████████████████████████████████████████████████████████████████████▉   | 31/32 [01:11<00:01,  1.99s/it]"
     ]
    },
    {
     "name": "stderr",
     "output_type": "stream",
     "text": [
      "2025/03/26 01:11:03 ERROR dspy.utils.parallelizer: Error processing item Example({'family': 'Asteraceae', 'taxon': 'Chrysopsis gossypina', 'text': '<b>Biennials,</b> or short-lived perennials, 20–70 cm; taprooted (propagating by basal rosettes at proximalmost nodes of old stems and at ends of rhizomes and roots). <b>Stems</b> 1–5(–80 in subsp. cruiseana; from rosette), procumbent, ascending, or erect (sometimes purple-tinged), simple or branched, glabrous or densely woolly, proximally often sparsely glandular, distally sometimes densely so or eglandular. <b>Leaves</b>: (perennating rosettes often sparsely woolly); basal sessile, blades oblanceolate, 3–10 × 1–3 cm, margins sometimes apically dentate, faces sparsely to densely long-woolly; cauline leaves spreading to ascending, blades linear to linear-lanceolate, oblanceolate, oblong, or ovate-elliptic, reduced distally, margins entire, piloso-ciliate, apices obtuse to acute, sometimes mucronate, faces sparsely to densely woolly, sometimes glabrescent. <b>Heads</b> 1–30 in compact to lax subumbelliform to corymbiform arrays. <b>Peduncles</b> 1–6 cm, glabrous, woolly, or sparsely to densely stipitate-glandular; bracts and bracteoles oblong to lanceolate or linear (margins often ciliate), glabrous or woolly, eglandular or sparsely to densely stipitate-glandular. <b>Involucres</b> campanulate to hemispheric, 8–13 mm. <b>Phyllaries</b> in 4–5 series, linear to linear-oblanceolate, 0.6–1.1 mm wide, strongly to weakly unequal, apices usually appressed, sometimes spreading or recurved, usually acute, sometimes attenuate, faces usually glabrate, sparsely to densely woolly, or sparsely to densely stipitate-glandular, rarely eglandular. <b>Ray</b> florets (9–)16–30; laminae 7–12 × 1.5–3 mm. <b>Disc</b> florets 25–70; corollas 6–7.5 mm, lobes 0.5–1 mm. <b>Cypselae</b> 2.5–3 mm, 0–6-ridged (ridges yellow to red-brown, translucent, clavate), shallowly ribbed, faces sparsely long-strigose; pappi in 3 series, outer of linear to linear-triangular scales 0.5–1 mm, inner of 25–35 bristles 5–8 mm, inner weakly clavate. <b>2n</b> = 18.', 'prompt': '\\n    What is the plant size,\\n    leaf shape, leaf length, leaf width, leaf thickness,\\n    seed length, seed width,\\n    fruit type, fruit length, fruit width,\\n    deciduousness, phenology, habitat, elevation?\\n    If it is not mentioned return an empty value.\\n    ', 'plant_height': '20–70 cm', 'leaf_shape': 'rosettes often sparsely woolly); basal sessile, blades oblanceolate', 'leaf_length': '3–10 cm', 'leaf_width': '1–3 cm', 'leaf_thickness': '', 'fruit_type': 'Cypselae', 'fruit_length': '2.5–3 mm', 'fruit_width': '', 'seed_length': '', 'seed_width': '', 'deciduousness': '', 'phenology': '', 'habitat': '', 'elevation': ''}) (input_keys={'taxon', 'prompt', 'text', 'family'}): Expected dict_keys(['plant_height', 'leaf_shape', 'leaf_length', 'leaf_width', 'leaf_thickness', 'fruit_type', 'fruit_length', 'fruit_width', 'seed_length', 'seed_width', 'deciduousness', 'phenology', 'habitat', 'elevation']) but got dict_keys(['plant_height', 'leaf_shape', 'leaf_length']). Set `provide_traceback=True` to see the stack trace.\n"
     ]
    },
    {
     "name": "stdout",
     "output_type": "stream",
     "text": [
      "Average Metric: 17.93 / 30 (59.8%): 100%|████████████████████████████████████████████████████████████████████████████████████████████████████| 32/32 [01:12<00:00,  2.26s/it]"
     ]
    },
    {
     "name": "stderr",
     "output_type": "stream",
     "text": [
      "2025/03/26 01:11:03 INFO dspy.evaluate.evaluate: Average Metric: 17.925758183899664 / 32 (56.0%)\n",
      "2025/03/26 01:11:03 INFO dspy.teleprompt.mipro_optimizer_v2: Score: 56.02 with parameters ['Predictor 0: Instruction 7', 'Predictor 0: Few-Shot Set 1'].\n",
      "2025/03/26 01:11:03 INFO dspy.teleprompt.mipro_optimizer_v2: Scores so far: [26.49, 61.29, 57.93, 57.93, 67.8, 62.22, 56.02]\n",
      "2025/03/26 01:11:03 INFO dspy.teleprompt.mipro_optimizer_v2: Best score so far: 67.8\n",
      "2025/03/26 01:11:03 INFO dspy.teleprompt.mipro_optimizer_v2: ========================\n",
      "\n",
      "\n",
      "2025/03/26 01:11:03 INFO dspy.teleprompt.mipro_optimizer_v2: ===== Trial 8 / 25 =====\n"
     ]
    },
    {
     "name": "stdout",
     "output_type": "stream",
     "text": [
      "\n",
      "Average Metric: 21.15 / 32 (66.1%): 100%|████████████████████████████████████████████████████████████████████████████████████████████████████| 32/32 [01:04<00:00,  2.01s/it]"
     ]
    },
    {
     "name": "stderr",
     "output_type": "stream",
     "text": [
      "2025/03/26 01:12:08 INFO dspy.evaluate.evaluate: Average Metric: 21.152850761075044 / 32 (66.1%)\n",
      "2025/03/26 01:12:08 INFO dspy.teleprompt.mipro_optimizer_v2: Score: 66.1 with parameters ['Predictor 0: Instruction 7', 'Predictor 0: Few-Shot Set 12'].\n",
      "2025/03/26 01:12:08 INFO dspy.teleprompt.mipro_optimizer_v2: Scores so far: [26.49, 61.29, 57.93, 57.93, 67.8, 62.22, 56.02, 66.1]\n",
      "2025/03/26 01:12:08 INFO dspy.teleprompt.mipro_optimizer_v2: Best score so far: 67.8\n",
      "2025/03/26 01:12:08 INFO dspy.teleprompt.mipro_optimizer_v2: ========================\n",
      "\n",
      "\n",
      "2025/03/26 01:12:08 INFO dspy.teleprompt.mipro_optimizer_v2: ===== Trial 9 / 25 =====\n"
     ]
    },
    {
     "name": "stdout",
     "output_type": "stream",
     "text": [
      "\n",
      "Average Metric: 16.91 / 32 (52.8%): 100%|████████████████████████████████████████████████████████████████████████████████████████████████████| 32/32 [01:04<00:00,  2.01s/it]"
     ]
    },
    {
     "name": "stderr",
     "output_type": "stream",
     "text": [
      "2025/03/26 01:13:12 INFO dspy.evaluate.evaluate: Average Metric: 16.90918756295127 / 32 (52.8%)\n",
      "2025/03/26 01:13:12 INFO dspy.teleprompt.mipro_optimizer_v2: Score: 52.84 with parameters ['Predictor 0: Instruction 11', 'Predictor 0: Few-Shot Set 13'].\n",
      "2025/03/26 01:13:12 INFO dspy.teleprompt.mipro_optimizer_v2: Scores so far: [26.49, 61.29, 57.93, 57.93, 67.8, 62.22, 56.02, 66.1, 52.84]\n",
      "2025/03/26 01:13:12 INFO dspy.teleprompt.mipro_optimizer_v2: Best score so far: 67.8\n",
      "2025/03/26 01:13:12 INFO dspy.teleprompt.mipro_optimizer_v2: ========================\n",
      "\n",
      "\n",
      "2025/03/26 01:13:12 INFO dspy.teleprompt.mipro_optimizer_v2: ===== Trial 10 / 25 =====\n"
     ]
    },
    {
     "name": "stdout",
     "output_type": "stream",
     "text": [
      "\n",
      "Average Metric: 22.06 / 32 (68.9%): 100%|████████████████████████████████████████████████████████████████████████████████████████████████████| 32/32 [00:54<00:00,  1.71s/it]"
     ]
    },
    {
     "name": "stderr",
     "output_type": "stream",
     "text": [
      "2025/03/26 01:14:07 INFO dspy.evaluate.evaluate: Average Metric: 22.057269060555637 / 32 (68.9%)\n",
      "2025/03/26 01:14:07 INFO dspy.teleprompt.mipro_optimizer_v2: \u001b[92mBest full score so far!\u001b[0m Score: 68.93\n",
      "2025/03/26 01:14:07 INFO dspy.teleprompt.mipro_optimizer_v2: Score: 68.93 with parameters ['Predictor 0: Instruction 5', 'Predictor 0: Few-Shot Set 4'].\n",
      "2025/03/26 01:14:07 INFO dspy.teleprompt.mipro_optimizer_v2: Scores so far: [26.49, 61.29, 57.93, 57.93, 67.8, 62.22, 56.02, 66.1, 52.84, 68.93]\n",
      "2025/03/26 01:14:07 INFO dspy.teleprompt.mipro_optimizer_v2: Best score so far: 68.93\n",
      "2025/03/26 01:14:07 INFO dspy.teleprompt.mipro_optimizer_v2: =========================\n",
      "\n",
      "\n",
      "2025/03/26 01:14:07 INFO dspy.teleprompt.mipro_optimizer_v2: ===== Trial 11 / 25 =====\n"
     ]
    },
    {
     "name": "stdout",
     "output_type": "stream",
     "text": [
      "\n",
      "Average Metric: 21.30 / 30 (71.0%):  94%|█████████████████████████████████████████████████████████████████████████████████████████████▊      | 30/32 [00:48<00:02,  1.15s/it]"
     ]
    },
    {
     "name": "stderr",
     "output_type": "stream",
     "text": [
      "2025/03/26 01:14:58 ERROR dspy.utils.parallelizer: Error processing item Example({'family': 'Asteraceae', 'taxon': 'Chrysopsis gossypina', 'text': '<b>Biennials,</b> or short-lived perennials, 20–70 cm; taprooted (propagating by basal rosettes at proximalmost nodes of old stems and at ends of rhizomes and roots). <b>Stems</b> 1–5(–80 in subsp. cruiseana; from rosette), procumbent, ascending, or erect (sometimes purple-tinged), simple or branched, glabrous or densely woolly, proximally often sparsely glandular, distally sometimes densely so or eglandular. <b>Leaves</b>: (perennating rosettes often sparsely woolly); basal sessile, blades oblanceolate, 3–10 × 1–3 cm, margins sometimes apically dentate, faces sparsely to densely long-woolly; cauline leaves spreading to ascending, blades linear to linear-lanceolate, oblanceolate, oblong, or ovate-elliptic, reduced distally, margins entire, piloso-ciliate, apices obtuse to acute, sometimes mucronate, faces sparsely to densely woolly, sometimes glabrescent. <b>Heads</b> 1–30 in compact to lax subumbelliform to corymbiform arrays. <b>Peduncles</b> 1–6 cm, glabrous, woolly, or sparsely to densely stipitate-glandular; bracts and bracteoles oblong to lanceolate or linear (margins often ciliate), glabrous or woolly, eglandular or sparsely to densely stipitate-glandular. <b>Involucres</b> campanulate to hemispheric, 8–13 mm. <b>Phyllaries</b> in 4–5 series, linear to linear-oblanceolate, 0.6–1.1 mm wide, strongly to weakly unequal, apices usually appressed, sometimes spreading or recurved, usually acute, sometimes attenuate, faces usually glabrate, sparsely to densely woolly, or sparsely to densely stipitate-glandular, rarely eglandular. <b>Ray</b> florets (9–)16–30; laminae 7–12 × 1.5–3 mm. <b>Disc</b> florets 25–70; corollas 6–7.5 mm, lobes 0.5–1 mm. <b>Cypselae</b> 2.5–3 mm, 0–6-ridged (ridges yellow to red-brown, translucent, clavate), shallowly ribbed, faces sparsely long-strigose; pappi in 3 series, outer of linear to linear-triangular scales 0.5–1 mm, inner of 25–35 bristles 5–8 mm, inner weakly clavate. <b>2n</b> = 18.', 'prompt': '\\n    What is the plant size,\\n    leaf shape, leaf length, leaf width, leaf thickness,\\n    seed length, seed width,\\n    fruit type, fruit length, fruit width,\\n    deciduousness, phenology, habitat, elevation?\\n    If it is not mentioned return an empty value.\\n    ', 'plant_height': '20–70 cm', 'leaf_shape': 'rosettes often sparsely woolly); basal sessile, blades oblanceolate', 'leaf_length': '3–10 cm', 'leaf_width': '1–3 cm', 'leaf_thickness': '', 'fruit_type': 'Cypselae', 'fruit_length': '2.5–3 mm', 'fruit_width': '', 'seed_length': '', 'seed_width': '', 'deciduousness': '', 'phenology': '', 'habitat': '', 'elevation': ''}) (input_keys={'taxon', 'prompt', 'text', 'family'}): Expected dict_keys(['plant_height', 'leaf_shape', 'leaf_length', 'leaf_width', 'leaf_thickness', 'fruit_type', 'fruit_length', 'fruit_width', 'seed_length', 'seed_width', 'deciduousness', 'phenology', 'habitat', 'elevation']) but got dict_keys(['plant_height', 'leaf_shape', 'leaf_length', 'leaf_width', 'leaf_thickness', 'fruit_type', 'fruit_length', 'fruit_width', 'seed_length', 'seed_width', 'deciduousness', 'phenology', 'habitat']). Set `provide_traceback=True` to see the stack trace.\n"
     ]
    },
    {
     "name": "stdout",
     "output_type": "stream",
     "text": [
      "Average Metric: 22.03 / 31 (71.1%): 100%|████████████████████████████████████████████████████████████████████████████████████████████████████| 32/32 [00:51<00:00,  1.61s/it]"
     ]
    },
    {
     "name": "stderr",
     "output_type": "stream",
     "text": [
      "2025/03/26 01:14:59 INFO dspy.evaluate.evaluate: Average Metric: 22.034054150676727 / 32 (68.9%)\n",
      "2025/03/26 01:14:59 INFO dspy.teleprompt.mipro_optimizer_v2: Score: 68.86 with parameters ['Predictor 0: Instruction 2', 'Predictor 0: Few-Shot Set 4'].\n",
      "2025/03/26 01:14:59 INFO dspy.teleprompt.mipro_optimizer_v2: Scores so far: [26.49, 61.29, 57.93, 57.93, 67.8, 62.22, 56.02, 66.1, 52.84, 68.93, 68.86]\n",
      "2025/03/26 01:14:59 INFO dspy.teleprompt.mipro_optimizer_v2: Best score so far: 68.93\n",
      "2025/03/26 01:14:59 INFO dspy.teleprompt.mipro_optimizer_v2: =========================\n",
      "\n",
      "\n",
      "2025/03/26 01:14:59 INFO dspy.teleprompt.mipro_optimizer_v2: ===== Trial 12 / 25 =====\n"
     ]
    },
    {
     "name": "stdout",
     "output_type": "stream",
     "text": [
      "\n",
      "Average Metric: 16.75 / 24 (69.8%):  75%|███████████████████████████████████████████████████████████████████████████                         | 24/32 [00:49<00:16,  2.01s/it]"
     ]
    },
    {
     "name": "stderr",
     "output_type": "stream",
     "text": [
      "2025/03/26 01:15:50 ERROR dspy.utils.parallelizer: Error processing item Example({'family': 'Asteraceae', 'taxon': 'Liatris pauciflora', 'text': '<b>Plants </b>20–90 cm. <b>Corms</b> globose, sometimes depressed or elongate. <b>Stems</b> minutely puberulent-hirtellous (hairs spreading to slightly deflexed) or glabrous. <b>Leaves</b>: basal and proximal cauline 1-nerved, narrowly oblanceolate to linear-oblanceolate, 40–120 × 2–7 mm, gradually or abruptly reduced distally (continuing as linear, mostly 10–40 mm bracts), hispidulous-hirtellous or glabrous, weakly, if at all, gland-dotted (glandular hairs not evident, proximal margins sometimes ciliate). <b>Heads</b> in dense, racemiform to spiciform (strongly secund) arrays. <b>Peduncles</b> 0 or (ascending) 1–8 mm. <b>Involucres</b> cylindric, 11–15 × 4–7 mm. <b>Phyllaries</b> in 3–4 series, mostly oblong to oblong-oblanceolate, unequal, essentially glabrous, margins with hyaline borders, apices acute (sometimes with mucros or apicula). <b>Florets</b> 3–6; corolla tubes pilose inside. <b>Cypselae</b> 3–4.5 mm; pappi: lengths ± equaling corollas, bristles barbellate.', 'prompt': '\\n    What is the plant size,\\n    leaf shape, leaf length, leaf width, leaf thickness,\\n    seed length, seed width,\\n    fruit type, fruit length, fruit width,\\n    deciduousness, phenology, habitat, elevation?\\n    If it is not mentioned return an empty value.\\n    ', 'plant_height': '20–90 cm', 'leaf_shape': 'oblanceolate to linear-oblanceolate', 'leaf_length': '40–120 mm', 'leaf_width': '2–7 mm', 'leaf_thickness': '', 'fruit_type': 'Cypselae', 'fruit_length': '3–4.5 mm', 'fruit_width': '', 'seed_length': '', 'seed_width': '', 'deciduousness': '', 'phenology': '', 'habitat': '', 'elevation': ''}) (input_keys={'taxon', 'prompt', 'text', 'family'}): Expected dict_keys(['plant_height', 'leaf_shape', 'leaf_length', 'leaf_width', 'leaf_thickness', 'fruit_type', 'fruit_length', 'fruit_width', 'seed_length', 'seed_width', 'deciduousness', 'phenology', 'habitat', 'elevation']) but got dict_keys(['plant_height', 'leaf_shape', 'leaf_length', 'leaf_width', 'leaf_thickness', 'fruit_type', 'fruit_length', 'fruit_width', 'seed_length', 'seed_width', 'deciduousness', 'phenology', 'habitat']). Set `provide_traceback=True` to see the stack trace.\n"
     ]
    },
    {
     "name": "stdout",
     "output_type": "stream",
     "text": [
      "Average Metric: 21.65 / 31 (69.8%): 100%|████████████████████████████████████████████████████████████████████████████████████████████████████| 32/32 [00:58<00:00,  1.82s/it]"
     ]
    },
    {
     "name": "stderr",
     "output_type": "stream",
     "text": [
      "2025/03/26 01:15:57 INFO dspy.evaluate.evaluate: Average Metric: 21.651652542517883 / 32 (67.7%)\n",
      "2025/03/26 01:15:57 INFO dspy.teleprompt.mipro_optimizer_v2: Score: 67.66 with parameters ['Predictor 0: Instruction 5', 'Predictor 0: Few-Shot Set 4'].\n",
      "2025/03/26 01:15:57 INFO dspy.teleprompt.mipro_optimizer_v2: Scores so far: [26.49, 61.29, 57.93, 57.93, 67.8, 62.22, 56.02, 66.1, 52.84, 68.93, 68.86, 67.66]\n",
      "2025/03/26 01:15:57 INFO dspy.teleprompt.mipro_optimizer_v2: Best score so far: 68.93\n",
      "2025/03/26 01:15:57 INFO dspy.teleprompt.mipro_optimizer_v2: =========================\n",
      "\n",
      "\n",
      "2025/03/26 01:15:57 INFO dspy.teleprompt.mipro_optimizer_v2: ===== Trial 13 / 25 =====\n"
     ]
    },
    {
     "name": "stdout",
     "output_type": "stream",
     "text": [
      "\n",
      "Average Metric: 20.12 / 32 (62.9%): 100%|████████████████████████████████████████████████████████████████████████████████████████████████████| 32/32 [01:06<00:00,  2.07s/it]"
     ]
    },
    {
     "name": "stderr",
     "output_type": "stream",
     "text": [
      "2025/03/26 01:17:03 INFO dspy.evaluate.evaluate: Average Metric: 20.121329291705884 / 32 (62.9%)\n",
      "2025/03/26 01:17:03 INFO dspy.teleprompt.mipro_optimizer_v2: Score: 62.88 with parameters ['Predictor 0: Instruction 2', 'Predictor 0: Few-Shot Set 17'].\n",
      "2025/03/26 01:17:03 INFO dspy.teleprompt.mipro_optimizer_v2: Scores so far: [26.49, 61.29, 57.93, 57.93, 67.8, 62.22, 56.02, 66.1, 52.84, 68.93, 68.86, 67.66, 62.88]\n",
      "2025/03/26 01:17:03 INFO dspy.teleprompt.mipro_optimizer_v2: Best score so far: 68.93\n",
      "2025/03/26 01:17:03 INFO dspy.teleprompt.mipro_optimizer_v2: =========================\n",
      "\n",
      "\n",
      "2025/03/26 01:17:03 INFO dspy.teleprompt.mipro_optimizer_v2: ===== Trial 14 / 25 =====\n"
     ]
    },
    {
     "name": "stdout",
     "output_type": "stream",
     "text": [
      "\n",
      "Average Metric: 22.27 / 32 (69.6%): 100%|████████████████████████████████████████████████████████████████████████████████████████████████████| 32/32 [00:52<00:00,  1.63s/it]"
     ]
    },
    {
     "name": "stderr",
     "output_type": "stream",
     "text": [
      "2025/03/26 01:17:56 INFO dspy.evaluate.evaluate: Average Metric: 22.272560131264594 / 32 (69.6%)\n",
      "2025/03/26 01:17:56 INFO dspy.teleprompt.mipro_optimizer_v2: \u001b[92mBest full score so far!\u001b[0m Score: 69.6\n",
      "2025/03/26 01:17:56 INFO dspy.teleprompt.mipro_optimizer_v2: Score: 69.6 with parameters ['Predictor 0: Instruction 17', 'Predictor 0: Few-Shot Set 4'].\n",
      "2025/03/26 01:17:56 INFO dspy.teleprompt.mipro_optimizer_v2: Scores so far: [26.49, 61.29, 57.93, 57.93, 67.8, 62.22, 56.02, 66.1, 52.84, 68.93, 68.86, 67.66, 62.88, 69.6]\n",
      "2025/03/26 01:17:56 INFO dspy.teleprompt.mipro_optimizer_v2: Best score so far: 69.6\n",
      "2025/03/26 01:17:56 INFO dspy.teleprompt.mipro_optimizer_v2: =========================\n",
      "\n",
      "\n",
      "2025/03/26 01:17:56 INFO dspy.teleprompt.mipro_optimizer_v2: ===== Trial 15 / 25 =====\n"
     ]
    },
    {
     "name": "stdout",
     "output_type": "stream",
     "text": [
      "\n",
      "Average Metric: 18.00 / 32 (56.2%): 100%|████████████████████████████████████████████████████████████████████████████████████████████████████| 32/32 [00:58<00:00,  1.84s/it]"
     ]
    },
    {
     "name": "stderr",
     "output_type": "stream",
     "text": [
      "2025/03/26 01:18:55 INFO dspy.evaluate.evaluate: Average Metric: 17.996763110831594 / 32 (56.2%)\n",
      "2025/03/26 01:18:55 INFO dspy.teleprompt.mipro_optimizer_v2: Score: 56.24 with parameters ['Predictor 0: Instruction 17', 'Predictor 0: Few-Shot Set 15'].\n",
      "2025/03/26 01:18:55 INFO dspy.teleprompt.mipro_optimizer_v2: Scores so far: [26.49, 61.29, 57.93, 57.93, 67.8, 62.22, 56.02, 66.1, 52.84, 68.93, 68.86, 67.66, 62.88, 69.6, 56.24]\n",
      "2025/03/26 01:18:55 INFO dspy.teleprompt.mipro_optimizer_v2: Best score so far: 69.6\n",
      "2025/03/26 01:18:55 INFO dspy.teleprompt.mipro_optimizer_v2: =========================\n",
      "\n",
      "\n",
      "2025/03/26 01:18:55 INFO dspy.teleprompt.mipro_optimizer_v2: ===== Trial 16 / 25 =====\n"
     ]
    },
    {
     "name": "stdout",
     "output_type": "stream",
     "text": [
      "\n",
      "Average Metric: 22.44 / 32 (70.1%): 100%|████████████████████████████████████████████████████████████████████████████████████████████████████| 32/32 [00:56<00:00,  1.77s/it]"
     ]
    },
    {
     "name": "stderr",
     "output_type": "stream",
     "text": [
      "2025/03/26 01:19:51 INFO dspy.evaluate.evaluate: Average Metric: 22.435200344814305 / 32 (70.1%)\n",
      "2025/03/26 01:19:51 INFO dspy.teleprompt.mipro_optimizer_v2: \u001b[92mBest full score so far!\u001b[0m Score: 70.11\n",
      "2025/03/26 01:19:51 INFO dspy.teleprompt.mipro_optimizer_v2: Score: 70.11 with parameters ['Predictor 0: Instruction 13', 'Predictor 0: Few-Shot Set 4'].\n",
      "2025/03/26 01:19:51 INFO dspy.teleprompt.mipro_optimizer_v2: Scores so far: [26.49, 61.29, 57.93, 57.93, 67.8, 62.22, 56.02, 66.1, 52.84, 68.93, 68.86, 67.66, 62.88, 69.6, 56.24, 70.11]\n",
      "2025/03/26 01:19:51 INFO dspy.teleprompt.mipro_optimizer_v2: Best score so far: 70.11\n",
      "2025/03/26 01:19:51 INFO dspy.teleprompt.mipro_optimizer_v2: =========================\n",
      "\n",
      "\n",
      "2025/03/26 01:19:51 INFO dspy.teleprompt.mipro_optimizer_v2: ===== Trial 17 / 25 =====\n"
     ]
    },
    {
     "name": "stdout",
     "output_type": "stream",
     "text": [
      "\n",
      "Average Metric: 22.48 / 32 (70.2%): 100%|████████████████████████████████████████████████████████████████████████████████████████████████████| 32/32 [00:51<00:00,  1.62s/it]"
     ]
    },
    {
     "name": "stderr",
     "output_type": "stream",
     "text": [
      "2025/03/26 01:20:43 INFO dspy.evaluate.evaluate: Average Metric: 22.475926334049227 / 32 (70.2%)\n",
      "2025/03/26 01:20:43 INFO dspy.teleprompt.mipro_optimizer_v2: \u001b[92mBest full score so far!\u001b[0m Score: 70.24\n",
      "2025/03/26 01:20:43 INFO dspy.teleprompt.mipro_optimizer_v2: Score: 70.24 with parameters ['Predictor 0: Instruction 13', 'Predictor 0: Few-Shot Set 14'].\n",
      "2025/03/26 01:20:43 INFO dspy.teleprompt.mipro_optimizer_v2: Scores so far: [26.49, 61.29, 57.93, 57.93, 67.8, 62.22, 56.02, 66.1, 52.84, 68.93, 68.86, 67.66, 62.88, 69.6, 56.24, 70.11, 70.24]\n",
      "2025/03/26 01:20:43 INFO dspy.teleprompt.mipro_optimizer_v2: Best score so far: 70.24\n",
      "2025/03/26 01:20:43 INFO dspy.teleprompt.mipro_optimizer_v2: =========================\n",
      "\n",
      "\n",
      "2025/03/26 01:20:43 INFO dspy.teleprompt.mipro_optimizer_v2: ===== Trial 18 / 25 =====\n"
     ]
    },
    {
     "name": "stdout",
     "output_type": "stream",
     "text": [
      "\n",
      "Average Metric: 22.29 / 32 (69.7%): 100%|████████████████████████████████████████████████████████████████████████████████████████████████████| 32/32 [01:04<00:00,  2.02s/it]"
     ]
    },
    {
     "name": "stderr",
     "output_type": "stream",
     "text": [
      "2025/03/26 01:21:48 INFO dspy.evaluate.evaluate: Average Metric: 22.288150299194044 / 32 (69.7%)\n",
      "2025/03/26 01:21:48 INFO dspy.teleprompt.mipro_optimizer_v2: Score: 69.65 with parameters ['Predictor 0: Instruction 13', 'Predictor 0: Few-Shot Set 13'].\n",
      "2025/03/26 01:21:48 INFO dspy.teleprompt.mipro_optimizer_v2: Scores so far: [26.49, 61.29, 57.93, 57.93, 67.8, 62.22, 56.02, 66.1, 52.84, 68.93, 68.86, 67.66, 62.88, 69.6, 56.24, 70.11, 70.24, 69.65]\n",
      "2025/03/26 01:21:48 INFO dspy.teleprompt.mipro_optimizer_v2: Best score so far: 70.24\n",
      "2025/03/26 01:21:48 INFO dspy.teleprompt.mipro_optimizer_v2: =========================\n",
      "\n",
      "\n",
      "2025/03/26 01:21:48 INFO dspy.teleprompt.mipro_optimizer_v2: ===== Trial 19 / 25 =====\n"
     ]
    },
    {
     "name": "stdout",
     "output_type": "stream",
     "text": [
      "\n",
      "Average Metric: 22.32 / 32 (69.8%): 100%|████████████████████████████████████████████████████████████████████████████████████████████████████| 32/32 [00:57<00:00,  1.80s/it]"
     ]
    },
    {
     "name": "stderr",
     "output_type": "stream",
     "text": [
      "2025/03/26 01:22:46 INFO dspy.evaluate.evaluate: Average Metric: 22.32302498311273 / 32 (69.8%)\n",
      "2025/03/26 01:22:46 INFO dspy.teleprompt.mipro_optimizer_v2: Score: 69.76 with parameters ['Predictor 0: Instruction 13', 'Predictor 0: Few-Shot Set 14'].\n",
      "2025/03/26 01:22:46 INFO dspy.teleprompt.mipro_optimizer_v2: Scores so far: [26.49, 61.29, 57.93, 57.93, 67.8, 62.22, 56.02, 66.1, 52.84, 68.93, 68.86, 67.66, 62.88, 69.6, 56.24, 70.11, 70.24, 69.65, 69.76]\n",
      "2025/03/26 01:22:46 INFO dspy.teleprompt.mipro_optimizer_v2: Best score so far: 70.24\n",
      "2025/03/26 01:22:46 INFO dspy.teleprompt.mipro_optimizer_v2: =========================\n",
      "\n",
      "\n",
      "2025/03/26 01:22:46 INFO dspy.teleprompt.mipro_optimizer_v2: ===== Trial 20 / 25 =====\n"
     ]
    },
    {
     "name": "stdout",
     "output_type": "stream",
     "text": [
      "\n",
      "Average Metric: 11.41 / 18 (63.4%):  56%|████████████████████████████████████████████████████████▎                                           | 18/32 [00:43<00:27,  2.00s/it]"
     ]
    },
    {
     "name": "stderr",
     "output_type": "stream",
     "text": [
      "2025/03/26 01:23:34 ERROR dspy.utils.parallelizer: Error processing item Example({'family': 'Asteraceae', 'taxon': 'Chrysopsis scabrella', 'text': '<b>Biennials,</b> 40–100 cm; taprooted. <b>Stems</b> usually 1 (from rosette), erect (ascending if more than 1), simple, proximally woolly, mid to distally stipitate-glandular (tips erect to ascending before heads form). <b>Leaves</b> sessile; basal blades oblanceolate to obovate, 40–100 × 10–20 mm, bases tapering, margins apically dentate-serrate, faces densely woolly, often matted; cauline blades linear, linear-elliptic, elliptic to linear-lanceolate, or lanceolate, reduced distally, apices usually acute, rarely obtuse, faces glabrate to sparsely strigillose (hairs 0.3–0.6 mm), densely short-stipitate-glandular (larger glandular hairs 0.01–0.3 mm), proximal and mid cauline rarely woolly. <b>Heads</b> 10–100 in compact to lax, corymbiform arrays (less than 1/3 plant height). <b>Peduncles</b> 2–10 cm, stipitate-glandular (glands 0.05–0.2 mm); bracteoles 1–3, oblong to linear distally, faces short-stipitate-glandular. <b>Involucres</b> (green in bud) campanulate, 6–9 mm. <b>Phyllaries</b> in 4–5 series, erect, linear-lanceolate, strongly unequal, 0.7–1.1 mm wide, apices usually acute, sometimes acuminate, rarely aristate, faces densely short-stipitate-glandular. <b>Ray</b> florets 19–32; laminae 6–8 × 1.5–2.5 mm. <b>Disc</b> florets 35–50; corollas 5–7 mm, lobes 0.5–1 mm. <b>Cypselae</b> 2–3 mm, without ridges, shallowly ribbed, faces sparsely to moderately long-strigose; pappi in 3 series, outer of linear scales 0.5–1 mm, inner of 25–35 bristles 5–7 mm, primary weakly to moderately clavate. <b>2n</b> = 10.\\nPhenology: Flowering Aug–Nov (rarely spring).\\nHabitat: Open sandy grounds, white sand hills, pine and oak scrubs, open flatwoods, fields, roadsides\\nElevation: 0–50 m', 'prompt': '\\n    What is the plant size,\\n    leaf shape, leaf length, leaf width, leaf thickness,\\n    seed length, seed width,\\n    fruit type, fruit length, fruit width,\\n    deciduousness, phenology, habitat, elevation?\\n    If it is not mentioned return an empty value.\\n    ', 'plant_height': '40–100 cm', 'leaf_shape': 'oblanceolate to obovate', 'leaf_length': '40–100 mm', 'leaf_width': '10–20 mm', 'leaf_thickness': '', 'fruit_type': 'Cypselae', 'fruit_length': '2–3 mm', 'fruit_width': '', 'seed_length': '', 'seed_width': '', 'deciduousness': '', 'phenology': 'Flowering Aug–Nov (rarely spring)', 'habitat': 'Open sandy grounds, white sand hills, pine and oak scrubs, open flatwoods, fields, roadsides', 'elevation': '0–50 m'}) (input_keys={'taxon', 'prompt', 'text', 'family'}): Expected dict_keys(['plant_height', 'leaf_shape', 'leaf_length', 'leaf_width', 'leaf_thickness', 'fruit_type', 'fruit_length', 'fruit_width', 'seed_length', 'seed_width', 'deciduousness', 'phenology', 'habitat', 'elevation']) but got dict_keys(['plant_height', 'leaf_shape']). Set `provide_traceback=True` to see the stack trace.\n"
     ]
    },
    {
     "name": "stdout",
     "output_type": "stream",
     "text": [
      "Average Metric: 15.19 / 24 (63.3%):  78%|██████████████████████████████████████████████████████████████████████████████▏                     | 25/32 [01:02<00:18,  2.71s/it]"
     ]
    },
    {
     "name": "stderr",
     "output_type": "stream",
     "text": [
      "2025/03/26 01:23:49 ERROR dspy.utils.parallelizer: Error processing item Example({'family': 'Asteraceae', 'taxon': 'Liatris savannensis', 'text': '<b>Plants </b>(80–)90–130 cm. <b>Corms</b> globose, irregularly cylindric, narrowly ovoid, or fusiform and caudexlike. <b>Stems</b> glabrous (often sparsely sessile-glandular). <b>Leaves</b>: basal (often withering before flowering), 1- or 3–5-nerved, linear-elliptic, linear-spatulate, or linear-oblanceolate, (170–)200–400 × 3–10 mm, gradually reduced distally, essentially glabrous, gland-dotted (proximal margins pilose-ciliate). <b>Heads</b> in dense, spiciform arrays. <b>Peduncles</b> 0 or (spreading-ascending) 1–2 mm. <b>Involucres</b> turbinate-campanulate, (7–)8–10 × (8–)9–11(–12) mm. <b>Phyllaries</b> in (3–)4(–5) series, ovate to oblong, obovate, or spatulate, weakly unequal, essentially glabrous, margins with (pinkish purple) hyaline borders, erose to lacerate, ciliolate, apices broadly rounded. <b>Florets</b> 9–17; corolla tubes pilose inside. <b>Cypselae</b> ca. 4 mm; pappi: lengths ± equaling corollas, bristles barbellate.\\nPhenology: Flowering (Aug–)Sep–Oct(–Nov).\\nHabitat: Sandy pinelands, moist sites dominated by slash pine, sabal palmetto, or mixture of the two\\nElevation: 0–30 m', 'prompt': '\\n    What is the plant size,\\n    leaf shape, leaf length, leaf width, leaf thickness,\\n    seed length, seed width,\\n    fruit type, fruit length, fruit width,\\n    deciduousness, phenology, habitat, elevation?\\n    If it is not mentioned return an empty value.\\n    ', 'plant_height': '(80–)90–130 cm', 'leaf_shape': 'linear-elliptic, linear-spatulate, or linear-oblanceolate', 'leaf_length': '(170–)200–400 mm', 'leaf_width': '3–10 mm', 'leaf_thickness': '', 'fruit_type': 'Cypselae', 'fruit_length': '4 mm', 'fruit_width': '', 'seed_length': '', 'seed_width': '', 'deciduousness': '', 'phenology': 'Flowering (Aug–)Sep–Oct(–Nov)', 'habitat': 'Sandy pinelands, moist sites dominated by slash pine, sabal palmetto, or mixture of the two', 'elevation': '0–30 m'}) (input_keys={'taxon', 'prompt', 'text', 'family'}): Expected dict_keys(['plant_height', 'leaf_shape', 'leaf_length', 'leaf_width', 'leaf_thickness', 'fruit_type', 'fruit_length', 'fruit_width', 'seed_length', 'seed_width', 'deciduousness', 'phenology', 'habitat', 'elevation']) but got dict_keys(['plant_height', 'leaf_shape']). Set `provide_traceback=True` to see the stack trace.\n"
     ]
    },
    {
     "name": "stdout",
     "output_type": "stream",
     "text": [
      "Average Metric: 18.41 / 29 (63.5%):  97%|████████████████████████████████████████████████████████████████████████████████████████████████▉   | 31/32 [01:11<00:01,  1.51s/it]"
     ]
    },
    {
     "name": "stderr",
     "output_type": "stream",
     "text": [
      "2025/03/26 01:24:00 ERROR dspy.utils.parallelizer: Error processing item Example({'family': 'Asteraceae', 'taxon': 'Chrysopsis subulata', 'text': '<b>Biennials,</b> 20–70 cm; taprooted (frequently perennating by rosettes produced at bases of old stems and at ends of short lateral rhizomes and roots). <b>Stems</b> 1–5+, erect (sometimes purple-tinged), often much branched proximally, glabrous to sparsely pilose, eglandular. <b>Leaves</b>: basal blades oblanceolate to linear-oblanceolate, (first season leaves) 50–100 × 4–10 mm, faces densely woolly; cauline blades linear-lanceolate to linear, reduced distally, bases tapering to rounded, margins entire, long-piloso-ciliate, often undulate, apices acute, often twisted, faces sparsely pilose. <b>Heads</b> 10–70 in lax corymbiform arrays. <b>Peduncles</b> 1–10 cm (thin), glabrous or glabrate; bracteoles linear-lanceolate (margins ciliate), glabrous or sparsely pilose, sometimes sparsely stipitate-glandular. <b>Involucres</b> campanulate, 8–10 mm. <b>Phyllaries</b> in 4–5 series, linear, 0.6–0.9 mm wide, unequal, apices long-attenuate, rarely acute (some n Florida collections), tips spreading to reflexed, twisted, faces proximally glabrous or sparsely stipitate-glandular. <b>Ray</b> florets 10–28; laminae 5–8(–10) × 1.5–2 mm. <b>Disc</b> florets 30–45; corollas 5–6 mm, lobes ca. 0.5 mm. <b>Cypselae</b> 1.5–2 mm, 6–10-ridged (ridges yellow to dark red-brown, translucent, clavate), weakly ribbed, faces glabrate to sparsely strigose proximally; pappi in 3 series, outer of linear to linear-triangular scales 0.4–1 mm, inner of 20–25 bristles 6–7 mm, inner moderately clavate. <b>2n</b> = 10.\\nPhenology: Flowering (May–)Jul–Aug(–Sep).\\nHabitat: Sandy open grounds, pine and oak scrub\\nElevation: 10–50 m', 'prompt': '\\n    What is the plant size,\\n    leaf shape, leaf length, leaf width, leaf thickness,\\n    seed length, seed width,\\n    fruit type, fruit length, fruit width,\\n    deciduousness, phenology, habitat, elevation?\\n    If it is not mentioned return an empty value.\\n    ', 'plant_height': '20–70 cm', 'leaf_shape': 'oblanceolate to linear-oblanceolate', 'leaf_length': '50–100 mm', 'leaf_width': '4–10 mm', 'leaf_thickness': '', 'fruit_type': 'Cypselae', 'fruit_length': '1.5–2 mm', 'fruit_width': '', 'seed_length': '', 'seed_width': '', 'deciduousness': '', 'phenology': 'Flowering (May–)Jul–Aug(–Sep)', 'habitat': 'Sandy open grounds, pine and oak scrub', 'elevation': '10–50 m'}) (input_keys={'taxon', 'prompt', 'text', 'family'}): Expected dict_keys(['plant_height', 'leaf_shape', 'leaf_length', 'leaf_width', 'leaf_thickness', 'fruit_type', 'fruit_length', 'fruit_width', 'seed_length', 'seed_width', 'deciduousness', 'phenology', 'habitat', 'elevation']) but got dict_keys(['plant_height', 'leaf_shape']). Set `provide_traceback=True` to see the stack trace.\n"
     ]
    },
    {
     "name": "stdout",
     "output_type": "stream",
     "text": [
      "Average Metric: 18.41 / 29 (63.5%): 100%|████████████████████████████████████████████████████████████████████████████████████████████████████| 32/32 [01:13<00:00,  2.31s/it]"
     ]
    },
    {
     "name": "stderr",
     "output_type": "stream",
     "text": [
      "2025/03/26 01:24:00 INFO dspy.evaluate.evaluate: Average Metric: 18.413506711373344 / 32 (57.5%)\n",
      "2025/03/26 01:24:00 INFO dspy.teleprompt.mipro_optimizer_v2: Score: 57.54 with parameters ['Predictor 0: Instruction 13', 'Predictor 0: Few-Shot Set 11'].\n",
      "2025/03/26 01:24:00 INFO dspy.teleprompt.mipro_optimizer_v2: Scores so far: [26.49, 61.29, 57.93, 57.93, 67.8, 62.22, 56.02, 66.1, 52.84, 68.93, 68.86, 67.66, 62.88, 69.6, 56.24, 70.11, 70.24, 69.65, 69.76, 57.54]\n",
      "2025/03/26 01:24:00 INFO dspy.teleprompt.mipro_optimizer_v2: Best score so far: 70.24\n",
      "2025/03/26 01:24:00 INFO dspy.teleprompt.mipro_optimizer_v2: =========================\n",
      "\n",
      "\n",
      "2025/03/26 01:24:00 INFO dspy.teleprompt.mipro_optimizer_v2: ===== Trial 21 / 25 =====\n"
     ]
    },
    {
     "name": "stdout",
     "output_type": "stream",
     "text": [
      "\n",
      "Average Metric: 4.06 / 6 (67.6%):  19%|███████████████████▎                                                                                   | 6/32 [00:16<01:12,  2.80s/it]"
     ]
    },
    {
     "name": "stderr",
     "output_type": "stream",
     "text": [
      "2025/03/26 01:24:18 ERROR dspy.utils.parallelizer: Error processing item Example({'family': 'Asteraceae', 'taxon': 'Oclemena reticulata', 'text': '<b>Plants </b>30–90 cm (cespitose or densely clonal; caudices superficial, woody, branched, and deep, rhizomes short to long, herbaceous or woody). <b>Stems</b> 1–4+, erect, stout (2–4 mm diam.), straight, simple, densely villosulous, ± glandular distally. <b>Leaves</b> 12–30, regularly distributed, proximal sometimes withering by flowering; sessile to short-petiolate (petioles 1–2 mm); blades obovate-elliptic or ovate-elliptic to elliptic-oblong, 25–110 × 10–40 mm, bases cuneate to rounded, margins revolute, ± undulate, entire or serrate distally, teeth coarse, ± obtuse, apices acute to obtuse, mucronate, faces densely villosulo-puberulent, stipitate-glandular, adaxial more so, array leaves reduced distally. <b>Heads</b> (3–)9–40(–67) in corymbiform arrays, branches strongly ascending, at acute angles with stems. <b>Peduncles</b> stout, 2–5 cm, ± densely villosulous, stipitate-glandular. <b>Involucres</b> 4.8–7.2 mm. <b>Phyllaries</b> lance-ovate (outer) to lance-linear (inner), ± pilose, gland-dotted; bracts 0–1(–2), linear, villosulous-puberulent. <b>Ray</b> florets (5–)7–11(–14); corollas white to pinkish, (10–)11.5–17(–19) × (0.8–)1–1.8(–2.2) mm. <b>Disc</b> florets (10–)15–30(–35); corollas slightly ampliate, 5–8 mm, sparsely glandular; tubes longer than narrowly campanulate throats, strigillose, lobes slightly spreading, lanceolate, 2–4 mm. <b>Cypselae</b> tan, fusiform, ± compressed, (1.5–)2–4.2 mm, ribs 6–8 (lighter than bodies), faces strigillose, gland-dotted; pappi of whitish bristles in 3 series, ± equal to disc corollas (innermost ± clavate). <b>2n</b> = 18.\\nPhenology: Flowering spring(–summer in damaged plants).\\nHabitat: Moist (at least seasonally) sandy places, bogs, wet pine flatwoods, cypress pond margins, roadside cuts, burns\\nElevation: 0–50 m', 'prompt': '\\n    What is the plant size,\\n    leaf shape, leaf length, leaf width, leaf thickness,\\n    seed length, seed width,\\n    fruit type, fruit length, fruit width,\\n    deciduousness, phenology, habitat, elevation?\\n    If it is not mentioned return an empty value.\\n    ', 'plant_height': '30–90 cm', 'leaf_shape': 'obovate-elliptic or ovate-elliptic to elliptic-oblong', 'leaf_length': '25–110 mm', 'leaf_width': '10–40 mm', 'leaf_thickness': '', 'fruit_type': 'Cypselae', 'fruit_length': '(1.5–)2–4.2 mm', 'fruit_width': '', 'seed_length': '', 'seed_width': '', 'deciduousness': '', 'phenology': 'Flowering spring(–summer in damaged plants)', 'habitat': 'Moist (at least seasonally) sandy places, bogs, wet pine flatwoods, cypress pond margins, roadside cuts, burns', 'elevation': '0–50 m'}) (input_keys={'taxon', 'prompt', 'text', 'family'}): Expected dict_keys(['plant_height', 'leaf_shape', 'leaf_length', 'leaf_width', 'leaf_thickness', 'fruit_type', 'fruit_length', 'fruit_width', 'seed_length', 'seed_width', 'deciduousness', 'phenology', 'habitat', 'elevation']) but got dict_keys(['plant_height', 'leaf_shape', 'leaf_length', 'leaf_width', 'leaf_thickness', 'fruit_type', 'fruit_length', 'fruit_width', 'seed_length', 'seed_width', 'deciduousness', 'phenology']). Set `provide_traceback=True` to see the stack trace.\n"
     ]
    },
    {
     "name": "stdout",
     "output_type": "stream",
     "text": [
      "Average Metric: 21.29 / 31 (68.7%): 100%|████████████████████████████████████████████████████████████████████████████████████████████████████| 32/32 [01:07<00:00,  2.10s/it]"
     ]
    },
    {
     "name": "stderr",
     "output_type": "stream",
     "text": [
      "2025/03/26 01:25:07 INFO dspy.evaluate.evaluate: Average Metric: 21.289884808704954 / 32 (66.5%)\n",
      "2025/03/26 01:25:07 INFO dspy.teleprompt.mipro_optimizer_v2: Score: 66.53 with parameters ['Predictor 0: Instruction 3', 'Predictor 0: Few-Shot Set 5'].\n",
      "2025/03/26 01:25:07 INFO dspy.teleprompt.mipro_optimizer_v2: Scores so far: [26.49, 61.29, 57.93, 57.93, 67.8, 62.22, 56.02, 66.1, 52.84, 68.93, 68.86, 67.66, 62.88, 69.6, 56.24, 70.11, 70.24, 69.65, 69.76, 57.54, 66.53]\n",
      "2025/03/26 01:25:07 INFO dspy.teleprompt.mipro_optimizer_v2: Best score so far: 70.24\n",
      "2025/03/26 01:25:07 INFO dspy.teleprompt.mipro_optimizer_v2: =========================\n",
      "\n",
      "\n",
      "2025/03/26 01:25:07 INFO dspy.teleprompt.mipro_optimizer_v2: ===== Trial 22 / 25 =====\n"
     ]
    },
    {
     "name": "stdout",
     "output_type": "stream",
     "text": [
      "\n",
      "Average Metric: 22.47 / 32 (70.2%): 100%|████████████████████████████████████████████████████████████████████████████████████████████████████| 32/32 [00:53<00:00,  1.67s/it]"
     ]
    },
    {
     "name": "stderr",
     "output_type": "stream",
     "text": [
      "2025/03/26 01:26:01 INFO dspy.evaluate.evaluate: Average Metric: 22.473968066041873 / 32 (70.2%)\n",
      "2025/03/26 01:26:01 INFO dspy.teleprompt.mipro_optimizer_v2: Score: 70.23 with parameters ['Predictor 0: Instruction 13', 'Predictor 0: Few-Shot Set 14'].\n",
      "2025/03/26 01:26:01 INFO dspy.teleprompt.mipro_optimizer_v2: Scores so far: [26.49, 61.29, 57.93, 57.93, 67.8, 62.22, 56.02, 66.1, 52.84, 68.93, 68.86, 67.66, 62.88, 69.6, 56.24, 70.11, 70.24, 69.65, 69.76, 57.54, 66.53, 70.23]\n",
      "2025/03/26 01:26:01 INFO dspy.teleprompt.mipro_optimizer_v2: Best score so far: 70.24\n",
      "2025/03/26 01:26:01 INFO dspy.teleprompt.mipro_optimizer_v2: =========================\n",
      "\n",
      "\n",
      "2025/03/26 01:26:01 INFO dspy.teleprompt.mipro_optimizer_v2: ===== Trial 23 / 25 =====\n"
     ]
    },
    {
     "name": "stdout",
     "output_type": "stream",
     "text": [
      "\n",
      "Average Metric: 6.18 / 11 (56.1%):  34%|██████████████████████████████████▋                                                                  | 11/32 [00:26<00:36,  1.73s/it]"
     ]
    },
    {
     "name": "stderr",
     "output_type": "stream",
     "text": [
      "2025/03/26 01:26:33 ERROR dspy.utils.parallelizer: Error processing item Example({'family': 'Asteraceae', 'taxon': 'Hieracium gronovii', 'text': '<b>Plants </b>30–45(–80) cm. <b>Stems</b> proximally piloso-hirsute (hairs 2–4+ mm), sometimes stellate-pubescent as well, distally stellate-pubescent, sometimes piloso-hirsute as well. <b>Leaves</b>: basal 0(–2+), cauline (3–)6–12+; blades elliptic or obovate to oblanceolate, 20–35(–90) × 10–40(–50) mm, lengths 2–4+ times widths, bases cuneate to rounded (sometimes ± clasping), margins entire, apices rounded to acute, abaxial faces piloso-hirsute (hairs 2–4 mm) and stellate-pubescent, adaxial piloso-hirsute. <b>Heads</b> (5–)25–50 in usually narrow, thyrsiform arrays (lengths of arrays usually 3–6+ times diams., sometimes shorter). <b>Peduncles</b> stellate-pubescent and stipitate-glandular. <b>Calyculi</b>: bractlets 8–12+. <b>Involucres</b> cylindric to campanulate, 7–10 mm. <b>Phyllaries</b> 12–15+, apices rounded to acute or acuminate, abaxial faces glabrous or stellate-pubescent, rarely stipitate-glandular as well. <b>Florets</b> 12–20+; corollas yellow, 8–9+ mm. <b>Cypselae</b> urceolate, 3.5–4.5+ mm; pappi of ca. 40+, stramineous bristles in 2+ series, ca. 5 mm.\\nPhenology: Flowering (Mar–)Jul–Sep(–Oct).\\nHabitat: Openings in pine and pine-oak woods, bogs, sands\\nElevation: 30–600 m', 'prompt': '\\n    What is the plant size,\\n    leaf shape, leaf length, leaf width, leaf thickness,\\n    seed length, seed width,\\n    fruit type, fruit length, fruit width,\\n    deciduousness, phenology, habitat, elevation?\\n    If it is not mentioned return an empty value.\\n    ', 'plant_height': '30–45(–80) cm', 'leaf_shape': 'elliptic or obovate to oblanceolate', 'leaf_length': '20–35(–90) mm', 'leaf_width': '10–40(–50) mm', 'leaf_thickness': '', 'fruit_type': 'Cypselae', 'fruit_length': '3.5–4.5+ mm', 'fruit_width': '', 'seed_length': '', 'seed_width': '', 'deciduousness': '', 'phenology': 'Flowering (Mar–)Jul–Sep(–Oct)', 'habitat': 'Openings in pine and pine-oak woods, bogs, sands', 'elevation': '30–600 m'}) (input_keys={'taxon', 'prompt', 'text', 'family'}): Expected dict_keys(['plant_height', 'leaf_shape', 'leaf_length', 'leaf_width', 'leaf_thickness', 'fruit_type', 'fruit_length', 'fruit_width', 'seed_length', 'seed_width', 'deciduousness', 'phenology', 'habitat', 'elevation']) but got dict_keys(['plant_height', 'leaf_shape', 'leaf_length', 'leaf_width']). Set `provide_traceback=True` to see the stack trace.\n"
     ]
    },
    {
     "name": "stdout",
     "output_type": "stream",
     "text": [
      "Average Metric: 18.47 / 31 (59.6%): 100%|████████████████████████████████████████████████████████████████████████████████████████████████████| 32/32 [01:06<00:00,  2.08s/it]"
     ]
    },
    {
     "name": "stderr",
     "output_type": "stream",
     "text": [
      "2025/03/26 01:27:07 INFO dspy.evaluate.evaluate: Average Metric: 18.47314039189231 / 32 (57.7%)\n",
      "2025/03/26 01:27:07 INFO dspy.teleprompt.mipro_optimizer_v2: Score: 57.73 with parameters ['Predictor 0: Instruction 6', 'Predictor 0: Few-Shot Set 14'].\n",
      "2025/03/26 01:27:07 INFO dspy.teleprompt.mipro_optimizer_v2: Scores so far: [26.49, 61.29, 57.93, 57.93, 67.8, 62.22, 56.02, 66.1, 52.84, 68.93, 68.86, 67.66, 62.88, 69.6, 56.24, 70.11, 70.24, 69.65, 69.76, 57.54, 66.53, 70.23, 57.73]\n",
      "2025/03/26 01:27:07 INFO dspy.teleprompt.mipro_optimizer_v2: Best score so far: 70.24\n",
      "2025/03/26 01:27:07 INFO dspy.teleprompt.mipro_optimizer_v2: =========================\n",
      "\n",
      "\n",
      "2025/03/26 01:27:07 INFO dspy.teleprompt.mipro_optimizer_v2: ===== Trial 24 / 25 =====\n"
     ]
    },
    {
     "name": "stdout",
     "output_type": "stream",
     "text": [
      "\n",
      "Average Metric: 22.45 / 32 (70.1%): 100%|████████████████████████████████████████████████████████████████████████████████████████████████████| 32/32 [00:52<00:00,  1.63s/it]"
     ]
    },
    {
     "name": "stderr",
     "output_type": "stream",
     "text": [
      "2025/03/26 01:27:59 INFO dspy.evaluate.evaluate: Average Metric: 22.445593759594647 / 32 (70.1%)\n",
      "2025/03/26 01:27:59 INFO dspy.teleprompt.mipro_optimizer_v2: Score: 70.14 with parameters ['Predictor 0: Instruction 13', 'Predictor 0: Few-Shot Set 4'].\n",
      "2025/03/26 01:27:59 INFO dspy.teleprompt.mipro_optimizer_v2: Scores so far: [26.49, 61.29, 57.93, 57.93, 67.8, 62.22, 56.02, 66.1, 52.84, 68.93, 68.86, 67.66, 62.88, 69.6, 56.24, 70.11, 70.24, 69.65, 69.76, 57.54, 66.53, 70.23, 57.73, 70.14]\n",
      "2025/03/26 01:27:59 INFO dspy.teleprompt.mipro_optimizer_v2: Best score so far: 70.24\n",
      "2025/03/26 01:27:59 INFO dspy.teleprompt.mipro_optimizer_v2: =========================\n",
      "\n",
      "\n",
      "2025/03/26 01:27:59 INFO dspy.teleprompt.mipro_optimizer_v2: ===== Trial 25 / 25 =====\n"
     ]
    },
    {
     "name": "stdout",
     "output_type": "stream",
     "text": [
      "\n",
      "Average Metric: 20.83 / 32 (65.1%): 100%|████████████████████████████████████████████████████████████████████████████████████████████████████| 32/32 [01:02<00:00,  1.94s/it]"
     ]
    },
    {
     "name": "stderr",
     "output_type": "stream",
     "text": [
      "2025/03/26 01:29:02 INFO dspy.evaluate.evaluate: Average Metric: 20.834369872746848 / 32 (65.1%)\n",
      "2025/03/26 01:29:02 INFO dspy.teleprompt.mipro_optimizer_v2: Score: 65.11 with parameters ['Predictor 0: Instruction 9', 'Predictor 0: Few-Shot Set 10'].\n",
      "2025/03/26 01:29:02 INFO dspy.teleprompt.mipro_optimizer_v2: Scores so far: [26.49, 61.29, 57.93, 57.93, 67.8, 62.22, 56.02, 66.1, 52.84, 68.93, 68.86, 67.66, 62.88, 69.6, 56.24, 70.11, 70.24, 69.65, 69.76, 57.54, 66.53, 70.23, 57.73, 70.14, 65.11]\n",
      "2025/03/26 01:29:02 INFO dspy.teleprompt.mipro_optimizer_v2: Best score so far: 70.24\n",
      "2025/03/26 01:29:02 INFO dspy.teleprompt.mipro_optimizer_v2: =========================\n",
      "\n",
      "\n",
      "2025/03/26 01:29:02 INFO dspy.teleprompt.mipro_optimizer_v2: Returning best identified program with score 70.24!\n"
     ]
    },
    {
     "name": "stdout",
     "output_type": "stream",
     "text": [
      "\n"
     ]
    }
   ],
   "source": [
    "mipro_optimizer = dspy.MIPROv2(\n",
    "    metric=te.score_prediction,\n",
    "    auto=\"medium\",\n",
    ")\n",
    "\n",
    "optimized_trait_extractor = mipro_optimizer.compile(\n",
    "    trait_extractor,\n",
    "    trainset=dataset[\"train\"],\n",
    "    max_bootstrapped_demos=4,\n",
    "    requires_permission_to_run=False,\n",
    "    minibatch=False,\n",
    ")"
   ]
  },
  {
   "cell_type": "code",
   "execution_count": 8,
   "id": "2fd23dd1-847f-4836-818a-c9dfc892728c",
   "metadata": {
    "execution": {
     "iopub.execute_input": "2025-03-26T05:29:02.153300Z",
     "iopub.status.busy": "2025-03-26T05:29:02.153169Z",
     "iopub.status.idle": "2025-03-26T05:38:21.826215Z",
     "shell.execute_reply": "2025-03-26T05:38:21.825968Z",
     "shell.execute_reply.started": "2025-03-26T05:29:02.153288Z"
    },
    "scrolled": true
   },
   "outputs": [
    {
     "name": "stdout",
     "output_type": "stream",
     "text": [
      "Average Metric: 16.60 / 203 (8.2%):  12%|████████████▏                                                                                      | 25/203 [01:12<10:10,  3.43s/it]"
     ]
    },
    {
     "name": "stderr",
     "output_type": "stream",
     "text": [
      "2025/03/26 01:30:19 ERROR dspy.utils.parallelizer: Error processing item Example({'family': 'Asteraceae', 'taxon': 'Glebionis coronaria', 'text': '<b>Leaf </b>blades oblong to obovate, mostly 30–55+ × 15–30+ mm, mostly 2–3-pinnately lobed, ultimate margins dentate. <b>Ray</b> corollas pale yellow, sometimes white-tipped, laminae oblong to linear, 15–25 mm. <b>Ray</b> cypselae triquetrous, 2.5–3 mm, angles ± winged, faces obscurely nerved or ribbed; disc cypselae ± prismatic, ± compressed, 2.5–3 mm, obscurely ribbed, sometimes with adaxial (rarely the abaxial) rib ± winged. <b>2n</b> = 18.\\nPhenology: Flowering Apr–Jul.\\nHabitat: Disturbed sites\\nElevation: 0–200 m', 'prompt': '\\n    What is the plant size,\\n    leaf shape, leaf length, leaf width, leaf thickness,\\n    seed length, seed width,\\n    fruit type, fruit length, fruit width,\\n    deciduousness, phenology, habitat, elevation?\\n    If it is not mentioned return an empty value.\\n    ', 'plant_height': '', 'leaf_shape': 'oblong to obovate', 'leaf_length': '30–55+ mm', 'leaf_width': '15–30+ mm', 'leaf_thickness': '', 'fruit_type': '', 'fruit_length': '', 'fruit_width': '', 'seed_length': '', 'seed_width': '', 'deciduousness': '', 'phenology': 'Flowering Apr–Jul', 'habitat': 'Disturbed sites', 'elevation': '0–200 m'}) (input_keys={'taxon', 'prompt', 'text', 'family'}): Expected dict_keys(['plant_height', 'leaf_shape', 'leaf_length', 'leaf_width', 'leaf_thickness', 'fruit_type', 'fruit_length', 'fruit_width', 'seed_length', 'seed_width', 'deciduousness', 'phenology', 'habitat', 'elevation']) but got dict_keys(['plant_height', 'leaf_shape', 'leaf_length', 'leaf_width', 'leaf_thickness', 'fruit_type', 'fruit_length', 'fruit_width', 'seed_length', 'seed_width', 'deciduousness', 'phenology', 'habitat'])\n",
      "Stack trace:\n",
      "Traceback (most recent call last):\n",
      "  File \"/srv/work/rafe/language_models/ConservationConcernFlorida/.venv/lib/python3.12/site-packages/dspy/adapters/base.py\", line 33, in __call__\n",
      "    value = self.parse(signature, output)\n",
      "            ^^^^^^^^^^^^^^^^^^^^^^^^^^^^^\n",
      "  File \"/srv/work/rafe/language_models/ConservationConcernFlorida/.venv/lib/python3.12/site-packages/dspy/utils/callback.py\", line 234, in wrapper\n",
      "    return fn(instance, *args, **kwargs)\n",
      "           ^^^^^^^^^^^^^^^^^^^^^^^^^^^^^\n",
      "  File \"/srv/work/rafe/language_models/ConservationConcernFlorida/.venv/lib/python3.12/site-packages/dspy/adapters/chat_adapter.py\", line 83, in parse\n",
      "    raise ValueError(f\"Expected {signature.output_fields.keys()} but got {fields.keys()}\")\n",
      "ValueError: Expected dict_keys(['plant_height', 'leaf_shape', 'leaf_length', 'leaf_width', 'leaf_thickness', 'fruit_type', 'fruit_length', 'fruit_width', 'seed_length', 'seed_width', 'deciduousness', 'phenology', 'habitat', 'elevation']) but got dict_keys(['plant_height', 'leaf_shape', 'leaf_length', 'leaf_width', 'leaf_thickness', 'fruit_type', 'fruit_length', 'fruit_width', 'seed_length', 'deciduousness', 'phenology', 'habitat', 'elevation'])\n",
      "\n",
      "During handling of the above exception, another exception occurred:\n",
      "\n",
      "Traceback (most recent call last):\n",
      "  File \"/srv/work/rafe/language_models/ConservationConcernFlorida/.venv/lib/python3.12/site-packages/dspy/utils/parallelizer.py\", line 47, in wrapped\n",
      "    return function(item)\n",
      "           ^^^^^^^^^^^^^^\n",
      "  File \"/srv/work/rafe/language_models/ConservationConcernFlorida/.venv/lib/python3.12/site-packages/dspy/evaluate/evaluate.py\", line 149, in process_item\n",
      "    prediction = program(**example.inputs())\n",
      "                 ^^^^^^^^^^^^^^^^^^^^^^^^^^^\n",
      "  File \"/srv/work/rafe/language_models/ConservationConcernFlorida/.venv/lib/python3.12/site-packages/dspy/utils/callback.py\", line 234, in wrapper\n",
      "    return fn(instance, *args, **kwargs)\n",
      "           ^^^^^^^^^^^^^^^^^^^^^^^^^^^^^\n",
      "  File \"/srv/work/rafe/language_models/ConservationConcernFlorida/.venv/lib/python3.12/site-packages/dspy/predict/predict.py\", line 67, in __call__\n",
      "    return self.forward(**kwargs)\n",
      "           ^^^^^^^^^^^^^^^^^^^^^^\n",
      "  File \"/srv/work/rafe/language_models/ConservationConcernFlorida/.venv/lib/python3.12/site-packages/dspy/predict/predict.py\", line 97, in forward\n",
      "    completions = adapter(lm, lm_kwargs=config, signature=signature, demos=demos, inputs=kwargs)\n",
      "                  ^^^^^^^^^^^^^^^^^^^^^^^^^^^^^^^^^^^^^^^^^^^^^^^^^^^^^^^^^^^^^^^^^^^^^^^^^^^^^^\n",
      "  File \"/srv/work/rafe/language_models/ConservationConcernFlorida/.venv/lib/python3.12/site-packages/dspy/adapters/base.py\", line 55, in __call__\n",
      "    return JSONAdapter()(lm, lm_kwargs, signature, demos, inputs)\n",
      "           ^^^^^^^^^^^^^^^^^^^^^^^^^^^^^^^^^^^^^^^^^^^^^^^^^^^^^^\n",
      "  File \"/srv/work/rafe/language_models/ConservationConcernFlorida/.venv/lib/python3.12/site-packages/dspy/adapters/json_adapter.py\", line 60, in __call__\n",
      "    value = self.parse(signature, output)\n",
      "            ^^^^^^^^^^^^^^^^^^^^^^^^^^^^^\n",
      "  File \"/srv/work/rafe/language_models/ConservationConcernFlorida/.venv/lib/python3.12/site-packages/dspy/utils/callback.py\", line 234, in wrapper\n",
      "    return fn(instance, *args, **kwargs)\n",
      "           ^^^^^^^^^^^^^^^^^^^^^^^^^^^^^\n",
      "  File \"/srv/work/rafe/language_models/ConservationConcernFlorida/.venv/lib/python3.12/site-packages/dspy/adapters/json_adapter.py\", line 102, in parse\n",
      "    raise ValueError(f\"Expected {signature.output_fields.keys()} but got {fields.keys()}\")\n",
      "ValueError: Expected dict_keys(['plant_height', 'leaf_shape', 'leaf_length', 'leaf_width', 'leaf_thickness', 'fruit_type', 'fruit_length', 'fruit_width', 'seed_length', 'seed_width', 'deciduousness', 'phenology', 'habitat', 'elevation']) but got dict_keys(['plant_height', 'leaf_shape', 'leaf_length', 'leaf_width', 'leaf_thickness', 'fruit_type', 'fruit_length', 'fruit_width', 'seed_length', 'seed_width', 'deciduousness', 'phenology', 'habitat'])\n",
      "\n"
     ]
    },
    {
     "name": "stdout",
     "output_type": "stream",
     "text": [
      "Average Metric: 135.89 / 203 (66.9%): 100%|████████████████████████████████████████████████████████████████████████████████████████████████| 203/203 [09:19<00:00,  2.76s/it]"
     ]
    },
    {
     "name": "stderr",
     "output_type": "stream",
     "text": [
      "2025/03/26 01:38:21 INFO dspy.evaluate.evaluate: Average Metric: 135.88899635063956 / 203 (66.9%)\n"
     ]
    },
    {
     "name": "stdout",
     "output_type": "stream",
     "text": [
      "\n"
     ]
    },
    {
     "data": {
      "text/plain": [
       "66.94"
      ]
     },
     "execution_count": 8,
     "metadata": {},
     "output_type": "execute_result"
    }
   ],
   "source": [
    "evaluator(optimized_trait_extractor, devset=dataset[\"dev\"])"
   ]
  },
  {
   "cell_type": "code",
   "execution_count": 9,
   "id": "804503aa-0e8b-4d9c-a882-c54ba4021eeb",
   "metadata": {
    "execution": {
     "iopub.execute_input": "2025-03-26T05:38:21.826630Z",
     "iopub.status.busy": "2025-03-26T05:38:21.826533Z",
     "iopub.status.idle": "2025-03-26T05:38:21.828972Z",
     "shell.execute_reply": "2025-03-26T05:38:21.828736Z",
     "shell.execute_reply.started": "2025-03-26T05:38:21.826621Z"
    },
    "scrolled": true
   },
   "outputs": [
    {
     "name": "stdout",
     "output_type": "stream",
     "text": [
      "\n",
      "\n",
      "\n",
      "\n",
      "\u001b[34m[2025-03-26T01:38:21.811068]\u001b[0m\n",
      "\n",
      "\u001b[31mSystem message:\u001b[0m\n",
      "\n",
      "Your input fields are:\n",
      "1. `family` (str): The family taxon\n",
      "2. `taxon` (str): The taxon\n",
      "3. `text` (str): The species description text\n",
      "4. `prompt` (str): Extract these traits\n",
      "\n",
      "Your output fields are:\n",
      "1. `plant_height` (str): The plant height\n",
      "2. `leaf_shape` (str): The leaf shape\n",
      "3. `leaf_length` (str): The leaf length\n",
      "4. `leaf_width` (str): The leaf width\n",
      "5. `leaf_thickness` (str): The leaf thickness\n",
      "6. `fruit_type` (str): The fruit type\n",
      "7. `fruit_length` (str): The fruit length\n",
      "8. `fruit_width` (str): The fruit width\n",
      "9. `seed_length` (str): The seed length\n",
      "10. `seed_width` (str): The seed witdth\n",
      "11. `deciduousness` (str): The plant's deciduousness\n",
      "12. `phenology` (str): The phenology\n",
      "13. `habitat` (str): The habitat\n",
      "14. `elevation` (str): The elevation\n",
      "\n",
      "All interactions will be structured in the following way, with the appropriate values filled in.\n",
      "\n",
      "Inputs will have the following structure:\n",
      "\n",
      "[[ ## family ## ]]\n",
      "{family}\n",
      "\n",
      "[[ ## taxon ## ]]\n",
      "{taxon}\n",
      "\n",
      "[[ ## text ## ]]\n",
      "{text}\n",
      "\n",
      "[[ ## prompt ## ]]\n",
      "{prompt}\n",
      "\n",
      "Outputs will be a JSON object with the following fields.\n",
      "\n",
      "{\n",
      "  \"plant_height\": \"{plant_height}\",\n",
      "  \"leaf_shape\": \"{leaf_shape}\",\n",
      "  \"leaf_length\": \"{leaf_length}\",\n",
      "  \"leaf_width\": \"{leaf_width}\",\n",
      "  \"leaf_thickness\": \"{leaf_thickness}\",\n",
      "  \"fruit_type\": \"{fruit_type}\",\n",
      "  \"fruit_length\": \"{fruit_length}\",\n",
      "  \"fruit_width\": \"{fruit_width}\",\n",
      "  \"seed_length\": \"{seed_length}\",\n",
      "  \"seed_width\": \"{seed_width}\",\n",
      "  \"deciduousness\": \"{deciduousness}\",\n",
      "  \"phenology\": \"{phenology}\",\n",
      "  \"habitat\": \"{habitat}\",\n",
      "  \"elevation\": \"{elevation}\"\n",
      "}\n",
      "\n",
      "In adhering to this structure, your objective is: \n",
      "        Analyzing species descriptions and extracting trait information from the text material provided\n",
      "\n",
      "\n",
      "\u001b[31mUser message:\u001b[0m\n",
      "\n",
      "[[ ## family ## ]]\n",
      "Asteraceae\n",
      "\n",
      "[[ ## taxon ## ]]\n",
      "Gamochaeta pensylvanica\n",
      "\n",
      "[[ ## text ## ]]\n",
      "<b>Annuals,</b> 10–50 cm; taprooted. <b>Stems</b> erect to decumbent or procumbent, loosely arachnose-tomentose. <b>Leaves</b> basal and cauline, proximal usually present at flowering, blades spatulate to oblanceolate-obovate, 2–7 cm × 4–16 mm (becoming spatulate to oblanceolate bracts among proximal heads, surpassing glomerules, bases narrowed to petiolar regions, margins sinuate, apices often apiculate), faces concolor or weakly bicolor, loosely tomentose. <b>Heads</b> in glomerules in continuous or interrupted, spiciform arrays 1–12 cm × 10–15 mm (pressed). <b>Involucres</b> cupulate-campanulate, 3–3.5 mm, bases sparsely arachnose. <b>Phyllaries</b> in 3–4 series, outer ovate-triangular, lengths 1/2–2/3 inner, apices attenuate-apiculate, inner oblong, laminae often purple-tinged (at stereome), apices (transparent, sometimes golden) acute to obtuse. <b>Florets</b>: bisexual 3–4; all (or at least bisexual) corollas usually purplish distally. <b>Cypselae</b> (tan) 0.4–0.5 mm. <b>2n</b> = 28.\n",
      "Phenology: Flowering Mar–Jun(–Aug).\n",
      "Habitat: Disturbed sites, exposed, moist soils, commonly partially shaded\n",
      "Elevation: 0–500 m\n",
      "\n",
      "[[ ## prompt ## ]]\n",
      "\n",
      "    What is the plant size,\n",
      "    leaf shape, leaf length, leaf width, leaf thickness,\n",
      "    seed length, seed width,\n",
      "    fruit type, fruit length, fruit width,\n",
      "    deciduousness, phenology, habitat, elevation?\n",
      "    If it is not mentioned return an empty value.\n",
      "\n",
      "Respond with a JSON object in the following order of fields: `plant_height`, then `leaf_shape`, then `leaf_length`, then `leaf_width`, then `leaf_thickness`, then `fruit_type`, then `fruit_length`, then `fruit_width`, then `seed_length`, then `seed_width`, then `deciduousness`, then `phenology`, then `habitat`, then `elevation`.\n",
      "\n",
      "\n",
      "\u001b[31mAssistant message:\u001b[0m\n",
      "\n",
      "{\n",
      "  \"plant_height\": \"(10\\u2013)30\\u201370(\\u2013150+) cm\",\n",
      "  \"leaf_shape\": \"pinnatate, terminal lobes lance-ovatate to oblanceolate\",\n",
      "  \"leaf_length\": \"10\\u201360 mm\",\n",
      "  \"leaf_width\": \"5\\u201325 mm\",\n",
      "  \"leaf_thickness\": \"\",\n",
      "  \"fruit_type\": \"Cypselae\",\n",
      "  \"fruit_length\": \"1.5\\u20133(\\u20134+) mm\",\n",
      "  \"fruit_width\": \"\",\n",
      "  \"seed_length\": \"\",\n",
      "  \"seed_width\": \"\",\n",
      "  \"deciduousness\": \"\",\n",
      "  \"phenology\": \"Flowering year round, mostly Jun\\u2013Aug\",\n",
      "  \"habitat\": \"Moist, sandy or clay soil, sometimes alkali flat, prairie, ditches, disturbance sites, exposed, partially shaded\",\n",
      "  \"elevation\": \"(0\\u2013)20\\u20131500(\\u20132000) m\"\n",
      "}\n",
      "\n",
      "\n",
      "\u001b[31mUser message:\u001b[0m\n",
      "\n",
      "[[ ## family ## ]]\n",
      "Asteraceae\n",
      "\n",
      "[[ ## taxon ## ]]\n",
      "Fleischmannia incarnata\n",
      "\n",
      "[[ ## text ## ]]\n",
      "<b>Plants </b>30–120(–200) cm. <b>Stems</b> lax, sprawling or scandent. <b>Leaves</b>: petioles (0.5–)1–3.5(–4) cm; blades triangular-deltate, (1–)2–5(–7) × (1–)1.5–3.5(–5) cm, bases usually truncate to cordate, sometimes obtuse, margins coarsely serrate to crenate-serrate, apices acute to acuminate. <b>Involucres</b> 4–5 mm. <b>Phyllaries</b>: outer lanceolate, inner lanceolate to narrowly oblong-lanceolate, glabrous or sparsely puberulent, apices usually acute to attenuate, sometimes rounded. <b>Corollas</b> usually pink-purple or whitish with pink to lilac lobes, rarely all white. <b>Cypselae</b> 1.8–2.8 mm, usually sparsely strigoso-hirtellous, sometimes glabrate. <b>2n</b> = 20.\n",
      "Phenology: Flowering Oct–Dec.\n",
      "Habitat: Woodlands, thickets, moist soil, roads, ditches, stream banks, bottomlands, swamps, depressions, cedar glades\n",
      "Elevation: 10–200 m\n",
      "\n",
      "[[ ## prompt ## ]]\n",
      "\n",
      "    What is the plant size,\n",
      "    leaf shape, leaf length, leaf width, leaf thickness,\n",
      "    seed length, seed width,\n",
      "    fruit type, fruit length, fruit width,\n",
      "    deciduousness, phenology, habitat, elevation?\n",
      "    If it is not mentioned return an empty value.\n",
      "\n",
      "Respond with a JSON object in the following order of fields: `plant_height`, then `leaf_shape`, then `leaf_length`, then `leaf_width`, then `leaf_thickness`, then `fruit_type`, then `fruit_length`, then `fruit_width`, then `seed_length`, then `seed_width`, then `deciduousness`, then `phenology`, then `habitat`, then `elevation`.\n",
      "\n",
      "\n",
      "\u001b[31mAssistant message:\u001b[0m\n",
      "\n",
      "{\n",
      "  \"plant_height\": \"(10\\u2013)30\\u201370(\\u2013150+) cm\",\n",
      "  \"leaf_shape\": \"pinnatte, terminal lobes lance-ovat\\u00e9 to oblanc\\u00e9 \\u00e0 oblanceolate\",\n",
      "  \"leaf_length\": \"10\\u201360 mm\",\n",
      "  \"leaf_width\": \"5\\u201325 mm\",\n",
      "  \"leaf_thickness\": \"\",\n",
      "  \"fruit_type\": \"Cypselae\",\n",
      "  \"fruit_length\": \"1.5\\u20133(\\u20134+) mm\",\n",
      "  \"fruit_width\": \"\",\n",
      "  \"seed_length\": \"\",\n",
      "  \"seed_width\": \"\",\n",
      "  \"deciduousness\": \"\",\n",
      "  \"phenology\": \"Flowering year round, mostly Jun\\u2013Aug\",\n",
      "  \"habitat\": \"Moist, sandy or clay soil, sometimes alkali flat, prairie, ditches, disturb\\u00e9 places\",\n",
      "  \"elevation\": \"(0\\u2013)20\\u20131500(\\u20132000) m\"\n",
      "}\n",
      "\n",
      "\n",
      "\u001b[31mUser message:\u001b[0m\n",
      "\n",
      "[[ ## family ## ]]\n",
      "Asteraceae\n",
      "\n",
      "[[ ## taxon ## ]]\n",
      "Rayjacksonia phyllocephala\n",
      "\n",
      "[[ ## text ## ]]\n",
      "<b>Annuals </b>or perennials, 10–70(–100) cm, herbaceous to suffrutescent. <b>Leaf</b> blades oblong to oblanceolate, mid-cauline (2.5–)4–13 mm wide. <b>Heads</b> essentially sessile, often surpassed by distal leaves that continue to very base of heads. <b>Involucres</b> (6–)10–15 × 12–30 mm. <b>Phyllaries</b> in 3–4 series, loose, subequal, apices erect to spreading, 1.3–1.7 mm wide, herbaceous. <b>Ray</b> florets 17–38; corollas 8.5–19 mm. <b>Disc</b> florets: corolla tubes longer than limbs. <b>2n</b> = 12.\n",
      "Phenology: Flowering (Jul–)Sep–Dec (sporadically Feb–Jun).\n",
      "Habitat: Sandy sites, along waterways, canal banks, dunes, beaches, salt flats\n",
      "Elevation: 0–10 m\n",
      "\n",
      "[[ ## prompt ## ]]\n",
      "\n",
      "    What is the plant size,\n",
      "    leaf shape, leaf length, leaf width, leaf thickness,\n",
      "    seed length, seed width,\n",
      "    fruit type, fruit length, fruit width,\n",
      "    deciduousness, phenology, habitat, elevation?\n",
      "    If it is not mentioned return an empty value.\n",
      "\n",
      "Respond with a JSON object in the following order of fields: `plant_height`, then `leaf_shape`, then `leaf_length`, then `leaf_width`, then `leaf_thickness`, then `fruit_type`, then `fruit_length`, then `fruit_width`, then `seed_length`, then `seed_width`, then `deciduousness`, then `phenology`, then `habitat`, then `elevation`.\n",
      "\n",
      "\n",
      "\u001b[31mAssistant message:\u001b[0m\n",
      "\n",
      "{\n",
      "  \"plant_height\": \"(10\\u2013)30\\u201370(\\u2013150+) cm\",\n",
      "  \"leaf_shape\": \"pinnatate, terminal lobes lance-ovatate to oblanceolate\",\n",
      "  \"leaf_length\": \"10\\u201360 mm\",\n",
      "  \"leaf_width\": \"5\\u201325 mm\",\n",
      "  \"leaf_thickness\": \"\",\n",
      "  \"fruit_type\": \"Cypselae\",\n",
      "  \"fruit_length\": \"1.5\\u20133(\\u20134+) mm\",\n",
      "  \"fruit_width\": \"\",\n",
      "  \"seed_length\": \"\",\n",
      "  \"seed_width\": \"\",\n",
      "  \"deciduousness\": \"\",\n",
      "  \"phenology\": \"Flowering year round, mostly Jun\\u2013Aug\",\n",
      "  \"habitat\": \"Moist, sandy or clay soil sites, sometimes alkali flat sites, disturbed places\",\n",
      "  \"elevation\": \"(0\\u2013)20\\u20131500(\\u20132000) m\"\n",
      "}\n",
      "\n",
      "\n",
      "\u001b[31mUser message:\u001b[0m\n",
      "\n",
      "[[ ## family ## ]]\n",
      "Asteraceae\n",
      "\n",
      "[[ ## taxon ## ]]\n",
      "Mikania batatifolia\n",
      "\n",
      "[[ ## text ## ]]\n",
      "<b>Stems </b>obscurely 6-angled, sometimes winged on angles, often densely glandular, glabrous or puberulent; internodes 3.5–13 cm. <b>Petioles</b> 10–40 mm, glabrous, glandular. <b>Leaf</b> blades deltate-ovate, 1.5–6 × 1–5 cm, (subcoriaceous to somewhat fleshy) bases cordate to subcordate, margins usually hastately dentate to ± lobed (lobes divergent), apices acute to acuminate, faces glabrous (and gland-dotted). <b>Arrays</b> of heads corymbiform, 2–4 × 2–6 cm. <b>Heads</b> 4–6 mm. <b>Phyllaries</b> lanceolate to narrowly ovate, ca. 3.5 mm, apices acuminate (abaxial faces puberulent). <b>Corollas</b> white, ca. 3 mm, gland-dotted, lobes deltate. <b>Cypselae</b> brown, 1.5–2 mm, densely gland-dotted; pappi of ca. 40 white, barbellate bristles ca. 3 mm.\n",
      "Phenology: Flowering year round.\n",
      "Habitat: Woodlands, savannas, salt marshes, swamps, usually in oölite or coral soils\n",
      "\n",
      "[[ ## prompt ## ]]\n",
      "\n",
      "    What is the plant size,\n",
      "    leaf shape, leaf length, leaf width, leaf thickness,\n",
      "    seed length, seed width,\n",
      "    fruit type, fruit length, fruit width,\n",
      "    deciduousness, phenology, habitat, elevation?\n",
      "    If it is not mentioned return an empty value.\n",
      "\n",
      "Respond with a JSON object in the following order of fields: `plant_height`, then `leaf_shape`, then `leaf_length`, then `leaf_width`, then `leaf_thickness`, then `fruit_type`, then `fruit_length`, then `fruit_width`, then `seed_length`, then `seed_width`, then `deciduousness`, then `phenology`, then `habitat`, then `elevation`.\n",
      "\n",
      "\n",
      "\u001b[31mAssistant message:\u001b[0m\n",
      "\n",
      "{\n",
      "  \"plant_height\": \"\",\n",
      "  \"leaf_shape\": \"deltate-ovate\",\n",
      "  \"leaf_length\": \"1.5\\u20136 cm\",\n",
      "  \"leaf_width\": \"1\\u20135 cm\",\n",
      "  \"leaf_thickness\": \"\",\n",
      "  \"fruit_type\": \"Cypselae\",\n",
      "  \"fruit_length\": \"1.5\\u20132 mm\",\n",
      "  \"fruit_width\": \"\",\n",
      "  \"seed_length\": \"\",\n",
      "  \"seed_width\": \"\",\n",
      "  \"deciduousness\": \"\",\n",
      "  \"phenology\": \"Flowering year round\",\n",
      "  \"habitat\": \"Woodlands, savannas, salt marshes, swamps, usually in o\\u00f6lite or coral soils\",\n",
      "  \"elevation\": \"\"\n",
      "}\n",
      "\n",
      "\n",
      "\u001b[31mUser message:\u001b[0m\n",
      "\n",
      "[[ ## family ## ]]\n",
      "Asteraceae\n",
      "\n",
      "[[ ## taxon ## ]]\n",
      "Solidago ulmifolia\n",
      "\n",
      "[[ ## text ## ]]\n",
      "<b>Plants </b>40–120 cm; caudices branching, woody. <b>Stems</b> usually 1, erect, glabrous, sparsely hairy in arrays. <b>Leaves</b>: basal when present similar to proximal cauline; proximal cauline often withering by flowering, tapering (sometimes rather abruptly) to short, winged petioles, blades ovate-lanceolate, 60–100(–150) × 30–40(–50) mm, thin, margins coarsely serrate, apices acute, abaxial faces hirsute on main nerves, adaxial sparsely hirsute to somewhat scabrous; mid to distal cauline subsessile to sessile, blades lanceolate, 20–50 × 5–20 mm, gradually reduced distally, margins entire. <b>Heads</b> 20–150, secund, in open paniculiform arrays, proximal branches elongate and widely divergent, sometimes pyramidal-secund with proximal branches short and recurved-secund. <b>Peduncles</b> 1.7–2 mm, sparsely to moderately short hispido-strigose, bracteoles 2–7, ovate, grading into phyllaries. <b>Involucres</b> 3–4 mm. <b>Phyllaries</b> (16–18) in 2–3 series, unequal; outer ovate, acute, inner linear-lanceolate, obtuse to acute. <b>Ray</b> florets 3–6; laminae 1–2 × 0.5–1 mm. <b>Disc</b> florets 4–7; corollas 2.7–3 mm, lobes 0.5–1.1 mm. <b>Cypselae</b> 1–1.6 mm, finely hairy; pappi ± 2.5 mm.\n",
      "\n",
      "[[ ## prompt ## ]]\n",
      "\n",
      "    What is the plant size,\n",
      "    leaf shape, leaf length, leaf width, leaf thickness,\n",
      "    seed length, seed width,\n",
      "    fruit type, fruit length, fruit width,\n",
      "    deciduousness, phenology, habitat, elevation?\n",
      "    If it is not mentioned return an empty value.\n",
      "\n",
      "Respond with a JSON object in the following order of fields: `plant_height`, then `leaf_shape`, then `leaf_length`, then `leaf_width`, then `leaf_thickness`, then `fruit_type`, then `fruit_length`, then `fruit_width`, then `seed_length`, then `seed_width`, then `deciduousness`, then `phenology`, then `habitat`, then `elevation`.\n",
      "\n",
      "\n",
      "\u001b[31mAssistant message:\u001b[0m\n",
      "\n",
      "{\n",
      "  \"plant_height\": \"40\\u2013120 cm\",\n",
      "  \"leaf_shape\": \"tapering (sometimes rather abruptly) to short, winged petioles, blades ovate-lanceolate\",\n",
      "  \"leaf_length\": \"60\\u2013100(\\u2013150) mm\",\n",
      "  \"leaf_width\": \"30\\u201340(\\u201350) mm\",\n",
      "  \"leaf_thickness\": \"\",\n",
      "  \"fruit_type\": \"Cypselae\",\n",
      "  \"fruit_length\": \"1\\u20131.6 mm\",\n",
      "  \"fruit_width\": \"\",\n",
      "  \"seed_length\": \"\",\n",
      "  \"seed_width\": \"\",\n",
      "  \"deciduousness\": \"\",\n",
      "  \"phenology\": \"\",\n",
      "  \"habitat\": \"\",\n",
      "  \"elevation\": \"\"\n",
      "}\n",
      "\n",
      "\n",
      "\u001b[31mUser message:\u001b[0m\n",
      "\n",
      "[[ ## family ## ]]\n",
      "Asteraceae\n",
      "\n",
      "[[ ## taxon ## ]]\n",
      "Coreopsis tinctoria\n",
      "\n",
      "[[ ## text ## ]]\n",
      "<b>Annuals,</b> (10–)30–70(–150+) cm. <b>Leaves</b>: proximal blades usually 1(–3)-pinnate, terminal lobes lance-ovate to oblanceolate, 10–60 × 5–25 mm; cauline blades usually 1–2(–3)-pinnate, rarely simple, simple blades or terminal lobes lance-linear to linear or filiform, 10–45 × 0.5–2(–5+) mm. <b>Peduncles</b> 1–5(–15+) cm. <b>Calyculi</b> of deltate-lanceolate bractlets 1–3+ mm. <b>Phyllaries</b> ± lance-oblong to lance-ovate, 4–7(–9) mm. <b>Ray</b> laminae usually yellow with red-brown blotch, sometimes red-brown in proximal 1/3–9/10 and distally yellow, rarely yellow throughout, 12–18+ mm. <b>Disc</b> corollas 2.5–3+ mm. <b>Cypselae</b> 1.5–3(–4+) mm, wings 0 or 0.1–0.7+ mm wide; pappi 0, or of 1–2 cusps or subulate scales 0.1–1+ mm. <b>2n</b> = 24 (+ 0–2 Bs).\n",
      "Phenology: Flowering year round, mostly Jun–Aug.\n",
      "Habitat: Moist, sandy or clay soils, sometimes alkaline flats, prairies, ditches, disturbed places\n",
      "Elevation: (0–)20–1500(–2000) m\n",
      "\n",
      "[[ ## prompt ## ]]\n",
      "\n",
      "    What is the plant size,\n",
      "    leaf shape, leaf length, leaf width, leaf thickness,\n",
      "    seed length, seed width,\n",
      "    fruit type, fruit length, fruit width,\n",
      "    deciduousness, phenology, habitat, elevation?\n",
      "    If it is not mentioned return an empty value.\n",
      "\n",
      "Respond with a JSON object in the following order of fields: `plant_height`, then `leaf_shape`, then `leaf_length`, then `leaf_width`, then `leaf_thickness`, then `fruit_type`, then `fruit_length`, then `fruit_width`, then `seed_length`, then `seed_width`, then `deciduousness`, then `phenology`, then `habitat`, then `elevation`.\n",
      "\n",
      "\n",
      "\u001b[31mAssistant message:\u001b[0m\n",
      "\n",
      "{\n",
      "  \"plant_height\": \"(10\\u2013)30\\u201370(\\u2013150+) cm\",\n",
      "  \"leaf_shape\": \"pinnate, terminal lobes lance-ovate to oblanceolate\",\n",
      "  \"leaf_length\": \"10\\u201360 mm\",\n",
      "  \"leaf_width\": \"5\\u201325 mm\",\n",
      "  \"leaf_thickness\": \"\",\n",
      "  \"fruit_type\": \"Cypselae\",\n",
      "  \"fruit_length\": \"1.5\\u20133(\\u20134+) mm\",\n",
      "  \"fruit_width\": \"\",\n",
      "  \"seed_length\": \"\",\n",
      "  \"seed_width\": \"\",\n",
      "  \"deciduousness\": \"\",\n",
      "  \"phenology\": \"Flowering year round, mostly Jun\\u2013Aug\",\n",
      "  \"habitat\": \"Moist, sandy or clay soils, sometimes alkaline flats, prairies, ditches, disturbed places\",\n",
      "  \"elevation\": \"(0\\u2013)20\\u20131500(\\u20132000) m\"\n",
      "}\n",
      "\n",
      "\n",
      "\u001b[31mUser message:\u001b[0m\n",
      "\n",
      "[[ ## family ## ]]\n",
      "Asteraceae\n",
      "\n",
      "[[ ## taxon ## ]]\n",
      "Liatris aspera\n",
      "\n",
      "[[ ## text ## ]]\n",
      "<b>Plants </b>30–180 cm. <b>Corms</b> globose. <b>Stems</b> hispidulous-puberulent. <b>Leaves</b>: basal (usually withering before flowering) and proximal cauline 1-nerved, broadly oblanceolate to elliptic- or lanceolate-spatulate to linear-lanceolate, 80–250 × (4–)6–25 mm, gradually or abruptly reduced distally, essentially glabrous or sparsely or densely puberulent-hispidulous, ± gland-dotted (distal especially). <b>Heads</b> in loose, spiciform arrays. <b>Peduncles</b> 0 or (ascending to spreading or deflexed) 1–5(–10) mm. <b>Involucres</b> campanulate-hemispheric to turbinate-campanulate, (9–)10–16 × 10–20 mm. <b>Phyllaries</b> usually in 4–5 series, (outer or outer and middle usually reflexed) broadly obovate to oblong-spatulate, unequal, essentially glabrous, margins with relatively broad, whitish-hyaline, irregular to erose or lacerate borders (especially on the distal 1/3), strongly bullate (with a sharp, low, rounded buttress delimiting the hyaline border), apices usually rounded to subtruncate. <b>Florets</b> (14–)18–24(–30); corolla tubes pilose inside. <b>Cypselae</b> (3.5–)4.5–6 mm; pappi: lengths ± equaling corollas, bristles barbellate. <b>2n</b> = 20.\n",
      "Phenology: Flowering Aug–Sep(–Oct).\n",
      "Habitat: Prairies, barrens, old fields, sand dunes, ridges, fields, stream bottoms, sandstone outcrops, limestone ridges, hills, oak, oak-juniper, and oak-pine woodlands, jack pine, sand, silt loam\n",
      "Elevation: 50–500(–900) m\n",
      "\n",
      "[[ ## prompt ## ]]\n",
      "\n",
      "    What is the plant size,\n",
      "    leaf shape, leaf length, leaf width, leaf thickness,\n",
      "    seed length, seed width,\n",
      "    fruit type, fruit length, fruit width,\n",
      "    deciduousness, phenology, habitat, elevation?\n",
      "    If it is not mentioned return an empty value.\n",
      "\n",
      "Respond with a JSON object in the following order of fields: `plant_height`, then `leaf_shape`, then `leaf_length`, then `leaf_width`, then `leaf_thickness`, then `fruit_type`, then `fruit_length`, then `fruit_width`, then `seed_length`, then `seed_width`, then `deciduousness`, then `phenology`, then `habitat`, then `elevation`.\n",
      "\n",
      "\n",
      "\u001b[31mAssistant message:\u001b[0m\n",
      "\n",
      "{\n",
      "  \"plant_height\": \"30\\u2013180 cm\",\n",
      "  \"leaf_shape\": \"oblanceolate to elliptic- or lanceolate-spatulate to linear-lanceolate\",\n",
      "  \"leaf_length\": \"80\\u2013250 mm\",\n",
      "  \"leaf_width\": \"(4\\u2013)6\\u201325 mm\",\n",
      "  \"leaf_thickness\": \"\",\n",
      "  \"fruit_type\": \"Cypselae\",\n",
      "  \"fruit_length\": \"(3.5\\u2013)4.5\\u20136 mm\",\n",
      "  \"fruit_width\": \"\",\n",
      "  \"seed_length\": \"\",\n",
      "  \"seed_width\": \"\",\n",
      "  \"deciduousness\": \"\",\n",
      "  \"phenology\": \"Flowering Aug\\u2013Sep(\\u2013Oct)\",\n",
      "  \"habitat\": \"Prairies, barrens, old fields, sand dunes, ridges, fields, stream bottoms, sandstone outcrops, limestone ridges, hills, oak, oak-juniper, and oak-pine woodlands, jack pine, sand, silt loam\",\n",
      "  \"elevation\": \"50\\u2013500(\\u2013900) m\"\n",
      "}\n",
      "\n",
      "\n",
      "\u001b[31mUser message:\u001b[0m\n",
      "\n",
      "[[ ## family ## ]]\n",
      "Asteraceae\n",
      "\n",
      "[[ ## taxon ## ]]\n",
      "Liatris tenuifolia\n",
      "\n",
      "[[ ## text ## ]]\n",
      "<b>Plants </b>40–150 cm. <b>Corms</b> globose. <b>Stems</b> glabrous or sparsely pilose. <b>Leaves</b>: basal and proximal cauline (arising from separated nodes) 1-nerved, linear to linear-lanceolate, 100–300 × 1–2(–2.5) mm, gradually or abruptly reduced distally, essentially glabrous, gland-dotted (proximal margins sometimes ciliate). <b>Heads</b> in compact, racemiform arrays. <b>Peduncles</b> (ascending) 1–7 mm. <b>Involucres</b> turbinate-campanulate, 5–7 × 4–5 mm. <b>Phyllaries</b> in 2–3(–4) series, lanceolate to oblong or elliptic-oblong, unequal, essentially glabrous, margins with (pinkish purple) hyaline borders, apices usually rounded-retuse and minutely involute-cuspidate to apiculate. <b>Florets</b> 4–6; corolla tubes glabrous inside. <b>Cypselae</b> 2.5–4 mm; pappi: lengths ± equaling corollas, bristles barbellate.\n",
      "Phenology: Flowering Aug–Nov.\n",
      "Habitat: Longleaf pine savannas, longleaf pine-scrub oak, turkey oak-bluejack oak, slash pine-sand pine-scrub, sand pine-scrub, sand ridges, hills, and flats, roadsides\n",
      "Elevation: 10–100 m\n",
      "\n",
      "[[ ## prompt ## ]]\n",
      "\n",
      "    What is the plant size,\n",
      "    leaf shape, leaf length, leaf width, leaf thickness,\n",
      "    seed length, seed width,\n",
      "    fruit type, fruit length, fruit width,\n",
      "    deciduousness, phenology, habitat, elevation?\n",
      "    If it is not mentioned return an empty value.\n",
      "\n",
      "Respond with a JSON object in the following order of fields: `plant_height`, then `leaf_shape`, then `leaf_length`, then `leaf_width`, then `leaf_thickness`, then `fruit_type`, then `fruit_length`, then `fruit_width`, then `seed_length`, then `seed_width`, then `deciduousness`, then `phenology`, then `habitat`, then `elevation`.\n",
      "\n",
      "\n",
      "\u001b[31mAssistant message:\u001b[0m\n",
      "\n",
      "{\n",
      "  \"plant_height\": \"40\\u2013150 cm\",\n",
      "  \"leaf_shape\": \"linear to linear-lanceolate\",\n",
      "  \"leaf_length\": \"100\\u2013300 mm\",\n",
      "  \"leaf_width\": \"1\\u20132(\\u20132.5) mm\",\n",
      "  \"leaf_thickness\": \"\",\n",
      "  \"fruit_type\": \"Cypselae\",\n",
      "  \"fruit_length\": \"2.5\\u20134 mm\",\n",
      "  \"fruit_width\": \"\",\n",
      "  \"seed_length\": \"\",\n",
      "  \"seed_width\": \"\",\n",
      "  \"deciduousness\": \"\",\n",
      "  \"phenology\": \"Flowering Aug\\u2013Nov\",\n",
      "  \"habitat\": \"Longleaf pine savannas, longleaf pine-scrub oak, turkey oak-bluejack oak, slash pine-sand pine-scrub, sand pine-scrub, sand ridges, hills, and flats, roadsides\",\n",
      "  \"elevation\": \"10\\u2013100 m\"\n",
      "}\n",
      "\n",
      "\n",
      "\u001b[31mUser message:\u001b[0m\n",
      "\n",
      "[[ ## family ## ]]\n",
      "Asteraceae\n",
      "\n",
      "[[ ## taxon ## ]]\n",
      "Symphyotrichum adnatum\n",
      "\n",
      "[[ ## text ## ]]\n",
      "<b>Perennials,</b> 30–120 cm, cespitose; with herbaceous or thick, woody, sometimes cormoid caudices. <b>Stems</b> 5+, erect to scandent-sprawling (brown, branched from middle), moderately to densely finely hairy. <b>Leaves</b> (yellowish green) thick, firm, margins entire; basal early deciduous, sessile or subpetiolate, blades (3-nerved) oblanceolate to obovate, 10–43 × 7–15 mm, bases cuneate, margins scabrous, apices acute to obtuse, faces sparsely finely scabrous; proximal cauline sessile, blades narrowly obovate to oblanceolate, 20–35 × 5–13 mm, bases auriculate-clasping, margins finely scabrous, apices acute to obtuse, faces finely scabrous, shiny; distal sessile, blades lanceolate to linear, 3–10 × 1–4 mm, gradually reduced to bracts distally, bases subclasping and adnate to stem for 1/2+ length, apices narrowly acute, white-spinulose, faces finely scabrous, viscid, minutely stipitate-glandular. <b>Heads</b> in ± open, paniculiform arrays, branches initially patent then ascending or divaricate. <b>Peduncles</b> densely short-strigose, glandular, bracts linear, adnate, densely short-strigose. <b>Involucres</b> campanulate, 4–6.5 mm. <b>Phyllaries</b> in 4–5 series, oblong to oblanceolate, strongly unequal, bases (tan) ± indurate, margins hyaline, finely scabrous, green zones lenticular, in distal 1/4–2/5, apices obtuse, mucronate to finely subspinulose, faces scabrellous-puberulent, stipitate-glandular. <b>Ray</b> florets 10–20; corollas light to dark lavender, laminae 5–8 × 0.5–1.5 mm. <b>Disc</b> florets 12–25; corollas yellow, 3.7–7 mm, throats narrowly funnelform, lobes triangular, 0.4–0.8 mm. <b>Cypselae</b> tan to brown, obovoid, not compressed, 2–2.5 mm, 6–10-nerved (faint), faces sparsely strigose; pappi tan, 3.75–8 mm. <b>2n</b> = 20.\n",
      "Phenology: Flowering Oct–Dec.\n",
      "Habitat: Sandy, clayey soils, sandhills, oak-pine scrub, open pine flatwoods, roadsides\n",
      "Elevation: 0–100+ m\n",
      "\n",
      "[[ ## prompt ## ]]\n",
      "\n",
      "    What is the plant size,\n",
      "    leaf shape, leaf length, leaf width, leaf thickness,\n",
      "    seed length, seed width,\n",
      "    fruit type, fruit length, fruit width,\n",
      "    deciduousness, phenology, habitat, elevation?\n",
      "    If it is not mentioned return an empty value.\n",
      "\n",
      "Respond with a JSON object in the following order of fields: `plant_height`, then `leaf_shape`, then `leaf_length`, then `leaf_width`, then `leaf_thickness`, then `fruit_type`, then `fruit_length`, then `fruit_width`, then `seed_length`, then `seed_width`, then `deciduousness`, then `phenology`, then `habitat`, then `elevation`.\n",
      "\n",
      "\n",
      "\u001b[31mAssistant message:\u001b[0m\n",
      "\n",
      "{\n",
      "  \"plant_height\": \"30\\u2013120 cm\",\n",
      "  \"leaf_shape\": \"oblanceolate to obovate\",\n",
      "  \"leaf_length\": \"10\\u201343 mm\",\n",
      "  \"leaf_width\": \"7\\u201315 mm\",\n",
      "  \"leaf_thickness\": \"\",\n",
      "  \"fruit_type\": \"Cypselae\",\n",
      "  \"fruit_length\": \"2\\u20132.5 mm\",\n",
      "  \"fruit_width\": \"\",\n",
      "  \"seed_length\": \"\",\n",
      "  \"seed_width\": \"\",\n",
      "  \"deciduousness\": \"\",\n",
      "  \"phenology\": \"Flowering Oct\\u2013Dec\",\n",
      "  \"habitat\": \"Sandy, clayey soils, sandhills, oak-pine scrub, open pine flatwoods, roadsides\",\n",
      "  \"elevation\": \"0\\u2013100+ m\"\n",
      "}\n",
      "\n",
      "\n",
      "\u001b[31mUser message:\u001b[0m\n",
      "\n",
      "[[ ## family ## ]]\n",
      "Asteraceae\n",
      "\n",
      "[[ ## taxon ## ]]\n",
      "Krigia cespitosa\n",
      "\n",
      "[[ ## text ## ]]\n",
      "<b>Annuals,</b> 4–42 cm; taprooted. <b>Stems</b> erect or ascending, branched, eglandular or stipitate-glandular, especially distally. <b>Leaves</b> basal and cauline; petiolate (at least basal); blades broadly to narrowly oblanceolate, 2–15 cm, margins entire or remotely toothed or lobed, lobes acute or rounded, apices acute to obtuse, faces glabrous or lightly glandular-villous; cauline appearing unequal and opposite proximal to distal peduncles, petiolate or sessile, blades oblanceolate to linear, gradually reduced, bases ± clasping, margins entire or dentate. <b>Heads</b> borne singly. <b>Peduncles</b> from branching, leafy stems. <b>Involucres</b> 2–8 mm. <b>Phyllaries</b> 5–10, erect in fruit, narrowly to broadly lanceolate, midveins evident, not prominent or keeled, apices acute. <b>Florets</b> 12–35; corollas yellow, 2–11 mm (barely equaling to much surpassing phyllaries). <b>Cypselae</b> fusiform, 1.4–1.7 mm, broadest at or ± beyond middles (apical areas ± equal to basal areoles), 15-ribbed; pappi 0. <b>2n</b> = 8.\n",
      "\n",
      "[[ ## prompt ## ]]\n",
      "\n",
      "    What is the plant size,\n",
      "    leaf shape, leaf length, leaf width, leaf thickness,\n",
      "    seed length, seed width,\n",
      "    fruit type, fruit length, fruit width,\n",
      "    deciduousness, phenology, habitat, elevation?\n",
      "    If it is not mentioned return an empty value.\n",
      "\n",
      "Respond with a JSON object in the following order of fields: `plant_height`, then `leaf_shape`, then `leaf_length`, then `leaf_width`, then `leaf_thickness`, then `fruit_type`, then `fruit_length`, then `fruit_width`, then `seed_length`, then `seed_width`, then `deciduousness`, then `phenology`, then `habitat`, then `elevation`.\n",
      "\n",
      "\n",
      "\u001b[31mResponse:\u001b[0m\n",
      "\n",
      "\u001b[32m{\n",
      "   \"plant_height\": \"30\\u2013120 cm\",\n",
      "   \"leaf_shape\": \"oblanceolate to obovaté\",\n",
      "   \"leaf_length\": \"10\\u201343 mm\",\n",
      "   \"leaf_width\": \"7\\u201315 mm\",\n",
      "   \"leaf_thickness\": \"\",\n",
      "   \"fruit_type\": \"Cypsełae\",\n",
      "   \"fruit_length\": \"2\\u20132.5 mm\",\n",
      "   \"fruit_width\": \"\",\n",
      "   \"seed_length\": \"\",\n",
      "   \"seed_width\": \"\",\n",
      "   \"deciduousness\": \"\",\n",
      "   \"phenology\": \"Flowering Oct\\u2013Dec\",\n",
      "   \"habitat\": \"Sanity, clayey soil, sandhill, oak-pine scrubs, open pineland, roadsides\",\n",
      "   \"elevation\": \"0\\u2013100+ m\"\n",
      "}\u001b[0m\n",
      "\n",
      "\n",
      "\n",
      "\n",
      "\n"
     ]
    }
   ],
   "source": [
    "dspy.inspect_history(n=1)"
   ]
  },
  {
   "cell_type": "code",
   "execution_count": 10,
   "id": "945422fb-cbed-4510-a008-2ebb9203d038",
   "metadata": {
    "execution": {
     "iopub.execute_input": "2025-03-26T05:38:21.829324Z",
     "iopub.status.busy": "2025-03-26T05:38:21.829234Z",
     "iopub.status.idle": "2025-03-26T05:38:21.850605Z",
     "shell.execute_reply": "2025-03-26T05:38:21.850340Z",
     "shell.execute_reply.started": "2025-03-26T05:38:21.829316Z"
    }
   },
   "outputs": [],
   "source": [
    "ex = args.examples_json.stem.replace(\"_examples\", \"\")\n",
    "mod = args.model.split(\"/\")[-1]\n",
    "mod = re.sub(r\"\\W\", \"_\", mod)\n",
    "optimized_trait_extractor.save(f\"../data/fna/optimized_{mod}_trait_extractor_{ex}.json\")"
   ]
  },
  {
   "cell_type": "code",
   "execution_count": null,
   "id": "df66a011-e415-416b-a6e9-520165d56281",
   "metadata": {},
   "outputs": [],
   "source": []
  }
 ],
 "metadata": {
  "kernelspec": {
   "display_name": "Python 3 (ipykernel)",
   "language": "python",
   "name": "python3"
  },
  "language_info": {
   "codemirror_mode": {
    "name": "ipython",
    "version": 3
   },
   "file_extension": ".py",
   "mimetype": "text/x-python",
   "name": "python",
   "nbconvert_exporter": "python",
   "pygments_lexer": "ipython3",
   "version": "3.12.9"
  }
 },
 "nbformat": 4,
 "nbformat_minor": 5
}

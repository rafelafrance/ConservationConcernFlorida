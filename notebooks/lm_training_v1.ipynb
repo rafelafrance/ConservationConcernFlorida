{
 "cells": [
  {
   "cell_type": "code",
   "execution_count": 3,
   "id": "73f72742-8fe4-4110-80c1-d2d5705c0db4",
   "metadata": {},
   "outputs": [],
   "source": [
    "import argparse\n",
    "import json\n",
    "import random\n",
    "import textwrap\n",
    "from pathlib import Path\n",
    "\n",
    "import dspy\n",
    "from dspy.teleprompt import LabeledFewShot\n",
    "from dspy.evaluate import Evaluate\n",
    "from ccf.pylib.lm_data import PROMPT, Instance, TraitExtractor, score_prediction\n",
    "\n",
    "from pprint import pp"
   ]
  },
  {
   "cell_type": "code",
   "execution_count": 9,
   "id": "57e0165b-4507-4b4c-8347-482f98456975",
   "metadata": {},
   "outputs": [],
   "source": [
    "args = argparse.Namespace(\n",
    "    examples=Path(\"../data/fna/Asteraceae_examples_2025-03-17a.json\"),\n",
    "    model=\"ollama_chat/gemma3:27b\",\n",
    "    api_base=\"http://localhost:11434\",\n",
    "    api_key=\"\",\n",
    "    train_split=0.1,\n",
    "    dev_split=0.5,\n",
    "    test_split=0.4,\n",
    "    seed=2203673,\n",
    ")"
   ]
  },
  {
   "cell_type": "code",
   "execution_count": 10,
   "id": "04247f45-d1e1-4c54-9216-59c3fb797f44",
   "metadata": {},
   "outputs": [],
   "source": [
    "random.seed(args.seed)\n",
    "\n",
    "with args.examples.open() as f:\n",
    "    example_data = json.load(f)"
   ]
  },
  {
   "cell_type": "code",
   "execution_count": 11,
   "id": "0622ffb8-26b6-4fbf-8cb5-772f8fedaff6",
   "metadata": {},
   "outputs": [],
   "source": [
    "def example_splits(instances: list[Instance], train_split, dev_split):\n",
    "    examples = [\n",
    "        dspy.Example(text=i.text, prompt=PROMPT, traits=i.traits).with_inputs(\n",
    "            \"text\", \"prompt\"\n",
    "        )\n",
    "        for i in instances\n",
    "    ]\n",
    "    random.shuffle(examples)\n",
    "\n",
    "    total = len(examples)\n",
    "    split1 = round(total * train_split)\n",
    "    split2 = split1 + round(total * dev_split)\n",
    "\n",
    "    dataset = {\n",
    "        \"train\": examples[:split1],\n",
    "        \"dev\": examples[split1:split2],\n",
    "        \"test\": examples[split2:],\n",
    "    }\n",
    "\n",
    "    return dataset"
   ]
  },
  {
   "cell_type": "code",
   "execution_count": 12,
   "id": "9e99da0d-c271-4f51-af07-8247eaef69a3",
   "metadata": {},
   "outputs": [
    {
     "name": "stdout",
     "output_type": "stream",
     "text": [
      "Average Metric: 180.56 / 203 (88.9%): 100%|████████████████████████████████████████████████████████████████████████████████████████████████████████| 203/203 [00:02<00:00, 68.07it/s]\n"
     ]
    },
    {
     "name": "stderr",
     "output_type": "stream",
     "text": [
      "2025/03/18 11:10:40 INFO dspy.evaluate.evaluate: Average Metric: 180.56017689206732 / 203 (88.9%)\n"
     ]
    },
    {
     "data": {
      "text/html": [
       "<div>\n",
       "<style scoped>\n",
       "    .dataframe tbody tr th:only-of-type {\n",
       "        vertical-align: middle;\n",
       "    }\n",
       "\n",
       "    .dataframe tbody tr th {\n",
       "        vertical-align: top;\n",
       "    }\n",
       "\n",
       "    .dataframe thead th {\n",
       "        text-align: right;\n",
       "    }\n",
       "</style>\n",
       "<table border=\"1\" class=\"dataframe\">\n",
       "  <thead>\n",
       "    <tr style=\"text-align: right;\">\n",
       "      <th></th>\n",
       "      <th>text</th>\n",
       "      <th>prompt</th>\n",
       "      <th>example_traits</th>\n",
       "      <th>pred_traits</th>\n",
       "      <th>score_prediction</th>\n",
       "    </tr>\n",
       "  </thead>\n",
       "  <tbody>\n",
       "    <tr>\n",
       "      <th>0</th>\n",
       "      <td>&lt;b&gt;Perennials,&lt;/b&gt; 15–25 cm. &lt;b&gt;Stems&lt;/b&gt; erect, puberulent to his...</td>\n",
       "      <td>What is the plant size, leaf shape, leaf length, leaf width, leaf ...</td>\n",
       "      <td>Traits(plant_height='15–25 cm', leaf_shape='elliptic-lanceolate to...</td>\n",
       "      <td>Traits(plant_height='15–25 cm', leaf_shape='elliptic-lanceolate to...</td>\n",
       "      <td>✔️ [1.000]</td>\n",
       "    </tr>\n",
       "    <tr>\n",
       "      <th>1</th>\n",
       "      <td>&lt;b&gt;Annuals,&lt;/b&gt; 30–150(–400+) cm. &lt;b&gt;Stems&lt;/b&gt; erect. &lt;b&gt;Leaves&lt;/b...</td>\n",
       "      <td>What is the plant size, leaf shape, leaf length, leaf width, leaf ...</td>\n",
       "      <td>Traits(plant_height='30–150(–400+) cm', leaf_shape='rounded-deltat...</td>\n",
       "      <td>Traits(plant_height='30–150(–400+) cm', leaf_shape='rounded-deltat...</td>\n",
       "      <td>✔️ [0.929]</td>\n",
       "    </tr>\n",
       "    <tr>\n",
       "      <th>2</th>\n",
       "      <td>&lt;b&gt;Plants &lt;/b&gt;10–80(–200) cm; nodal spines 0. &lt;b&gt;Leaves&lt;/b&gt;: petio...</td>\n",
       "      <td>What is the plant size, leaf shape, leaf length, leaf width, leaf ...</td>\n",
       "      <td>Traits(plant_height='10–80(–200) cm', leaf_shape='suborbiculate to...</td>\n",
       "      <td>Traits(plant_height='10–80(–200) cm', leaf_shape='suborbiculate to...</td>\n",
       "      <td>✔️ [0.857]</td>\n",
       "    </tr>\n",
       "    <tr>\n",
       "      <th>3</th>\n",
       "      <td>&lt;b&gt;Biennials &lt;/b&gt;or perennials, 60–150(–200) cm; crown sprouts fro...</td>\n",
       "      <td>What is the plant size, leaf shape, leaf length, leaf width, leaf ...</td>\n",
       "      <td>Traits(plant_height='60–150(–200) cm', leaf_shape='linear or linea...</td>\n",
       "      <td>Traits(plant_height='60–150(–200) cm', leaf_shape='linear or linea...</td>\n",
       "      <td>✔️ [0.752]</td>\n",
       "    </tr>\n",
       "    <tr>\n",
       "      <th>4</th>\n",
       "      <td>&lt;b&gt;Annuals,&lt;/b&gt; to 60 cm. &lt;b&gt;Stems&lt;/b&gt; often spreading or prostrat...</td>\n",
       "      <td>What is the plant size, leaf shape, leaf length, leaf width, leaf ...</td>\n",
       "      <td>Traits(plant_height='60 cm', leaf_shape='tapering to winged petiol...</td>\n",
       "      <td>Traits(plant_height='to 60 cm', leaf_shape='lanceolate to oblanceo...</td>\n",
       "      <td>✔️ [0.954]</td>\n",
       "    </tr>\n",
       "    <tr>\n",
       "      <th>...</th>\n",
       "      <td>...</td>\n",
       "      <td>...</td>\n",
       "      <td>...</td>\n",
       "      <td>...</td>\n",
       "      <td>...</td>\n",
       "    </tr>\n",
       "    <tr>\n",
       "      <th>198</th>\n",
       "      <td>&lt;b&gt;Perennials,&lt;/b&gt; 10–60 cm; taproots vertical, thick, fibrous, ca...</td>\n",
       "      <td>What is the plant size, leaf shape, leaf length, leaf width, leaf ...</td>\n",
       "      <td>Traits(plant_height='10–60 cm', leaf_shape='oblanceolate, lyrate',...</td>\n",
       "      <td>Traits(plant_height='10–60 cm', leaf_shape='oblanceolate, lyrate t...</td>\n",
       "      <td>✔️ [0.927]</td>\n",
       "    </tr>\n",
       "    <tr>\n",
       "      <th>199</th>\n",
       "      <td>&lt;b&gt;Perennials,&lt;/b&gt; 10–60(–100+) cm. &lt;b&gt;Stems&lt;/b&gt; erect. &lt;b&gt;Leaves&lt;...</td>\n",
       "      <td>What is the plant size, leaf shape, leaf length, leaf width, leaf ...</td>\n",
       "      <td>Traits(plant_height='10–60(–100+) cm', leaf_shape='deltate to lanc...</td>\n",
       "      <td>Traits(plant_height='10–60(–100+) cm', leaf_shape='deltate to lanc...</td>\n",
       "      <td>✔️ [0.929]</td>\n",
       "    </tr>\n",
       "    <tr>\n",
       "      <th>200</th>\n",
       "      <td>&lt;b&gt;Perennials,&lt;/b&gt; 50–300 cm (rhizomes often elongate, slender, pl...</td>\n",
       "      <td>What is the plant size, leaf shape, leaf length, leaf width, leaf ...</td>\n",
       "      <td>Traits(plant_height='50–300 cm', leaf_shape='ovate to lanceolate',...</td>\n",
       "      <td>Traits(plant_height='50–300 cm', leaf_shape='broadly ovate to lanc...</td>\n",
       "      <td>✔️ [0.898]</td>\n",
       "    </tr>\n",
       "    <tr>\n",
       "      <th>201</th>\n",
       "      <td>&lt;b&gt;Plants &lt;/b&gt;50–200 cm; rhizomes short- to long-creeping. &lt;b&gt;Stem...</td>\n",
       "      <td>What is the plant size, leaf shape, leaf length, leaf width, leaf ...</td>\n",
       "      <td>Traits(plant_height='50–200 cm', leaf_shape='tapering to bases; bl...</td>\n",
       "      <td>Traits(plant_height='50–200 cm', leaf_shape='oblanceolate (basal/m...</td>\n",
       "      <td>✔️ [0.709]</td>\n",
       "    </tr>\n",
       "    <tr>\n",
       "      <th>202</th>\n",
       "      <td>&lt;b&gt;Annuals,&lt;/b&gt; 4–42 cm; taprooted. &lt;b&gt;Stems&lt;/b&gt; erect or ascendin...</td>\n",
       "      <td>What is the plant size, leaf shape, leaf length, leaf width, leaf ...</td>\n",
       "      <td>Traits(plant_height='4–42 cm', leaf_shape='oblanceolate', leaf_len...</td>\n",
       "      <td>Traits(plant_height='4–42 cm', leaf_shape='broadly to narrowly obl...</td>\n",
       "      <td>✔️ [0.887]</td>\n",
       "    </tr>\n",
       "  </tbody>\n",
       "</table>\n",
       "<p>203 rows × 5 columns</p>\n",
       "</div>"
      ],
      "text/plain": [
       "                                                                      text  \\\n",
       "0    <b>Perennials,</b> 15–25 cm. <b>Stems</b> erect, puberulent to his...   \n",
       "1    <b>Annuals,</b> 30–150(–400+) cm. <b>Stems</b> erect. <b>Leaves</b...   \n",
       "2    <b>Plants </b>10–80(–200) cm; nodal spines 0. <b>Leaves</b>: petio...   \n",
       "3    <b>Biennials </b>or perennials, 60–150(–200) cm; crown sprouts fro...   \n",
       "4    <b>Annuals,</b> to 60 cm. <b>Stems</b> often spreading or prostrat...   \n",
       "..                                                                     ...   \n",
       "198  <b>Perennials,</b> 10–60 cm; taproots vertical, thick, fibrous, ca...   \n",
       "199  <b>Perennials,</b> 10–60(–100+) cm. <b>Stems</b> erect. <b>Leaves<...   \n",
       "200  <b>Perennials,</b> 50–300 cm (rhizomes often elongate, slender, pl...   \n",
       "201  <b>Plants </b>50–200 cm; rhizomes short- to long-creeping. <b>Stem...   \n",
       "202  <b>Annuals,</b> 4–42 cm; taprooted. <b>Stems</b> erect or ascendin...   \n",
       "\n",
       "                                                                    prompt  \\\n",
       "0    What is the plant size, leaf shape, leaf length, leaf width, leaf ...   \n",
       "1    What is the plant size, leaf shape, leaf length, leaf width, leaf ...   \n",
       "2    What is the plant size, leaf shape, leaf length, leaf width, leaf ...   \n",
       "3    What is the plant size, leaf shape, leaf length, leaf width, leaf ...   \n",
       "4    What is the plant size, leaf shape, leaf length, leaf width, leaf ...   \n",
       "..                                                                     ...   \n",
       "198  What is the plant size, leaf shape, leaf length, leaf width, leaf ...   \n",
       "199  What is the plant size, leaf shape, leaf length, leaf width, leaf ...   \n",
       "200  What is the plant size, leaf shape, leaf length, leaf width, leaf ...   \n",
       "201  What is the plant size, leaf shape, leaf length, leaf width, leaf ...   \n",
       "202  What is the plant size, leaf shape, leaf length, leaf width, leaf ...   \n",
       "\n",
       "                                                            example_traits  \\\n",
       "0    Traits(plant_height='15–25 cm', leaf_shape='elliptic-lanceolate to...   \n",
       "1    Traits(plant_height='30–150(–400+) cm', leaf_shape='rounded-deltat...   \n",
       "2    Traits(plant_height='10–80(–200) cm', leaf_shape='suborbiculate to...   \n",
       "3    Traits(plant_height='60–150(–200) cm', leaf_shape='linear or linea...   \n",
       "4    Traits(plant_height='60 cm', leaf_shape='tapering to winged petiol...   \n",
       "..                                                                     ...   \n",
       "198  Traits(plant_height='10–60 cm', leaf_shape='oblanceolate, lyrate',...   \n",
       "199  Traits(plant_height='10–60(–100+) cm', leaf_shape='deltate to lanc...   \n",
       "200  Traits(plant_height='50–300 cm', leaf_shape='ovate to lanceolate',...   \n",
       "201  Traits(plant_height='50–200 cm', leaf_shape='tapering to bases; bl...   \n",
       "202  Traits(plant_height='4–42 cm', leaf_shape='oblanceolate', leaf_len...   \n",
       "\n",
       "                                                               pred_traits  \\\n",
       "0    Traits(plant_height='15–25 cm', leaf_shape='elliptic-lanceolate to...   \n",
       "1    Traits(plant_height='30–150(–400+) cm', leaf_shape='rounded-deltat...   \n",
       "2    Traits(plant_height='10–80(–200) cm', leaf_shape='suborbiculate to...   \n",
       "3    Traits(plant_height='60–150(–200) cm', leaf_shape='linear or linea...   \n",
       "4    Traits(plant_height='to 60 cm', leaf_shape='lanceolate to oblanceo...   \n",
       "..                                                                     ...   \n",
       "198  Traits(plant_height='10–60 cm', leaf_shape='oblanceolate, lyrate t...   \n",
       "199  Traits(plant_height='10–60(–100+) cm', leaf_shape='deltate to lanc...   \n",
       "200  Traits(plant_height='50–300 cm', leaf_shape='broadly ovate to lanc...   \n",
       "201  Traits(plant_height='50–200 cm', leaf_shape='oblanceolate (basal/m...   \n",
       "202  Traits(plant_height='4–42 cm', leaf_shape='broadly to narrowly obl...   \n",
       "\n",
       "    score_prediction  \n",
       "0         ✔️ [1.000]  \n",
       "1         ✔️ [0.929]  \n",
       "2         ✔️ [0.857]  \n",
       "3         ✔️ [0.752]  \n",
       "4         ✔️ [0.954]  \n",
       "..               ...  \n",
       "198       ✔️ [0.927]  \n",
       "199       ✔️ [0.929]  \n",
       "200       ✔️ [0.898]  \n",
       "201       ✔️ [0.709]  \n",
       "202       ✔️ [0.887]  \n",
       "\n",
       "[203 rows x 5 columns]"
      ]
     },
     "metadata": {},
     "output_type": "display_data"
    },
    {
     "data": {
      "text/plain": [
       "88.95"
      ]
     },
     "execution_count": 12,
     "metadata": {},
     "output_type": "execute_result"
    }
   ],
   "source": [
    "instances = [Instance.dict_to_instance(d) for d in example_data]\n",
    "dataset = example_splits(instances, args.train_split, args.dev_split)\n",
    "\n",
    "lm = dspy.LM(args.model, api_base=args.api_base, api_key=args.api_key)\n",
    "dspy.configure(lm=lm)\n",
    "\n",
    "trait_extractor = dspy.Predict(TraitExtractor)\n",
    "\n",
    "evaluator = Evaluate(\n",
    "    devset=dataset[\"dev\"],\n",
    "    metric=score_prediction,\n",
    "    num_threads=1,\n",
    "    display_progress=True,\n",
    "    display_table=True,\n",
    ")\n",
    "\n",
    "evaluator(trait_extractor, devset=dataset[\"dev\"])"
   ]
  },
  {
   "cell_type": "code",
   "execution_count": 13,
   "id": "80124d94-d795-4041-9dcc-1d9b4b8a86d3",
   "metadata": {
    "scrolled": true
   },
   "outputs": [
    {
     "name": "stderr",
     "output_type": "stream",
     "text": [
      "2025/03/18 11:14:57 INFO dspy.teleprompt.mipro_optimizer_v2: \n",
      "RUNNING WITH THE FOLLOWING MEDIUM AUTO RUN SETTINGS:\n",
      "num_trials: 25\n",
      "minibatch: False\n",
      "num_candidates: 19\n",
      "valset size: 32\n",
      "\n",
      "2025/03/18 11:14:57 INFO dspy.teleprompt.mipro_optimizer_v2: \n",
      "==> STEP 1: BOOTSTRAP FEWSHOT EXAMPLES <==\n",
      "2025/03/18 11:14:57 INFO dspy.teleprompt.mipro_optimizer_v2: These will be used as few-shot example candidates for our program and for creating instructions.\n",
      "\n",
      "2025/03/18 11:14:57 INFO dspy.teleprompt.mipro_optimizer_v2: Bootstrapping N=19 sets of demonstrations...\n"
     ]
    },
    {
     "name": "stdout",
     "output_type": "stream",
     "text": [
      "Bootstrapping set 1/19\n",
      "Bootstrapping set 2/19\n",
      "Bootstrapping set 3/19\n"
     ]
    },
    {
     "name": "stderr",
     "output_type": "stream",
     "text": [
      " 44%|████████████████████████████████████████████████████████████████▉                                                                                 | 4/9 [00:31<00:38,  7.78s/it]\n"
     ]
    },
    {
     "name": "stdout",
     "output_type": "stream",
     "text": [
      "Bootstrapped 4 full traces after 4 examples for up to 1 rounds, amounting to 4 attempts.\n",
      "Bootstrapping set 4/19\n"
     ]
    },
    {
     "name": "stderr",
     "output_type": "stream",
     "text": [
      " 44%|████████████████████████████████████████████████████████████████▉                                                                                 | 4/9 [00:26<00:32,  6.56s/it]\n"
     ]
    },
    {
     "name": "stdout",
     "output_type": "stream",
     "text": [
      "Bootstrapped 4 full traces after 4 examples for up to 1 rounds, amounting to 4 attempts.\n",
      "Bootstrapping set 5/19\n"
     ]
    },
    {
     "name": "stderr",
     "output_type": "stream",
     "text": [
      " 44%|████████████████████████████████████████████████████████████████▉                                                                                 | 4/9 [00:25<00:31,  6.39s/it]\n"
     ]
    },
    {
     "name": "stdout",
     "output_type": "stream",
     "text": [
      "Bootstrapped 4 full traces after 4 examples for up to 1 rounds, amounting to 4 attempts.\n",
      "Bootstrapping set 6/19\n"
     ]
    },
    {
     "name": "stderr",
     "output_type": "stream",
     "text": [
      " 11%|████████████████▏                                                                                                                                 | 1/9 [00:06<00:52,  6.58s/it]\n"
     ]
    },
    {
     "name": "stdout",
     "output_type": "stream",
     "text": [
      "Bootstrapped 1 full traces after 1 examples for up to 1 rounds, amounting to 1 attempts.\n",
      "Bootstrapping set 7/19\n"
     ]
    },
    {
     "name": "stderr",
     "output_type": "stream",
     "text": [
      " 11%|████████████████▏                                                                                                                                 | 1/9 [00:07<00:57,  7.21s/it]\n"
     ]
    },
    {
     "name": "stdout",
     "output_type": "stream",
     "text": [
      "Bootstrapped 1 full traces after 1 examples for up to 1 rounds, amounting to 1 attempts.\n",
      "Bootstrapping set 8/19\n"
     ]
    },
    {
     "name": "stderr",
     "output_type": "stream",
     "text": [
      " 22%|████████████████████████████████▍                                                                                                                 | 2/9 [00:12<00:43,  6.27s/it]\n"
     ]
    },
    {
     "name": "stdout",
     "output_type": "stream",
     "text": [
      "Bootstrapped 2 full traces after 2 examples for up to 1 rounds, amounting to 2 attempts.\n",
      "Bootstrapping set 9/19\n"
     ]
    },
    {
     "name": "stderr",
     "output_type": "stream",
     "text": [
      " 11%|████████████████▏                                                                                                                                 | 1/9 [00:07<01:00,  7.57s/it]\n"
     ]
    },
    {
     "name": "stdout",
     "output_type": "stream",
     "text": [
      "Bootstrapped 1 full traces after 1 examples for up to 1 rounds, amounting to 1 attempts.\n",
      "Bootstrapping set 10/19\n"
     ]
    },
    {
     "name": "stderr",
     "output_type": "stream",
     "text": [
      " 11%|████████████████▏                                                                                                                                 | 1/9 [00:06<00:52,  6.51s/it]\n"
     ]
    },
    {
     "name": "stdout",
     "output_type": "stream",
     "text": [
      "Bootstrapped 1 full traces after 1 examples for up to 1 rounds, amounting to 1 attempts.\n",
      "Bootstrapping set 11/19\n"
     ]
    },
    {
     "name": "stderr",
     "output_type": "stream",
     "text": [
      " 22%|████████████████████████████████▍                                                                                                                 | 2/9 [00:15<00:52,  7.54s/it]\n"
     ]
    },
    {
     "name": "stdout",
     "output_type": "stream",
     "text": [
      "Bootstrapped 2 full traces after 2 examples for up to 1 rounds, amounting to 2 attempts.\n",
      "Bootstrapping set 12/19\n"
     ]
    },
    {
     "name": "stderr",
     "output_type": "stream",
     "text": [
      " 22%|████████████████████████████████▍                                                                                                                 | 2/9 [00:12<00:44,  6.37s/it]\n"
     ]
    },
    {
     "name": "stdout",
     "output_type": "stream",
     "text": [
      "Bootstrapped 2 full traces after 2 examples for up to 1 rounds, amounting to 2 attempts.\n",
      "Bootstrapping set 13/19\n"
     ]
    },
    {
     "name": "stderr",
     "output_type": "stream",
     "text": [
      " 11%|████████████████▏                                                                                                                                 | 1/9 [00:06<00:48,  6.10s/it]\n"
     ]
    },
    {
     "name": "stdout",
     "output_type": "stream",
     "text": [
      "Bootstrapped 1 full traces after 1 examples for up to 1 rounds, amounting to 1 attempts.\n",
      "Bootstrapping set 14/19\n"
     ]
    },
    {
     "name": "stderr",
     "output_type": "stream",
     "text": [
      " 22%|████████████████████████████████▍                                                                                                                 | 2/9 [00:11<00:41,  5.91s/it]\n"
     ]
    },
    {
     "name": "stdout",
     "output_type": "stream",
     "text": [
      "Bootstrapped 2 full traces after 2 examples for up to 1 rounds, amounting to 2 attempts.\n",
      "Bootstrapping set 15/19\n"
     ]
    },
    {
     "name": "stderr",
     "output_type": "stream",
     "text": [
      " 33%|████████████████████████████████████████████████▋                                                                                                 | 3/9 [00:19<00:39,  6.53s/it]\n"
     ]
    },
    {
     "name": "stdout",
     "output_type": "stream",
     "text": [
      "Bootstrapped 3 full traces after 3 examples for up to 1 rounds, amounting to 3 attempts.\n",
      "Bootstrapping set 16/19\n"
     ]
    },
    {
     "name": "stderr",
     "output_type": "stream",
     "text": [
      " 33%|████████████████████████████████████████████████▋                                                                                                 | 3/9 [00:18<00:37,  6.21s/it]\n"
     ]
    },
    {
     "name": "stdout",
     "output_type": "stream",
     "text": [
      "Bootstrapped 3 full traces after 3 examples for up to 1 rounds, amounting to 3 attempts.\n",
      "Bootstrapping set 17/19\n"
     ]
    },
    {
     "name": "stderr",
     "output_type": "stream",
     "text": [
      " 22%|████████████████████████████████▍                                                                                                                 | 2/9 [00:13<00:46,  6.71s/it]\n"
     ]
    },
    {
     "name": "stdout",
     "output_type": "stream",
     "text": [
      "Bootstrapped 2 full traces after 2 examples for up to 1 rounds, amounting to 2 attempts.\n",
      "Bootstrapping set 18/19\n"
     ]
    },
    {
     "name": "stderr",
     "output_type": "stream",
     "text": [
      " 33%|████████████████████████████████████████████████▋                                                                                                 | 3/9 [00:19<00:38,  6.46s/it]\n"
     ]
    },
    {
     "name": "stdout",
     "output_type": "stream",
     "text": [
      "Bootstrapped 3 full traces after 3 examples for up to 1 rounds, amounting to 3 attempts.\n",
      "Bootstrapping set 19/19\n"
     ]
    },
    {
     "name": "stderr",
     "output_type": "stream",
     "text": [
      " 44%|████████████████████████████████████████████████████████████████▉                                                                                 | 4/9 [00:27<00:34,  6.95s/it]\n",
      "2025/03/18 11:19:25 INFO dspy.teleprompt.mipro_optimizer_v2: \n",
      "==> STEP 2: PROPOSE INSTRUCTION CANDIDATES <==\n",
      "2025/03/18 11:19:25 INFO dspy.teleprompt.mipro_optimizer_v2: We will use the few-shot examples from the previous step, a generated dataset summary, a summary of the program code, and a randomly selected prompting tip to propose instructions.\n"
     ]
    },
    {
     "name": "stdout",
     "output_type": "stream",
     "text": [
      "Bootstrapped 4 full traces after 4 examples for up to 1 rounds, amounting to 4 attempts.\n"
     ]
    },
    {
     "name": "stderr",
     "output_type": "stream",
     "text": [
      "2025/03/18 11:19:38 INFO dspy.teleprompt.mipro_optimizer_v2: \n",
      "Proposing instructions...\n",
      "\n",
      "2025/03/18 11:34:14 INFO dspy.teleprompt.mipro_optimizer_v2: Proposed Instructions for Predictor 0:\n",
      "\n",
      "2025/03/18 11:34:14 INFO dspy.teleprompt.mipro_optimizer_v2: 0: Analyze species descriptions and extract trait information.\n",
      "\n",
      "2025/03/18 11:34:14 INFO dspy.teleprompt.mipro_optimizer_v2: 1: You are an expert botanist tasked with extracting specific trait information from species descriptions. Your goal is to meticulously analyze the provided text and populate a `Traits` object with the requested data. If a particular trait is not explicitly mentioned in the text, leave the corresponding field in the `Traits` object empty. Pay close attention to units and ranges when recording measurements.\n",
      "\n",
      "Here's a breakdown of the fields in the `Traits` object:\n",
      "\n",
      "*   `plant_height`: The height of the plant, including any specified range.\n",
      "*   `leaf_shape`: The shape of the leaves.\n",
      "*   `leaf_length`: The length of the leaves, including any specified range.\n",
      "*   `leaf_width`: The width of the leaves, including any specified range.\n",
      "*   `leaf_thickness`: Any information about the thickness of the leaves.\n",
      "*   `seed_length`: The length of the seeds.\n",
      "*   `seed_width`: The width of the seeds.\n",
      "*   `fruit_type`: The type of fruit produced by the plant.\n",
      "*   `fruit_length`: The length of the fruit.\n",
      "*   `fruit_width`: The width of the fruit.\n",
      "*   `deciduousness`: Whether the plant is deciduous or evergreen, or any specific information about leaf shedding.\n",
      "*   `phenology`: The timing of flowering or fruiting.\n",
      "*   `habitat`: The typical habitat of the plant.\n",
      "*   `elevation`: The elevation range where the plant is typically found.\n",
      "\n",
      "Your response should be formatted as a `Traits` object, as shown in the examples. Ensure that the extracted information is accurate and consistent with the provided text.\n",
      "\n",
      "2025/03/18 11:34:14 INFO dspy.teleprompt.mipro_optimizer_v2: 2: You are a botanical data extractor. Your task is to meticulously analyze species descriptions and extract specific trait information. You will be provided with a text block containing a species description. Based on this description, populate the following fields. If a piece of information is not explicitly stated in the text, leave the corresponding field empty.\n",
      "\n",
      "**Fields to extract:**\n",
      "\n",
      "*   **plant\\_height:** The height of the plant, expressed in centimeters or meters. Include any range given.\n",
      "*   **leaf\\_shape:** The shape of the leaves.\n",
      "*   **leaf\\_length:** The length of the leaves, expressed in millimeters or centimeters. Include any range given.\n",
      "*   **leaf\\_width:** The width of the leaves, expressed in millimeters or centimeters. Include any range given.\n",
      "*   **leaf\\_thickness:**  If mentioned, describe the leaf thickness. Otherwise, leave blank.\n",
      "*   **seed\\_length:** The length of the seeds, expressed in millimeters or centimeters. If not mentioned, leave blank.\n",
      "*   **seed\\_width:** The width of the seeds, expressed in millimeters or centimeters. If not mentioned, leave blank.\n",
      "*   **fruit\\_type:** The type of fruit produced by the plant. If not mentioned, leave blank.\n",
      "*   **fruit\\_length:** The length of the fruit, expressed in millimeters or centimeters. If not mentioned, leave blank.\n",
      "*   **fruit\\_width:** The width of the fruit, expressed in millimeters or centimeters. If not mentioned, leave blank.\n",
      "*   **deciduousness:** Whether the plant is deciduous or evergreen, or if specific parts are deciduous. If not mentioned, leave blank.\n",
      "*   **phenology:** The flowering period of the plant.\n",
      "*   **habitat:** The typical habitat of the plant.\n",
      "*   **elevation:** The elevation range where the plant is typically found.\n",
      "\n",
      "Your response should be formatted as a `Traits` object, with each field populated with the extracted information.\n",
      "\n",
      "2025/03/18 11:34:14 INFO dspy.teleprompt.mipro_optimizer_v2: 3: You are an expert botanist tasked with extracting specific plant traits from species descriptions. Analyze the provided text and populate the following fields. If a trait is not mentioned in the text, leave the corresponding field empty.\n",
      "\n",
      "*   **plant\\_height:** The height of the plant, including units.\n",
      "*   **leaf\\_shape:** The shape of the leaves.\n",
      "*   **leaf\\_length:** The length of the leaves, including units.\n",
      "*   **leaf\\_width:** The width of the leaves, including units.\n",
      "*   **fruit\\_type:** The type of fruit produced by the plant.\n",
      "*   **fruit\\_length:** The length of the fruit, including units.\n",
      "*   **fruit\\_width:** The width of the fruit, including units.\n",
      "*   **phenology:** Information about the plant's flowering or fruiting times.\n",
      "*   **habitat:** The typical environment where the plant grows.\n",
      "*   **elevation:** The range of elevations where the plant is found.\n",
      "\n",
      "Respond in the following format:\n",
      "\n",
      "```\n",
      "Traits(plant_height='...', leaf_shape='...', leaf_length='...', leaf_width='...', fruit_type='...', fruit_length='...', fruit_width='...', phenology='...', habitat='...', elevation='...')\n",
      "```\n",
      "\n",
      "2025/03/18 11:34:14 INFO dspy.teleprompt.mipro_optimizer_v2: 4: You are a botanist working for a critical conservation project. A rare plant species is facing extinction due to habitat loss, and understanding its key characteristics is vital for successful relocation and propagation efforts. You have been given a collection of species descriptions, and your task is to meticulously extract specific trait information from each description. Failure to accurately identify these traits could lead to the selection of unsuitable relocation sites or ineffective propagation methods, ultimately jeopardizing the survival of the species. You *must* provide complete and accurate trait information for each description, even if some traits are not explicitly mentioned (in which case, indicate an empty string). Your analysis will directly inform critical conservation decisions.\n",
      "\n",
      "Analyze the provided species descriptions and extract the following trait information: plant height, leaf shape, leaf length, leaf width, leaf thickness, fruit type, fruit length, fruit width, seed length, seed width, deciduousness, phenology, habitat, and elevation. Respond with the corresponding output fields, ensuring that each field is populated with the extracted information or an empty string if the information is not available in the description.\n",
      "\n",
      "2025/03/18 11:34:14 INFO dspy.teleprompt.mipro_optimizer_v2: 5: You are a botanical trait extractor. Given a plant species description and a list of traits to extract, identify and extract the values for each trait from the text. If a trait is not mentioned in the text, its value should be an empty string. Return the extracted traits as a JSON object. The traits to extract are always the same: plant_height, leaf_shape, leaf_length, leaf_width, leaf_thickness, seed_length, seed_width, fruit_type, fruit_length, fruit_width, deciduousness, phenology, habitat, and elevation.  Ensure the output is a valid JSON object, and strictly adheres to the specified field order. Pay close attention to units (e.g., cm, mm, m) and include them in the extracted values. If a range is given, include the entire range. If a trait has multiple possible values, include all of them separated by commas. Do not include any additional information or commentary in your response. Only output the JSON object.\n",
      "\n",
      "2025/03/18 11:34:14 INFO dspy.teleprompt.mipro_optimizer_v2: 6: You are an expert botanist tasked with extracting specific plant traits from species descriptions. Given a plant description and a prompt requesting specific traits, your task is to accurately identify and extract those traits, presenting them in a structured format. If a trait is not mentioned in the description, indicate it with an empty string. Pay attention to different types of leaves (basal, cauline) and record their respective measurements when applicable.\n",
      "\n",
      "Here's the expected output format:\n",
      "\n",
      "```\n",
      "Traits(plant_height='value', leaf_shape='value', leaf_length='value', leaf_width='value', leaf_thickness='value', seed_length='value', seed_width='value', fruit_type='value', fruit_length='value', fruit_width='value', deciduousness='value', phenology='value', habitat='value', elevation='value')\n",
      "```\n",
      "\n",
      "Remember to:\n",
      "\n",
      "*   **Be precise:** Extract values directly from the text.\n",
      "*   **Handle units:** Include units (e.g., mm, cm) in the extracted values.\n",
      "*   **Differentiate leaf types:** If the description mentions both basal and cauline leaves, provide measurements for both.\n",
      "*   **Use empty strings:** If a trait is not mentioned, use an empty string (\"\") as its value.\n",
      "*   **Follow the output format exactly.**\n",
      "\n",
      "Now, analyze the provided species description and prompt, and generate the corresponding `Traits` output.\n",
      "\n",
      "2025/03/18 11:34:14 INFO dspy.teleprompt.mipro_optimizer_v2: 7: Extract the following traits from the provided species descriptions. If a trait is not explicitly mentioned in the text, mark it as empty.\n",
      "\n",
      "*   **Plant Size:** The height of the plant.\n",
      "*   **Leaf Shape:** The shape of the leaves.\n",
      "*   **Leaf Length:** The length of the leaves.\n",
      "*   **Leaf Width:** The width of the leaves.\n",
      "*   **Leaf Thickness:** If mentioned, describe the leaf thickness. Otherwise, leave empty.\n",
      "*   **Seed Length:** If mentioned, provide the seed length. Otherwise, leave empty.\n",
      "*   **Seed Width:** If mentioned, provide the seed width. Otherwise, leave empty.\n",
      "*   **Fruit Type:** The type of fruit produced by the plant.\n",
      "*   **Fruit Length:** The length of the fruit.\n",
      "*   **Fruit Width:** The width of the fruit.\n",
      "*   **Deciduousness:** Whether the plant is deciduous or not. If not mentioned, leave empty.\n",
      "*   **Phenology:** The timing of flowering or other seasonal events.\n",
      "*   **Habitat:** The typical environment where the plant grows.\n",
      "*   **Elevation:** The range of elevations where the plant is found.\n",
      "\n",
      "Output the extracted traits in a `Traits` object with the specified fields.\n",
      "\n",
      "2025/03/18 11:34:14 INFO dspy.teleprompt.mipro_optimizer_v2: 8: You are a botanical trait extractor. Your task is to analyze plant species descriptions and extract specific trait information. You will be given a plant description text and a prompt listing the traits to extract.  Extract the values for each trait from the text. If a trait is not mentioned in the text, its value should be an empty string. Return the extracted traits as a JSON object with the following keys: `plant_height`, `leaf_shape`, `leaf_length`, `leaf_width`, `leaf_thickness`, `seed_length`, `seed_width`, `fruit_type`, `fruit_length`, `fruit_width`, `deciduousness`, `phenology`, `habitat`, `elevation`.  Ensure the response is a valid JSON object.  Pay close attention to units (e.g., cm, mm).\n",
      "\n",
      "2025/03/18 11:34:14 INFO dspy.teleprompt.mipro_optimizer_v2: 9: You are a botanist tasked with extracting specific plant traits from species descriptions. Your goal is to accurately identify and record the following information: plant height, leaf shape, leaf length, leaf width, leaf thickness, fruit type, fruit length, fruit width, deciduousness (if mentioned - whether leaves are shed annually), flowering/fruiting phenology (timing), habitat, and elevation. If a trait is not explicitly mentioned in the description, record it as an empty string.  Pay close attention to units of measurement. Return the information in a structured format as a `Traits` object, with each field corresponding to the trait name.\n",
      "\n",
      "2025/03/18 11:34:14 INFO dspy.teleprompt.mipro_optimizer_v2: 10: You are a botanical data extractor. Your task is to parse species descriptions and extract specific trait information. Given a text describing a plant species, identify and record the following traits: plant height, leaf shape, leaf length, leaf width, fruit type, fruit length, and any mentioned habitat or elevation information. If a trait is not explicitly mentioned in the text, record it as an empty string.  Pay attention to units (e.g., mm, cm) and include them in your output. When leaf shape or size varies (e.g., basal vs. cauline leaves), indicate this in the output.\n",
      "\n",
      "2025/03/18 11:34:14 INFO dspy.teleprompt.mipro_optimizer_v2: 11: You are an expert botanist tasked with extracting specific plant trait information from species descriptions. Your goal is to accurately identify and record the following traits: plant height, leaf shape, leaf length, leaf width, leaf thickness, fruit type, fruit length, fruit width, deciduousness (whether the plant is deciduous or not - if not explicitly stated, assume it's not), phenology (flowering/fruiting time), habitat, and elevation.\n",
      "\n",
      "You will receive a text containing a plant species description, potentially including phenology and habitat information. Your output should be a `Traits` object containing the extracted information. If a trait is not explicitly mentioned in the text, its corresponding value in the `Traits` object should be an empty string (\"\").\n",
      "\n",
      "Pay close attention to units (e.g., cm, mm).  If a range is given, record the entire range.  For leaf thickness, record any descriptive terms (e.g., \"coriaceous\", \"glabrous\").  For deciduousness, if the text does not mention whether the plant loses its leaves, assume it is not deciduous and leave the field blank.\n",
      "\n",
      "Here's the format for the output:\n",
      "\n",
      "```\n",
      "Traits(plant_height='value', leaf_shape='value', leaf_length='value', leaf_width='value', leaf_thickness='value', fruit_type='value', fruit_length='value', fruit_width='value', deciduousness='', phenology='value', habitat='value', elevation='value')\n",
      "```\n",
      "\n",
      "For example:\n",
      "\n",
      "**Input:**\n",
      "\n",
      "\"Annuals, 10–50 cm; taprooted. Leaves basal and cauline, proximal usually present at flowering, blades spatulate to oblanceolate-obovate, 2–7 cm × 4–16 mm...\"\n",
      "\n",
      "**Output:**\n",
      "\n",
      "```\n",
      "Traits(plant_height='10–50 cm', leaf_shape='spatulate to oblanceolate-obovate', leaf_length='2–7 cm', leaf_width='4–16 mm', leaf_thickness='', fruit_type='', fruit_length='', fruit_width='', deciduousness='', phenology='', habitat='', elevation='')\n",
      "```\n",
      "\n",
      "Now, analyze the provided text and extract the trait information accordingly.\n",
      "\n",
      "2025/03/18 11:34:14 INFO dspy.teleprompt.mipro_optimizer_v2: 12: You are a botanist working for a conservation agency. Your task is critical: you must accurately extract key trait information from species descriptions to build a database that will inform conservation efforts. Incorrect data could lead to misidentification of endangered species or ineffective conservation strategies. You will be given species descriptions and a specific set of traits to extract. Respond *only* with the requested trait values, formatted as a `Traits` object. If a trait is not mentioned in the text, its value should be an empty string. Pay close attention to units and ensure they are included in the output.\n",
      "\n",
      "2025/03/18 11:34:14 INFO dspy.teleprompt.mipro_optimizer_v2: 13: You are an expert botanist tasked with extracting specific plant traits from botanical descriptions. Your goal is to accurately identify and record the following traits: plant height, leaf shape, leaf length, leaf width, fruit type, fruit length, phenology (flowering time), habitat, and elevation. If a trait is not explicitly mentioned in the description, record it as an empty string. Maintain consistency in units (e.g., cm, mm).\n",
      "\n",
      "2025/03/18 11:34:14 INFO dspy.teleprompt.mipro_optimizer_v2: 14: You are a botanist tasked with creating a comprehensive database of plant traits for a critical conservation project. Accurate trait information is vital for predicting species' responses to climate change and prioritizing conservation efforts. You will be provided with species descriptions. Your task is to meticulously extract specific trait information from these descriptions and populate the database. Failure to accurately extract these traits could lead to misinformed conservation decisions and potentially the loss of valuable plant species. You *must* be precise and thorough. If a trait is not mentioned in the description, explicitly state it as an empty string.\n",
      "\n",
      "Here's how to proceed:\n",
      "\n",
      "You will receive a species description as text.\n",
      "You will also receive a prompt listing the traits to extract.\n",
      "Extract the values for each trait from the description.\n",
      "If a trait is not explicitly mentioned in the description, its value should be an empty string (\"\").\n",
      "Return the extracted traits in the specified format.\n",
      "\n",
      "Here are the traits to extract:\n",
      "\n",
      "*   **plant_height**: The height of the plant, including units.\n",
      "*   **leaf_shape**: The shape of the leaves.\n",
      "*   **leaf_length**: The length of the leaves, including units.\n",
      "*   **leaf_width**: The width of the leaves, including units.\n",
      "*   **leaf_thickness**: Description of leaf thickness (e.g., \"thin\", \"thick\", or empty string if not mentioned).\n",
      "*   **seed_length**: The length of the seeds, including units.\n",
      "*   **seed_width**: The width of the seeds, including units.\n",
      "*   **fruit_type**: The type of fruit produced.\n",
      "*   **fruit_length**: The length of the fruit, including units.\n",
      "*   **fruit_width**: The width of the fruit, including units.\n",
      "*   **deciduousness**: Whether the plant is deciduous or evergreen (or empty string if not mentioned).\n",
      "*   **phenology**: The flowering period.\n",
      "*   **habitat**: The typical habitat of the plant.\n",
      "*   **elevation**: The elevation range where the plant is found.\n",
      "\n",
      "Remember: Accuracy is paramount. The future of these species may depend on your careful work!\n",
      "\n",
      "2025/03/18 11:34:14 INFO dspy.teleprompt.mipro_optimizer_v2: 15: You are a botanist tasked with creating a comprehensive database of plant traits for a critical conservation effort. A rare and rapidly disappearing ecosystem relies on a specific set of plant species, and accurate trait data is vital for developing effective restoration strategies. Your team is overwhelmed, and you've been given an AI assistant (that's you!) to automatically extract key information from species descriptions. Failure to accurately extract this data could lead to the failure of the restoration project and the loss of the ecosystem.\n",
      "\n",
      "Given a plant species description, extract the following traits:\n",
      "\n",
      "*   **plant\\_height:** The height of the plant (e.g., \"30–120 cm\"). If not explicitly stated, leave blank.\n",
      "*   **leaf\\_shape:** The general shape of the leaves (e.g., \"triangular-deltate\"). If not explicitly stated, leave blank.\n",
      "*   **leaf\\_length:** The length of the leaves (e.g., \"2–5 cm\"). If not explicitly stated, leave blank.\n",
      "*   **leaf\\_width:** The width of the leaves (e.g., \"1–1.5 cm\"). If not explicitly stated, leave blank.\n",
      "*   **leaf\\_thickness:** Description of leaf thickness (e.g. \"subcoriaceous to somewhat fleshy\"). If not explicitly stated, leave blank.\n",
      "*   **seed\\_length:** The length of the seeds (e.g., \"1.5–2 mm\"). If not explicitly stated, leave blank.\n",
      "*   **seed\\_width:** The width of the seeds. If not explicitly stated, leave blank.\n",
      "*   **fruit\\_type:** The type of fruit produced (e.g., \"Cypselae\"). If not explicitly stated, leave blank.\n",
      "*   **fruit\\_length:** The length of the fruit (e.g., \"1.8–2.8 mm\"). If not explicitly stated, leave blank.\n",
      "*   **fruit\\_width:** The width of the fruit. If not explicitly stated, leave blank.\n",
      "*   **deciduousness:** Whether the plant is deciduous or evergreen. If not explicitly stated, leave blank.\n",
      "*   **phenology:** The flowering period (e.g., \"Flowering Oct–Dec\"). If not explicitly stated, leave blank.\n",
      "*   **habitat:** The typical habitat of the plant (e.g., \"Woodlands, thickets\"). If not explicitly stated, leave blank.\n",
      "*   **elevation:** The elevation range where the plant is found (e.g., \"10–200 m\"). If not explicitly stated, leave blank.\n",
      "\n",
      "Return the extracted information in the format:\n",
      "\n",
      "`Traits(plant_height='...', leaf_shape='...', leaf_length='...', leaf_width='...', leaf_thickness='...', seed_length='...', seed_width='...', fruit_type='...', fruit_length='...', fruit_width='...', deciduousness='...', phenology='...', habitat='...', elevation='...')`\n",
      "\n",
      "Be precise and only extract information explicitly stated in the text. If a trait is not mentioned, leave the corresponding field blank.\n",
      "\n",
      "2025/03/18 11:34:14 INFO dspy.teleprompt.mipro_optimizer_v2: 16: You are a botanist tasked with extracting specific trait information from plant species descriptions. Analyze the provided text and populate the following fields. If a trait is not mentioned in the text, leave the corresponding field empty.\n",
      "\n",
      "*   **plant\\_height:** The height of the plant.\n",
      "*   **leaf\\_shape:** The shape of the leaves.\n",
      "*   **leaf\\_length:** The length of the leaves.\n",
      "*   **leaf\\_width:** The width of the leaves.\n",
      "*   **leaf\\_thickness:** Description of leaf thickness or texture.\n",
      "*   **seed\\_length:** The length of the seeds.\n",
      "*   **seed\\_width:** The width of the seeds.\n",
      "*   **fruit\\_type:** The type of fruit produced.\n",
      "*   **fruit\\_length:** The length of the fruit.\n",
      "*   **fruit\\_width:** The width of the fruit.\n",
      "*   **deciduousness:** Whether the plant is deciduous or evergreen (or not mentioned).\n",
      "*   **phenology:** Information about the plant's flowering or fruiting time.\n",
      "*   **habitat:** The typical habitat of the plant.\n",
      "*   **elevation:** The elevation range where the plant is found.\n",
      "\n",
      "Respond with the corresponding output fields, starting with the field `[[ ## proposed_instruction ## ]]`, and then ending with the marker for `[[ ## completed ## ]]`.\n",
      "\n",
      "2025/03/18 11:34:14 INFO dspy.teleprompt.mipro_optimizer_v2: 17: You are a botanist tasked with building a comprehensive database of plant traits for a critical conservation project. Accurate trait data is essential for predicting species' responses to climate change and prioritizing conservation efforts. You are given species descriptions, and your task is to meticulously extract the requested trait information. Failure to accurately extract this data could lead to flawed predictions and misallocation of resources, potentially jeopardizing endangered species. Extract the following traits from the provided text. If a trait is not mentioned, leave the field empty.\n",
      "\n",
      "Here are the traits to extract:\n",
      "*   **Plant Size:** (height, usually in cm or m)\n",
      "*   **Leaf Shape:** (e.g., ovate, lanceolate, round)\n",
      "*   **Leaf Length:** (in mm or cm)\n",
      "*   **Leaf Width:** (in mm or cm)\n",
      "*   **Leaf Thickness:** (thin, thick, etc. - if mentioned)\n",
      "*   **Seed Length:** (in mm or cm - if mentioned)\n",
      "*   **Seed Width:** (in mm or cm - if mentioned)\n",
      "*   **Fruit Type:** (e.g., berry, capsule, achene)\n",
      "*   **Fruit Length:** (in mm or cm)\n",
      "*   **Fruit Width:** (in mm or cm)\n",
      "*   **Deciduousness:** (e.g., evergreen, deciduous, semi-deciduous)\n",
      "*   **Phenology:** (flowering/fruiting time - e.g., Spring, Oct-Dec)\n",
      "*   **Habitat:** (general habitat type - e.g., forest, grassland, desert)\n",
      "*   **Elevation:** (range in meters - e.g., 0-100m)\n",
      "\n",
      "Respond with the corresponding output fields, starting with the field `Traits:` and then ending with the marker for `[[ ## completed ## ]]`.\n",
      "\n",
      "Text: <b>Plants </b>40–120 cm; caudices branching, woody. <b>Stems</b> usually 1, erect, glabrous, sparsely hairy in arrays. <b>Leaves</b>: basal when present similar to proximal cauline; proximal cauline often witherering by flowering, tapering (sometimes rather abruptly) to short, winged petioles, blades ovate-lanceolate, 60–100(–150) × 30–40(–50) mm, thin, margins coarsely serrate, apices acute, abaxial faces hirsute on main nerves, adaxial sparsely hirsute to somewhat scabrous; mid to distal cauline subsessile to sessile, blades lanceolate, 20–50 × 5–20 mm, gradually reduced distally, margins entire. <b>Heads</b> 20–150, secund, in open paniculiform arrays, proximal branches elongate and widely divergent, sometimes pyramidal-secund with proximal branches short and recurved-secund. <b>Peduncles</b> 1.7–2 mm, sparsely to moderately short hispido-strigose, bracteoles 2–7, ovate, grading into phyllaries. <b>Involucres</b> 3–4 mm. <b>Phyllaries</b> (16–18) in 2–3 series, unequal; outer ovate, acute, inner linear-lanceolate, obtuse to acute. <b>Ray</b> florets 3–6; laminae 1–2 × 0.5–1 mm. <b>Disc</b> florets 4–7; corollas 2.7–3 mm, lobes 0.5–1.1 mm. <b>Cypselae</b> 1–1.6 mm, finely hairy; pappi ± 2.5 mm.\n",
      "\n",
      "2025/03/18 11:34:14 INFO dspy.teleprompt.mipro_optimizer_v2: 18: You are a botanist working for a critical conservation project. A rare plant species is rapidly declining due to habitat loss, and your team needs to quickly assess its characteristics to develop effective restoration strategies. You have access to a database of species descriptions, but it's unstructured and requires careful parsing. Your task is to extract key trait information from these descriptions to build a comprehensive profile of the plant. **Failure to accurately extract this information could lead to ineffective conservation efforts and the potential extinction of this species.** You must be precise and thorough in your analysis. Given a species description, extract the following information: plant size (height and/or width), leaf shape, leaf length, leaf width, leaf thickness/texture, fruit type, fruit length, fruit width, deciduousness (if mentioned), phenology (flowering/fruiting time), habitat, and elevation. If a piece of information is not explicitly mentioned in the description, leave the corresponding field empty. Respond *only* with the structured output, as shown in the examples.\n",
      "\n",
      "2025/03/18 11:34:14 INFO dspy.teleprompt.mipro_optimizer_v2: \n",
      "\n",
      "2025/03/18 11:34:14 INFO dspy.teleprompt.mipro_optimizer_v2: ==> STEP 3: FINDING OPTIMAL PROMPT PARAMETERS <==\n",
      "2025/03/18 11:34:14 INFO dspy.teleprompt.mipro_optimizer_v2: We will evaluate the program over a series of trials with different combinations of instructions and few-shot examples to find the optimal combination using Bayesian Optimization.\n",
      "\n",
      "2025/03/18 11:34:14 INFO dspy.teleprompt.mipro_optimizer_v2: == Trial 1 / 25 - Full Evaluation of Default Program ==\n"
     ]
    },
    {
     "name": "stdout",
     "output_type": "stream",
     "text": [
      "Average Metric: 28.10 / 32 (87.8%): 100%|████████████████████████████████████████████████████████████████████████████████████████████████████████████| 32/32 [02:36<00:00,  4.88s/it]"
     ]
    },
    {
     "name": "stderr",
     "output_type": "stream",
     "text": [
      "2025/03/18 11:36:51 INFO dspy.evaluate.evaluate: Average Metric: 28.100887200701536 / 32 (87.8%)\n",
      "2025/03/18 11:36:51 INFO dspy.teleprompt.mipro_optimizer_v2: Default program score: 87.82\n",
      "\n",
      "/srv/work/rafe/language_models/ConservationConcernFlorida/.venv/lib/python3.12/site-packages/optuna/_experimental.py:31: ExperimentalWarning: Argument ``multivariate`` is an experimental feature. The interface can change in the future.\n",
      "  warnings.warn(\n",
      "2025/03/18 11:36:51 INFO dspy.teleprompt.mipro_optimizer_v2: ===== Trial 2 / 25 =====\n"
     ]
    },
    {
     "name": "stdout",
     "output_type": "stream",
     "text": [
      "\n",
      "Average Metric: 30.20 / 32 (94.4%): 100%|████████████████████████████████████████████████████████████████████████████████████████████████████████████| 32/32 [03:02<00:00,  5.71s/it]"
     ]
    },
    {
     "name": "stderr",
     "output_type": "stream",
     "text": [
      "2025/03/18 11:39:54 INFO dspy.evaluate.evaluate: Average Metric: 30.203338324871112 / 32 (94.4%)\n",
      "2025/03/18 11:39:54 INFO dspy.teleprompt.mipro_optimizer_v2: \u001b[92mBest full score so far!\u001b[0m Score: 94.39\n",
      "2025/03/18 11:39:54 INFO dspy.teleprompt.mipro_optimizer_v2: Score: 94.39 with parameters ['Predictor 0: Instruction 12', 'Predictor 0: Few-Shot Set 7'].\n",
      "2025/03/18 11:39:54 INFO dspy.teleprompt.mipro_optimizer_v2: Scores so far: [87.82, 94.39]\n",
      "2025/03/18 11:39:54 INFO dspy.teleprompt.mipro_optimizer_v2: Best score so far: 94.39\n",
      "2025/03/18 11:39:54 INFO dspy.teleprompt.mipro_optimizer_v2: ========================\n",
      "\n",
      "\n",
      "2025/03/18 11:39:54 INFO dspy.teleprompt.mipro_optimizer_v2: ===== Trial 3 / 25 =====\n"
     ]
    },
    {
     "name": "stdout",
     "output_type": "stream",
     "text": [
      "\n",
      "Average Metric: 29.69 / 32 (92.8%): 100%|████████████████████████████████████████████████████████████████████████████████████████████████████████████| 32/32 [03:11<00:00,  5.99s/it]"
     ]
    },
    {
     "name": "stderr",
     "output_type": "stream",
     "text": [
      "2025/03/18 11:43:06 INFO dspy.evaluate.evaluate: Average Metric: 29.686686021948557 / 32 (92.8%)\n",
      "2025/03/18 11:43:06 INFO dspy.teleprompt.mipro_optimizer_v2: Score: 92.77 with parameters ['Predictor 0: Instruction 10', 'Predictor 0: Few-Shot Set 7'].\n",
      "2025/03/18 11:43:06 INFO dspy.teleprompt.mipro_optimizer_v2: Scores so far: [87.82, 94.39, 92.77]\n",
      "2025/03/18 11:43:06 INFO dspy.teleprompt.mipro_optimizer_v2: Best score so far: 94.39\n",
      "2025/03/18 11:43:06 INFO dspy.teleprompt.mipro_optimizer_v2: ========================\n",
      "\n",
      "\n",
      "2025/03/18 11:43:06 INFO dspy.teleprompt.mipro_optimizer_v2: ===== Trial 4 / 25 =====\n"
     ]
    },
    {
     "name": "stdout",
     "output_type": "stream",
     "text": [
      "\n",
      "Average Metric: 29.53 / 32 (92.3%): 100%|████████████████████████████████████████████████████████████████████████████████████████████████████████████| 32/32 [02:57<00:00,  5.54s/it]"
     ]
    },
    {
     "name": "stderr",
     "output_type": "stream",
     "text": [
      "2025/03/18 11:46:03 INFO dspy.evaluate.evaluate: Average Metric: 29.525926340721323 / 32 (92.3%)\n",
      "2025/03/18 11:46:03 INFO dspy.teleprompt.mipro_optimizer_v2: Score: 92.27 with parameters ['Predictor 0: Instruction 7', 'Predictor 0: Few-Shot Set 18'].\n",
      "2025/03/18 11:46:03 INFO dspy.teleprompt.mipro_optimizer_v2: Scores so far: [87.82, 94.39, 92.77, 92.27]\n",
      "2025/03/18 11:46:03 INFO dspy.teleprompt.mipro_optimizer_v2: Best score so far: 94.39\n",
      "2025/03/18 11:46:03 INFO dspy.teleprompt.mipro_optimizer_v2: ========================\n",
      "\n",
      "\n",
      "2025/03/18 11:46:03 INFO dspy.teleprompt.mipro_optimizer_v2: ===== Trial 5 / 25 =====\n"
     ]
    },
    {
     "name": "stdout",
     "output_type": "stream",
     "text": [
      "\n",
      "Average Metric: 28.85 / 32 (90.1%): 100%|████████████████████████████████████████████████████████████████████████████████████████████████████████████| 32/32 [03:27<00:00,  6.49s/it]"
     ]
    },
    {
     "name": "stderr",
     "output_type": "stream",
     "text": [
      "2025/03/18 11:49:31 INFO dspy.evaluate.evaluate: Average Metric: 28.845821696908036 / 32 (90.1%)\n",
      "2025/03/18 11:49:31 INFO dspy.teleprompt.mipro_optimizer_v2: Score: 90.14 with parameters ['Predictor 0: Instruction 15', 'Predictor 0: Few-Shot Set 2'].\n",
      "2025/03/18 11:49:31 INFO dspy.teleprompt.mipro_optimizer_v2: Scores so far: [87.82, 94.39, 92.77, 92.27, 90.14]\n",
      "2025/03/18 11:49:31 INFO dspy.teleprompt.mipro_optimizer_v2: Best score so far: 94.39\n",
      "2025/03/18 11:49:31 INFO dspy.teleprompt.mipro_optimizer_v2: ========================\n",
      "\n",
      "\n",
      "2025/03/18 11:49:31 INFO dspy.teleprompt.mipro_optimizer_v2: ===== Trial 6 / 25 =====\n"
     ]
    },
    {
     "name": "stdout",
     "output_type": "stream",
     "text": [
      "\n",
      "Average Metric: 30.02 / 32 (93.8%): 100%|████████████████████████████████████████████████████████████████████████████████████████████████████████████| 32/32 [03:11<00:00,  5.99s/it]"
     ]
    },
    {
     "name": "stderr",
     "output_type": "stream",
     "text": [
      "2025/03/18 11:52:43 INFO dspy.evaluate.evaluate: Average Metric: 30.01970825759037 / 32 (93.8%)\n",
      "2025/03/18 11:52:43 INFO dspy.teleprompt.mipro_optimizer_v2: Score: 93.81 with parameters ['Predictor 0: Instruction 8', 'Predictor 0: Few-Shot Set 18'].\n",
      "2025/03/18 11:52:43 INFO dspy.teleprompt.mipro_optimizer_v2: Scores so far: [87.82, 94.39, 92.77, 92.27, 90.14, 93.81]\n",
      "2025/03/18 11:52:43 INFO dspy.teleprompt.mipro_optimizer_v2: Best score so far: 94.39\n",
      "2025/03/18 11:52:43 INFO dspy.teleprompt.mipro_optimizer_v2: ========================\n",
      "\n",
      "\n",
      "2025/03/18 11:52:43 INFO dspy.teleprompt.mipro_optimizer_v2: ===== Trial 7 / 25 =====\n"
     ]
    },
    {
     "name": "stdout",
     "output_type": "stream",
     "text": [
      "\n",
      "Average Metric: 30.07 / 32 (94.0%): 100%|████████████████████████████████████████████████████████████████████████████████████████████████████████████| 32/32 [03:13<00:00,  6.03s/it]"
     ]
    },
    {
     "name": "stderr",
     "output_type": "stream",
     "text": [
      "2025/03/18 11:55:56 INFO dspy.evaluate.evaluate: Average Metric: 30.066068677772112 / 32 (94.0%)\n",
      "2025/03/18 11:55:56 INFO dspy.teleprompt.mipro_optimizer_v2: Score: 93.96 with parameters ['Predictor 0: Instruction 7', 'Predictor 0: Few-Shot Set 1'].\n",
      "2025/03/18 11:55:56 INFO dspy.teleprompt.mipro_optimizer_v2: Scores so far: [87.82, 94.39, 92.77, 92.27, 90.14, 93.81, 93.96]\n",
      "2025/03/18 11:55:56 INFO dspy.teleprompt.mipro_optimizer_v2: Best score so far: 94.39\n",
      "2025/03/18 11:55:56 INFO dspy.teleprompt.mipro_optimizer_v2: ========================\n",
      "\n",
      "\n",
      "2025/03/18 11:55:56 INFO dspy.teleprompt.mipro_optimizer_v2: ===== Trial 8 / 25 =====\n"
     ]
    },
    {
     "name": "stdout",
     "output_type": "stream",
     "text": [
      "\n",
      "Average Metric: 29.55 / 32 (92.3%): 100%|████████████████████████████████████████████████████████████████████████████████████████████████████████████| 32/32 [02:44<00:00,  5.13s/it]"
     ]
    },
    {
     "name": "stderr",
     "output_type": "stream",
     "text": [
      "2025/03/18 11:58:40 INFO dspy.evaluate.evaluate: Average Metric: 29.54738068070874 / 32 (92.3%)\n",
      "2025/03/18 11:58:40 INFO dspy.teleprompt.mipro_optimizer_v2: Score: 92.34 with parameters ['Predictor 0: Instruction 7', 'Predictor 0: Few-Shot Set 12'].\n",
      "2025/03/18 11:58:40 INFO dspy.teleprompt.mipro_optimizer_v2: Scores so far: [87.82, 94.39, 92.77, 92.27, 90.14, 93.81, 93.96, 92.34]\n",
      "2025/03/18 11:58:40 INFO dspy.teleprompt.mipro_optimizer_v2: Best score so far: 94.39\n",
      "2025/03/18 11:58:40 INFO dspy.teleprompt.mipro_optimizer_v2: ========================\n",
      "\n",
      "\n",
      "2025/03/18 11:58:40 INFO dspy.teleprompt.mipro_optimizer_v2: ===== Trial 9 / 25 =====\n"
     ]
    },
    {
     "name": "stdout",
     "output_type": "stream",
     "text": [
      "\n",
      "Average Metric: 28.78 / 32 (89.9%): 100%|████████████████████████████████████████████████████████████████████████████████████████████████████████████| 32/32 [03:03<00:00,  5.74s/it]"
     ]
    },
    {
     "name": "stderr",
     "output_type": "stream",
     "text": [
      "2025/03/18 12:01:44 INFO dspy.evaluate.evaluate: Average Metric: 28.78181255008578 / 32 (89.9%)\n",
      "2025/03/18 12:01:44 INFO dspy.teleprompt.mipro_optimizer_v2: Score: 89.94 with parameters ['Predictor 0: Instruction 11', 'Predictor 0: Few-Shot Set 13'].\n",
      "2025/03/18 12:01:44 INFO dspy.teleprompt.mipro_optimizer_v2: Scores so far: [87.82, 94.39, 92.77, 92.27, 90.14, 93.81, 93.96, 92.34, 89.94]\n",
      "2025/03/18 12:01:44 INFO dspy.teleprompt.mipro_optimizer_v2: Best score so far: 94.39\n",
      "2025/03/18 12:01:44 INFO dspy.teleprompt.mipro_optimizer_v2: ========================\n",
      "\n",
      "\n",
      "2025/03/18 12:01:44 INFO dspy.teleprompt.mipro_optimizer_v2: ===== Trial 10 / 25 =====\n"
     ]
    },
    {
     "name": "stdout",
     "output_type": "stream",
     "text": [
      "\n",
      "Average Metric: 30.03 / 32 (93.8%): 100%|████████████████████████████████████████████████████████████████████████████████████████████████████████████| 32/32 [02:54<00:00,  5.46s/it]"
     ]
    },
    {
     "name": "stderr",
     "output_type": "stream",
     "text": [
      "2025/03/18 12:04:39 INFO dspy.evaluate.evaluate: Average Metric: 30.027591316917025 / 32 (93.8%)\n",
      "2025/03/18 12:04:39 INFO dspy.teleprompt.mipro_optimizer_v2: Score: 93.84 with parameters ['Predictor 0: Instruction 5', 'Predictor 0: Few-Shot Set 4'].\n",
      "2025/03/18 12:04:39 INFO dspy.teleprompt.mipro_optimizer_v2: Scores so far: [87.82, 94.39, 92.77, 92.27, 90.14, 93.81, 93.96, 92.34, 89.94, 93.84]\n",
      "2025/03/18 12:04:39 INFO dspy.teleprompt.mipro_optimizer_v2: Best score so far: 94.39\n",
      "2025/03/18 12:04:39 INFO dspy.teleprompt.mipro_optimizer_v2: =========================\n",
      "\n",
      "\n",
      "2025/03/18 12:04:39 INFO dspy.teleprompt.mipro_optimizer_v2: ===== Trial 11 / 25 =====\n"
     ]
    },
    {
     "name": "stdout",
     "output_type": "stream",
     "text": [
      "\n",
      "Average Metric: 30.40 / 32 (95.0%): 100%|████████████████████████████████████████████████████████████████████████████████████████████████████████████| 32/32 [03:15<00:00,  6.11s/it]"
     ]
    },
    {
     "name": "stderr",
     "output_type": "stream",
     "text": [
      "2025/03/18 12:07:54 INFO dspy.evaluate.evaluate: Average Metric: 30.40097623223648 / 32 (95.0%)\n",
      "2025/03/18 12:07:54 INFO dspy.teleprompt.mipro_optimizer_v2: \u001b[92mBest full score so far!\u001b[0m Score: 95.0\n",
      "2025/03/18 12:07:54 INFO dspy.teleprompt.mipro_optimizer_v2: Score: 95.0 with parameters ['Predictor 0: Instruction 12', 'Predictor 0: Few-Shot Set 3'].\n",
      "2025/03/18 12:07:54 INFO dspy.teleprompt.mipro_optimizer_v2: Scores so far: [87.82, 94.39, 92.77, 92.27, 90.14, 93.81, 93.96, 92.34, 89.94, 93.84, 95.0]\n",
      "2025/03/18 12:07:54 INFO dspy.teleprompt.mipro_optimizer_v2: Best score so far: 95.0\n",
      "2025/03/18 12:07:54 INFO dspy.teleprompt.mipro_optimizer_v2: =========================\n",
      "\n",
      "\n",
      "2025/03/18 12:07:54 INFO dspy.teleprompt.mipro_optimizer_v2: ===== Trial 12 / 25 =====\n"
     ]
    },
    {
     "name": "stdout",
     "output_type": "stream",
     "text": [
      "\n",
      "Average Metric: 30.40 / 32 (95.0%): 100%|██████████████████████████████████████████████████████████████████████████████████████████████████████████| 32/32 [00:00<00:00, 3076.41it/s]"
     ]
    },
    {
     "name": "stderr",
     "output_type": "stream",
     "text": [
      "2025/03/18 12:07:55 INFO dspy.evaluate.evaluate: Average Metric: 30.40097623223648 / 32 (95.0%)\n",
      "2025/03/18 12:07:55 INFO dspy.teleprompt.mipro_optimizer_v2: Score: 95.0 with parameters ['Predictor 0: Instruction 12', 'Predictor 0: Few-Shot Set 3'].\n",
      "2025/03/18 12:07:55 INFO dspy.teleprompt.mipro_optimizer_v2: Scores so far: [87.82, 94.39, 92.77, 92.27, 90.14, 93.81, 93.96, 92.34, 89.94, 93.84, 95.0, 95.0]\n",
      "2025/03/18 12:07:55 INFO dspy.teleprompt.mipro_optimizer_v2: Best score so far: 95.0\n",
      "2025/03/18 12:07:55 INFO dspy.teleprompt.mipro_optimizer_v2: =========================\n",
      "\n",
      "\n",
      "2025/03/18 12:07:55 INFO dspy.teleprompt.mipro_optimizer_v2: ===== Trial 13 / 25 =====\n"
     ]
    },
    {
     "name": "stdout",
     "output_type": "stream",
     "text": [
      "\n",
      "Average Metric: 29.38 / 32 (91.8%): 100%|████████████████████████████████████████████████████████████████████████████████████████████████████████████| 32/32 [03:17<00:00,  6.18s/it]"
     ]
    },
    {
     "name": "stderr",
     "output_type": "stream",
     "text": [
      "2025/03/18 12:11:13 INFO dspy.evaluate.evaluate: Average Metric: 29.376497569512733 / 32 (91.8%)\n",
      "2025/03/18 12:11:13 INFO dspy.teleprompt.mipro_optimizer_v2: Score: 91.8 with parameters ['Predictor 0: Instruction 12', 'Predictor 0: Few-Shot Set 9'].\n",
      "2025/03/18 12:11:13 INFO dspy.teleprompt.mipro_optimizer_v2: Scores so far: [87.82, 94.39, 92.77, 92.27, 90.14, 93.81, 93.96, 92.34, 89.94, 93.84, 95.0, 95.0, 91.8]\n",
      "2025/03/18 12:11:13 INFO dspy.teleprompt.mipro_optimizer_v2: Best score so far: 95.0\n",
      "2025/03/18 12:11:13 INFO dspy.teleprompt.mipro_optimizer_v2: =========================\n",
      "\n",
      "\n",
      "2025/03/18 12:11:13 INFO dspy.teleprompt.mipro_optimizer_v2: ===== Trial 14 / 25 =====\n"
     ]
    },
    {
     "name": "stdout",
     "output_type": "stream",
     "text": [
      "\n",
      "Average Metric: 30.40 / 32 (95.0%): 100%|██████████████████████████████████████████████████████████████████████████████████████████████████████████| 32/32 [00:00<00:00, 1510.41it/s]"
     ]
    },
    {
     "name": "stderr",
     "output_type": "stream",
     "text": [
      "2025/03/18 12:11:13 INFO dspy.evaluate.evaluate: Average Metric: 30.40097623223648 / 32 (95.0%)\n",
      "2025/03/18 12:11:13 INFO dspy.teleprompt.mipro_optimizer_v2: Score: 95.0 with parameters ['Predictor 0: Instruction 12', 'Predictor 0: Few-Shot Set 3'].\n",
      "2025/03/18 12:11:13 INFO dspy.teleprompt.mipro_optimizer_v2: Scores so far: [87.82, 94.39, 92.77, 92.27, 90.14, 93.81, 93.96, 92.34, 89.94, 93.84, 95.0, 95.0, 91.8, 95.0]\n",
      "2025/03/18 12:11:13 INFO dspy.teleprompt.mipro_optimizer_v2: Best score so far: 95.0\n",
      "2025/03/18 12:11:13 INFO dspy.teleprompt.mipro_optimizer_v2: =========================\n",
      "\n",
      "\n",
      "2025/03/18 12:11:13 INFO dspy.teleprompt.mipro_optimizer_v2: ===== Trial 15 / 25 =====\n"
     ]
    },
    {
     "name": "stdout",
     "output_type": "stream",
     "text": [
      "\n",
      "Average Metric: 30.02 / 32 (93.8%): 100%|████████████████████████████████████████████████████████████████████████████████████████████████████████████| 32/32 [03:21<00:00,  6.30s/it]"
     ]
    },
    {
     "name": "stderr",
     "output_type": "stream",
     "text": [
      "2025/03/18 12:14:35 INFO dspy.evaluate.evaluate: Average Metric: 30.015725956505605 / 32 (93.8%)\n",
      "2025/03/18 12:14:35 INFO dspy.teleprompt.mipro_optimizer_v2: Score: 93.8 with parameters ['Predictor 0: Instruction 4', 'Predictor 0: Few-Shot Set 3'].\n",
      "2025/03/18 12:14:35 INFO dspy.teleprompt.mipro_optimizer_v2: Scores so far: [87.82, 94.39, 92.77, 92.27, 90.14, 93.81, 93.96, 92.34, 89.94, 93.84, 95.0, 95.0, 91.8, 95.0, 93.8]\n",
      "2025/03/18 12:14:35 INFO dspy.teleprompt.mipro_optimizer_v2: Best score so far: 95.0\n",
      "2025/03/18 12:14:35 INFO dspy.teleprompt.mipro_optimizer_v2: =========================\n",
      "\n",
      "\n",
      "2025/03/18 12:14:35 INFO dspy.teleprompt.mipro_optimizer_v2: ===== Trial 16 / 25 =====\n"
     ]
    },
    {
     "name": "stdout",
     "output_type": "stream",
     "text": [
      "\n",
      "Average Metric: 30.15 / 32 (94.2%): 100%|████████████████████████████████████████████████████████████████████████████████████████████████████████████| 32/32 [03:15<00:00,  6.12s/it]"
     ]
    },
    {
     "name": "stderr",
     "output_type": "stream",
     "text": [
      "2025/03/18 12:17:51 INFO dspy.evaluate.evaluate: Average Metric: 30.15113896293488 / 32 (94.2%)\n",
      "2025/03/18 12:17:51 INFO dspy.teleprompt.mipro_optimizer_v2: Score: 94.22 with parameters ['Predictor 0: Instruction 13', 'Predictor 0: Few-Shot Set 3'].\n",
      "2025/03/18 12:17:51 INFO dspy.teleprompt.mipro_optimizer_v2: Scores so far: [87.82, 94.39, 92.77, 92.27, 90.14, 93.81, 93.96, 92.34, 89.94, 93.84, 95.0, 95.0, 91.8, 95.0, 93.8, 94.22]\n",
      "2025/03/18 12:17:51 INFO dspy.teleprompt.mipro_optimizer_v2: Best score so far: 95.0\n",
      "2025/03/18 12:17:51 INFO dspy.teleprompt.mipro_optimizer_v2: =========================\n",
      "\n",
      "\n",
      "2025/03/18 12:17:51 INFO dspy.teleprompt.mipro_optimizer_v2: ===== Trial 17 / 25 =====\n"
     ]
    },
    {
     "name": "stdout",
     "output_type": "stream",
     "text": [
      "\n",
      "Average Metric: 30.06 / 32 (93.9%): 100%|██████████████████████████████████████████████████████████████████████████████████████████| 32/32 [03:01<00:00,  5.66s/it]                  "
     ]
    },
    {
     "name": "stderr",
     "output_type": "stream",
     "text": [
      "2025/03/18 12:20:52 INFO dspy.evaluate.evaluate: Average Metric: 30.05887605992618 / 32 (93.9%)\n",
      "2025/03/18 12:20:52 INFO dspy.teleprompt.mipro_optimizer_v2: Score: 93.93 with parameters ['Predictor 0: Instruction 9', 'Predictor 0: Few-Shot Set 16'].\n",
      "2025/03/18 12:20:52 INFO dspy.teleprompt.mipro_optimizer_v2: Scores so far: [87.82, 94.39, 92.77, 92.27, 90.14, 93.81, 93.96, 92.34, 89.94, 93.84, 95.0, 95.0, 91.8, 95.0, 93.8, 94.22, 93.93]\n",
      "2025/03/18 12:20:52 INFO dspy.teleprompt.mipro_optimizer_v2: Best score so far: 95.0\n",
      "2025/03/18 12:20:52 INFO dspy.teleprompt.mipro_optimizer_v2: =========================\n",
      "\n",
      "\n",
      "2025/03/18 12:20:52 INFO dspy.teleprompt.mipro_optimizer_v2: ===== Trial 18 / 25 =====\n"
     ]
    },
    {
     "name": "stdout",
     "output_type": "stream",
     "text": [
      "\n",
      "Average Metric: 29.65 / 32 (92.6%): 100%|██████████████████████████████████████████████████████████████████████████████████████████| 32/32 [03:09<00:00,  5.91s/it]"
     ]
    },
    {
     "name": "stderr",
     "output_type": "stream",
     "text": [
      "2025/03/18 12:24:01 INFO dspy.evaluate.evaluate: Average Metric: 29.646520519591874 / 32 (92.6%)\n",
      "2025/03/18 12:24:01 INFO dspy.teleprompt.mipro_optimizer_v2: Score: 92.65 with parameters ['Predictor 0: Instruction 1', 'Predictor 0: Few-Shot Set 6'].\n",
      "2025/03/18 12:24:01 INFO dspy.teleprompt.mipro_optimizer_v2: Scores so far: [87.82, 94.39, 92.77, 92.27, 90.14, 93.81, 93.96, 92.34, 89.94, 93.84, 95.0, 95.0, 91.8, 95.0, 93.8, 94.22, 93.93, 92.65]\n",
      "2025/03/18 12:24:01 INFO dspy.teleprompt.mipro_optimizer_v2: Best score so far: 95.0\n",
      "2025/03/18 12:24:01 INFO dspy.teleprompt.mipro_optimizer_v2: =========================\n",
      "\n",
      "\n",
      "2025/03/18 12:24:01 INFO dspy.teleprompt.mipro_optimizer_v2: ===== Trial 19 / 25 =====\n"
     ]
    },
    {
     "name": "stdout",
     "output_type": "stream",
     "text": [
      "\n",
      "Average Metric: 30.37 / 32 (94.9%): 100%|██████████████████████████████████████████████████████████████████████████████████████████| 32/32 [03:14<00:00,  6.09s/it]"
     ]
    },
    {
     "name": "stderr",
     "output_type": "stream",
     "text": [
      "2025/03/18 12:27:16 INFO dspy.evaluate.evaluate: Average Metric: 30.372841780573538 / 32 (94.9%)\n",
      "2025/03/18 12:27:16 INFO dspy.teleprompt.mipro_optimizer_v2: Score: 94.92 with parameters ['Predictor 0: Instruction 18', 'Predictor 0: Few-Shot Set 3'].\n",
      "2025/03/18 12:27:16 INFO dspy.teleprompt.mipro_optimizer_v2: Scores so far: [87.82, 94.39, 92.77, 92.27, 90.14, 93.81, 93.96, 92.34, 89.94, 93.84, 95.0, 95.0, 91.8, 95.0, 93.8, 94.22, 93.93, 92.65, 94.92]\n",
      "2025/03/18 12:27:16 INFO dspy.teleprompt.mipro_optimizer_v2: Best score so far: 95.0\n",
      "2025/03/18 12:27:16 INFO dspy.teleprompt.mipro_optimizer_v2: =========================\n",
      "\n",
      "\n",
      "2025/03/18 12:27:16 INFO dspy.teleprompt.mipro_optimizer_v2: ===== Trial 20 / 25 =====\n"
     ]
    },
    {
     "name": "stdout",
     "output_type": "stream",
     "text": [
      "\n",
      "Average Metric: 30.07 / 32 (94.0%): 100%|██████████████████████████████████████████████████████████████████████████████████████████| 32/32 [03:18<00:00,  6.19s/it]"
     ]
    },
    {
     "name": "stderr",
     "output_type": "stream",
     "text": [
      "2025/03/18 12:30:34 INFO dspy.evaluate.evaluate: Average Metric: 30.070251253419308 / 32 (94.0%)\n",
      "2025/03/18 12:30:34 INFO dspy.teleprompt.mipro_optimizer_v2: Score: 93.97 with parameters ['Predictor 0: Instruction 12', 'Predictor 0: Few-Shot Set 17'].\n",
      "2025/03/18 12:30:34 INFO dspy.teleprompt.mipro_optimizer_v2: Scores so far: [87.82, 94.39, 92.77, 92.27, 90.14, 93.81, 93.96, 92.34, 89.94, 93.84, 95.0, 95.0, 91.8, 95.0, 93.8, 94.22, 93.93, 92.65, 94.92, 93.97]\n",
      "2025/03/18 12:30:34 INFO dspy.teleprompt.mipro_optimizer_v2: Best score so far: 95.0\n",
      "2025/03/18 12:30:34 INFO dspy.teleprompt.mipro_optimizer_v2: =========================\n",
      "\n",
      "\n",
      "2025/03/18 12:30:34 INFO dspy.teleprompt.mipro_optimizer_v2: ===== Trial 21 / 25 =====\n"
     ]
    },
    {
     "name": "stdout",
     "output_type": "stream",
     "text": [
      "\n",
      "Average Metric: 28.65 / 32 (89.5%): 100%|██████████████████████████████████████████████████████████████████████████████████████████| 32/32 [03:15<00:00,  6.10s/it]"
     ]
    },
    {
     "name": "stderr",
     "output_type": "stream",
     "text": [
      "2025/03/18 12:33:49 INFO dspy.evaluate.evaluate: Average Metric: 28.654356596155594 / 32 (89.5%)\n",
      "2025/03/18 12:33:49 INFO dspy.teleprompt.mipro_optimizer_v2: Score: 89.54 with parameters ['Predictor 0: Instruction 16', 'Predictor 0: Few-Shot Set 15'].\n",
      "2025/03/18 12:33:50 INFO dspy.teleprompt.mipro_optimizer_v2: Scores so far: [87.82, 94.39, 92.77, 92.27, 90.14, 93.81, 93.96, 92.34, 89.94, 93.84, 95.0, 95.0, 91.8, 95.0, 93.8, 94.22, 93.93, 92.65, 94.92, 93.97, 89.54]\n",
      "2025/03/18 12:33:50 INFO dspy.teleprompt.mipro_optimizer_v2: Best score so far: 95.0\n",
      "2025/03/18 12:33:50 INFO dspy.teleprompt.mipro_optimizer_v2: =========================\n",
      "\n",
      "\n",
      "2025/03/18 12:33:50 INFO dspy.teleprompt.mipro_optimizer_v2: ===== Trial 22 / 25 =====\n"
     ]
    },
    {
     "name": "stdout",
     "output_type": "stream",
     "text": [
      "\n",
      "Average Metric: 29.60 / 32 (92.5%): 100%|██████████████████████████████████████████████████████████████████████████████████████████| 32/32 [03:25<00:00,  6.42s/it]"
     ]
    },
    {
     "name": "stderr",
     "output_type": "stream",
     "text": [
      "2025/03/18 12:37:15 INFO dspy.evaluate.evaluate: Average Metric: 29.59675166556525 / 32 (92.5%)\n",
      "2025/03/18 12:37:15 INFO dspy.teleprompt.mipro_optimizer_v2: Score: 92.49 with parameters ['Predictor 0: Instruction 2', 'Predictor 0: Few-Shot Set 3'].\n",
      "2025/03/18 12:37:15 INFO dspy.teleprompt.mipro_optimizer_v2: Scores so far: [87.82, 94.39, 92.77, 92.27, 90.14, 93.81, 93.96, 92.34, 89.94, 93.84, 95.0, 95.0, 91.8, 95.0, 93.8, 94.22, 93.93, 92.65, 94.92, 93.97, 89.54, 92.49]\n",
      "2025/03/18 12:37:15 INFO dspy.teleprompt.mipro_optimizer_v2: Best score so far: 95.0\n",
      "2025/03/18 12:37:15 INFO dspy.teleprompt.mipro_optimizer_v2: =========================\n",
      "\n",
      "\n",
      "2025/03/18 12:37:15 INFO dspy.teleprompt.mipro_optimizer_v2: ===== Trial 23 / 25 =====\n"
     ]
    },
    {
     "name": "stdout",
     "output_type": "stream",
     "text": [
      "\n",
      "Average Metric: 30.40 / 32 (95.0%): 100%|████████████████████████████████████████████████████████████████████████████████████████| 32/32 [00:00<00:00, 1442.38it/s]"
     ]
    },
    {
     "name": "stderr",
     "output_type": "stream",
     "text": [
      "2025/03/18 12:37:16 INFO dspy.evaluate.evaluate: Average Metric: 30.40097623223648 / 32 (95.0%)\n",
      "2025/03/18 12:37:16 INFO dspy.teleprompt.mipro_optimizer_v2: Score: 95.0 with parameters ['Predictor 0: Instruction 12', 'Predictor 0: Few-Shot Set 3'].\n",
      "2025/03/18 12:37:16 INFO dspy.teleprompt.mipro_optimizer_v2: Scores so far: [87.82, 94.39, 92.77, 92.27, 90.14, 93.81, 93.96, 92.34, 89.94, 93.84, 95.0, 95.0, 91.8, 95.0, 93.8, 94.22, 93.93, 92.65, 94.92, 93.97, 89.54, 92.49, 95.0]\n",
      "2025/03/18 12:37:16 INFO dspy.teleprompt.mipro_optimizer_v2: Best score so far: 95.0\n",
      "2025/03/18 12:37:16 INFO dspy.teleprompt.mipro_optimizer_v2: =========================\n",
      "\n",
      "\n",
      "2025/03/18 12:37:16 INFO dspy.teleprompt.mipro_optimizer_v2: ===== Trial 24 / 25 =====\n"
     ]
    },
    {
     "name": "stdout",
     "output_type": "stream",
     "text": [
      "\n",
      "Average Metric: 29.98 / 32 (93.7%): 100%|██████████████████████████████████████████████████████████████████████████████████████████| 32/32 [03:00<00:00,  5.63s/it]"
     ]
    },
    {
     "name": "stderr",
     "output_type": "stream",
     "text": [
      "2025/03/18 12:40:16 INFO dspy.evaluate.evaluate: Average Metric: 29.983525628326902 / 32 (93.7%)\n",
      "2025/03/18 12:40:16 INFO dspy.teleprompt.mipro_optimizer_v2: Score: 93.7 with parameters ['Predictor 0: Instruction 12', 'Predictor 0: Few-Shot Set 14'].\n",
      "2025/03/18 12:40:16 INFO dspy.teleprompt.mipro_optimizer_v2: Scores so far: [87.82, 94.39, 92.77, 92.27, 90.14, 93.81, 93.96, 92.34, 89.94, 93.84, 95.0, 95.0, 91.8, 95.0, 93.8, 94.22, 93.93, 92.65, 94.92, 93.97, 89.54, 92.49, 95.0, 93.7]\n",
      "2025/03/18 12:40:16 INFO dspy.teleprompt.mipro_optimizer_v2: Best score so far: 95.0\n",
      "2025/03/18 12:40:16 INFO dspy.teleprompt.mipro_optimizer_v2: =========================\n",
      "\n",
      "\n",
      "2025/03/18 12:40:16 INFO dspy.teleprompt.mipro_optimizer_v2: ===== Trial 25 / 25 =====\n"
     ]
    },
    {
     "name": "stdout",
     "output_type": "stream",
     "text": [
      "\n",
      "Average Metric: 30.40 / 32 (95.0%): 100%|████████████████████████████████████████████████████████████████████████████████████████| 32/32 [00:00<00:00, 3306.67it/s]"
     ]
    },
    {
     "name": "stderr",
     "output_type": "stream",
     "text": [
      "2025/03/18 12:40:16 INFO dspy.evaluate.evaluate: Average Metric: 30.40097623223648 / 32 (95.0%)\n",
      "2025/03/18 12:40:16 INFO dspy.teleprompt.mipro_optimizer_v2: Score: 95.0 with parameters ['Predictor 0: Instruction 12', 'Predictor 0: Few-Shot Set 3'].\n",
      "2025/03/18 12:40:16 INFO dspy.teleprompt.mipro_optimizer_v2: Scores so far: [87.82, 94.39, 92.77, 92.27, 90.14, 93.81, 93.96, 92.34, 89.94, 93.84, 95.0, 95.0, 91.8, 95.0, 93.8, 94.22, 93.93, 92.65, 94.92, 93.97, 89.54, 92.49, 95.0, 93.7, 95.0]\n",
      "2025/03/18 12:40:16 INFO dspy.teleprompt.mipro_optimizer_v2: Best score so far: 95.0\n",
      "2025/03/18 12:40:16 INFO dspy.teleprompt.mipro_optimizer_v2: =========================\n",
      "\n",
      "\n",
      "2025/03/18 12:40:16 INFO dspy.teleprompt.mipro_optimizer_v2: Returning best identified program with score 95.0!\n"
     ]
    },
    {
     "name": "stdout",
     "output_type": "stream",
     "text": [
      "\n"
     ]
    }
   ],
   "source": [
    "mipro_optimizer = dspy.MIPROv2(\n",
    "    metric=score_prediction,\n",
    "    auto=\"medium\",\n",
    ")\n",
    "\n",
    "optimized_trait_extractor = mipro_optimizer.compile(\n",
    "    trait_extractor,\n",
    "    trainset=dataset[\"train\"],\n",
    "    max_bootstrapped_demos=4,\n",
    "    requires_permission_to_run=False,\n",
    "    minibatch=False\n",
    ")"
   ]
  },
  {
   "cell_type": "code",
   "execution_count": 14,
   "id": "2fd23dd1-847f-4836-818a-c9dfc892728c",
   "metadata": {},
   "outputs": [
    {
     "name": "stdout",
     "output_type": "stream",
     "text": [
      "Average Metric: 193.20 / 203 (95.2%): 100%|██████████████████████████████████████████████████████████████████████████████████████| 203/203 [20:17<00:00,  6.00s/it]"
     ]
    },
    {
     "name": "stderr",
     "output_type": "stream",
     "text": [
      "2025/03/18 13:16:01 INFO dspy.evaluate.evaluate: Average Metric: 193.19519160250113 / 203 (95.2%)\n"
     ]
    },
    {
     "name": "stdout",
     "output_type": "stream",
     "text": [
      "\n"
     ]
    },
    {
     "data": {
      "text/html": [
       "<div>\n",
       "<style scoped>\n",
       "    .dataframe tbody tr th:only-of-type {\n",
       "        vertical-align: middle;\n",
       "    }\n",
       "\n",
       "    .dataframe tbody tr th {\n",
       "        vertical-align: top;\n",
       "    }\n",
       "\n",
       "    .dataframe thead th {\n",
       "        text-align: right;\n",
       "    }\n",
       "</style>\n",
       "<table border=\"1\" class=\"dataframe\">\n",
       "  <thead>\n",
       "    <tr style=\"text-align: right;\">\n",
       "      <th></th>\n",
       "      <th>text</th>\n",
       "      <th>prompt</th>\n",
       "      <th>example_traits</th>\n",
       "      <th>pred_traits</th>\n",
       "      <th>score_prediction</th>\n",
       "    </tr>\n",
       "  </thead>\n",
       "  <tbody>\n",
       "    <tr>\n",
       "      <th>0</th>\n",
       "      <td>&lt;b&gt;Perennials,&lt;/b&gt; 15–25 cm. &lt;b&gt;Stems&lt;/b&gt; erect, puberulent to his...</td>\n",
       "      <td>What is the plant size, leaf shape, leaf length, leaf width, leaf ...</td>\n",
       "      <td>Traits(plant_height='15–25 cm', leaf_shape='elliptic-lanceolate to...</td>\n",
       "      <td>Traits(plant_height='15–25 cm', leaf_shape='elliptic-lanceolate to...</td>\n",
       "      <td>✔️ [0.857]</td>\n",
       "    </tr>\n",
       "    <tr>\n",
       "      <th>1</th>\n",
       "      <td>&lt;b&gt;Annuals,&lt;/b&gt; 30–150(–400+) cm. &lt;b&gt;Stems&lt;/b&gt; erect. &lt;b&gt;Leaves&lt;/b...</td>\n",
       "      <td>What is the plant size, leaf shape, leaf length, leaf width, leaf ...</td>\n",
       "      <td>Traits(plant_height='30–150(–400+) cm', leaf_shape='rounded-deltat...</td>\n",
       "      <td>Traits(plant_height='30–150(–400+) cm', leaf_shape='rounded-deltat...</td>\n",
       "      <td>✔️ [0.857]</td>\n",
       "    </tr>\n",
       "    <tr>\n",
       "      <th>2</th>\n",
       "      <td>&lt;b&gt;Plants &lt;/b&gt;10–80(–200) cm; nodal spines 0. &lt;b&gt;Leaves&lt;/b&gt;: petio...</td>\n",
       "      <td>What is the plant size, leaf shape, leaf length, leaf width, leaf ...</td>\n",
       "      <td>Traits(plant_height='10–80(–200) cm', leaf_shape='suborbiculate to...</td>\n",
       "      <td>Traits(plant_height='10–80(–200) cm', leaf_shape='suborbiculate to...</td>\n",
       "      <td>✔️ [0.929]</td>\n",
       "    </tr>\n",
       "    <tr>\n",
       "      <th>3</th>\n",
       "      <td>&lt;b&gt;Biennials &lt;/b&gt;or perennials, 60–150(–200) cm; crown sprouts fro...</td>\n",
       "      <td>What is the plant size, leaf shape, leaf length, leaf width, leaf ...</td>\n",
       "      <td>Traits(plant_height='60–150(–200) cm', leaf_shape='linear or linea...</td>\n",
       "      <td>Traits(plant_height='60–150(–200) cm', leaf_shape='linear or linea...</td>\n",
       "      <td>✔️ [0.837]</td>\n",
       "    </tr>\n",
       "    <tr>\n",
       "      <th>4</th>\n",
       "      <td>&lt;b&gt;Annuals,&lt;/b&gt; to 60 cm. &lt;b&gt;Stems&lt;/b&gt; often spreading or prostrat...</td>\n",
       "      <td>What is the plant size, leaf shape, leaf length, leaf width, leaf ...</td>\n",
       "      <td>Traits(plant_height='60 cm', leaf_shape='tapering to winged petiol...</td>\n",
       "      <td>Traits(plant_height='to 60 cm', leaf_shape='lanceolate to oblanceo...</td>\n",
       "      <td>✔️ [0.954]</td>\n",
       "    </tr>\n",
       "    <tr>\n",
       "      <th>...</th>\n",
       "      <td>...</td>\n",
       "      <td>...</td>\n",
       "      <td>...</td>\n",
       "      <td>...</td>\n",
       "      <td>...</td>\n",
       "    </tr>\n",
       "    <tr>\n",
       "      <th>198</th>\n",
       "      <td>&lt;b&gt;Perennials,&lt;/b&gt; 10–60 cm; taproots vertical, thick, fibrous, ca...</td>\n",
       "      <td>What is the plant size, leaf shape, leaf length, leaf width, leaf ...</td>\n",
       "      <td>Traits(plant_height='10–60 cm', leaf_shape='oblanceolate, lyrate',...</td>\n",
       "      <td>Traits(plant_height='10–60 cm', leaf_shape='oblanceolate', leaf_le...</td>\n",
       "      <td>✔️ [0.968]</td>\n",
       "    </tr>\n",
       "    <tr>\n",
       "      <th>199</th>\n",
       "      <td>&lt;b&gt;Perennials,&lt;/b&gt; 10–60(–100+) cm. &lt;b&gt;Stems&lt;/b&gt; erect. &lt;b&gt;Leaves&lt;...</td>\n",
       "      <td>What is the plant size, leaf shape, leaf length, leaf width, leaf ...</td>\n",
       "      <td>Traits(plant_height='10–60(–100+) cm', leaf_shape='deltate to lanc...</td>\n",
       "      <td>Traits(plant_height='10–60(–100+) cm', leaf_shape='deltate to lanc...</td>\n",
       "      <td>✔️ [0.857]</td>\n",
       "    </tr>\n",
       "    <tr>\n",
       "      <th>200</th>\n",
       "      <td>&lt;b&gt;Perennials,&lt;/b&gt; 50–300 cm (rhizomes often elongate, slender, pl...</td>\n",
       "      <td>What is the plant size, leaf shape, leaf length, leaf width, leaf ...</td>\n",
       "      <td>Traits(plant_height='50–300 cm', leaf_shape='ovate to lanceolate',...</td>\n",
       "      <td>Traits(plant_height='50–300 cm', leaf_shape='broadly ovate to lanc...</td>\n",
       "      <td>✔️ [0.898]</td>\n",
       "    </tr>\n",
       "    <tr>\n",
       "      <th>201</th>\n",
       "      <td>&lt;b&gt;Plants &lt;/b&gt;50–200 cm; rhizomes short- to long-creeping. &lt;b&gt;Stem...</td>\n",
       "      <td>What is the plant size, leaf shape, leaf length, leaf width, leaf ...</td>\n",
       "      <td>Traits(plant_height='50–200 cm', leaf_shape='tapering to bases; bl...</td>\n",
       "      <td>Traits(plant_height='50–200 cm', leaf_shape='oblanceolate', leaf_l...</td>\n",
       "      <td>✔️ [0.891]</td>\n",
       "    </tr>\n",
       "    <tr>\n",
       "      <th>202</th>\n",
       "      <td>&lt;b&gt;Annuals,&lt;/b&gt; 4–42 cm; taprooted. &lt;b&gt;Stems&lt;/b&gt; erect or ascendin...</td>\n",
       "      <td>What is the plant size, leaf shape, leaf length, leaf width, leaf ...</td>\n",
       "      <td>Traits(plant_height='4–42 cm', leaf_shape='oblanceolate', leaf_len...</td>\n",
       "      <td>Traits(plant_height='4–42 cm', leaf_shape='oblanceolate', leaf_len...</td>\n",
       "      <td>✔️ [1.000]</td>\n",
       "    </tr>\n",
       "  </tbody>\n",
       "</table>\n",
       "<p>203 rows × 5 columns</p>\n",
       "</div>"
      ],
      "text/plain": [
       "                                                                      text  \\\n",
       "0    <b>Perennials,</b> 15–25 cm. <b>Stems</b> erect, puberulent to his...   \n",
       "1    <b>Annuals,</b> 30–150(–400+) cm. <b>Stems</b> erect. <b>Leaves</b...   \n",
       "2    <b>Plants </b>10–80(–200) cm; nodal spines 0. <b>Leaves</b>: petio...   \n",
       "3    <b>Biennials </b>or perennials, 60–150(–200) cm; crown sprouts fro...   \n",
       "4    <b>Annuals,</b> to 60 cm. <b>Stems</b> often spreading or prostrat...   \n",
       "..                                                                     ...   \n",
       "198  <b>Perennials,</b> 10–60 cm; taproots vertical, thick, fibrous, ca...   \n",
       "199  <b>Perennials,</b> 10–60(–100+) cm. <b>Stems</b> erect. <b>Leaves<...   \n",
       "200  <b>Perennials,</b> 50–300 cm (rhizomes often elongate, slender, pl...   \n",
       "201  <b>Plants </b>50–200 cm; rhizomes short- to long-creeping. <b>Stem...   \n",
       "202  <b>Annuals,</b> 4–42 cm; taprooted. <b>Stems</b> erect or ascendin...   \n",
       "\n",
       "                                                                    prompt  \\\n",
       "0    What is the plant size, leaf shape, leaf length, leaf width, leaf ...   \n",
       "1    What is the plant size, leaf shape, leaf length, leaf width, leaf ...   \n",
       "2    What is the plant size, leaf shape, leaf length, leaf width, leaf ...   \n",
       "3    What is the plant size, leaf shape, leaf length, leaf width, leaf ...   \n",
       "4    What is the plant size, leaf shape, leaf length, leaf width, leaf ...   \n",
       "..                                                                     ...   \n",
       "198  What is the plant size, leaf shape, leaf length, leaf width, leaf ...   \n",
       "199  What is the plant size, leaf shape, leaf length, leaf width, leaf ...   \n",
       "200  What is the plant size, leaf shape, leaf length, leaf width, leaf ...   \n",
       "201  What is the plant size, leaf shape, leaf length, leaf width, leaf ...   \n",
       "202  What is the plant size, leaf shape, leaf length, leaf width, leaf ...   \n",
       "\n",
       "                                                            example_traits  \\\n",
       "0    Traits(plant_height='15–25 cm', leaf_shape='elliptic-lanceolate to...   \n",
       "1    Traits(plant_height='30–150(–400+) cm', leaf_shape='rounded-deltat...   \n",
       "2    Traits(plant_height='10–80(–200) cm', leaf_shape='suborbiculate to...   \n",
       "3    Traits(plant_height='60–150(–200) cm', leaf_shape='linear or linea...   \n",
       "4    Traits(plant_height='60 cm', leaf_shape='tapering to winged petiol...   \n",
       "..                                                                     ...   \n",
       "198  Traits(plant_height='10–60 cm', leaf_shape='oblanceolate, lyrate',...   \n",
       "199  Traits(plant_height='10–60(–100+) cm', leaf_shape='deltate to lanc...   \n",
       "200  Traits(plant_height='50–300 cm', leaf_shape='ovate to lanceolate',...   \n",
       "201  Traits(plant_height='50–200 cm', leaf_shape='tapering to bases; bl...   \n",
       "202  Traits(plant_height='4–42 cm', leaf_shape='oblanceolate', leaf_len...   \n",
       "\n",
       "                                                               pred_traits  \\\n",
       "0    Traits(plant_height='15–25 cm', leaf_shape='elliptic-lanceolate to...   \n",
       "1    Traits(plant_height='30–150(–400+) cm', leaf_shape='rounded-deltat...   \n",
       "2    Traits(plant_height='10–80(–200) cm', leaf_shape='suborbiculate to...   \n",
       "3    Traits(plant_height='60–150(–200) cm', leaf_shape='linear or linea...   \n",
       "4    Traits(plant_height='to 60 cm', leaf_shape='lanceolate to oblanceo...   \n",
       "..                                                                     ...   \n",
       "198  Traits(plant_height='10–60 cm', leaf_shape='oblanceolate', leaf_le...   \n",
       "199  Traits(plant_height='10–60(–100+) cm', leaf_shape='deltate to lanc...   \n",
       "200  Traits(plant_height='50–300 cm', leaf_shape='broadly ovate to lanc...   \n",
       "201  Traits(plant_height='50–200 cm', leaf_shape='oblanceolate', leaf_l...   \n",
       "202  Traits(plant_height='4–42 cm', leaf_shape='oblanceolate', leaf_len...   \n",
       "\n",
       "    score_prediction  \n",
       "0         ✔️ [0.857]  \n",
       "1         ✔️ [0.857]  \n",
       "2         ✔️ [0.929]  \n",
       "3         ✔️ [0.837]  \n",
       "4         ✔️ [0.954]  \n",
       "..               ...  \n",
       "198       ✔️ [0.968]  \n",
       "199       ✔️ [0.857]  \n",
       "200       ✔️ [0.898]  \n",
       "201       ✔️ [0.891]  \n",
       "202       ✔️ [1.000]  \n",
       "\n",
       "[203 rows x 5 columns]"
      ]
     },
     "metadata": {},
     "output_type": "display_data"
    },
    {
     "data": {
      "text/plain": [
       "95.17"
      ]
     },
     "execution_count": 14,
     "metadata": {},
     "output_type": "execute_result"
    }
   ],
   "source": [
    "evaluator(optimized_trait_extractor, devset=dataset[\"dev\"])"
   ]
  },
  {
   "cell_type": "code",
   "execution_count": 15,
   "id": "804503aa-0e8b-4d9c-a882-c54ba4021eeb",
   "metadata": {
    "scrolled": true
   },
   "outputs": [
    {
     "name": "stdout",
     "output_type": "stream",
     "text": [
      "\n",
      "\n",
      "\n",
      "\n",
      "\u001b[34m[2025-03-18T13:16:01.896011]\u001b[0m\n",
      "\n",
      "\u001b[31mSystem message:\u001b[0m\n",
      "\n",
      "Your input fields are:\n",
      "1. `text` (str): the species description text\n",
      "2. `prompt` (str): extract these traits\n",
      "\n",
      "Your output fields are:\n",
      "1. `traits` (Traits): the extracted traits\n",
      "\n",
      "All interactions will be structured in the following way, with the appropriate values filled in.\n",
      "\n",
      "[[ ## text ## ]]\n",
      "{text}\n",
      "\n",
      "[[ ## prompt ## ]]\n",
      "{prompt}\n",
      "\n",
      "[[ ## traits ## ]]\n",
      "{traits}        # note: the value you produce must adhere to the JSON schema: {\"type\": \"object\", \"properties\": {\"deciduousness\": {\"type\": \"string\", \"default\": \"\", \"title\": \"Deciduousness\"}, \"elevation\": {\"type\": \"string\", \"default\": \"\", \"title\": \"Elevation\"}, \"fruit_length\": {\"type\": \"string\", \"default\": \"\", \"title\": \"Fruit Length\"}, \"fruit_type\": {\"type\": \"string\", \"default\": \"\", \"title\": \"Fruit Type\"}, \"fruit_width\": {\"type\": \"string\", \"default\": \"\", \"title\": \"Fruit Width\"}, \"habitat\": {\"type\": \"string\", \"default\": \"\", \"title\": \"Habitat\"}, \"leaf_length\": {\"type\": \"string\", \"default\": \"\", \"title\": \"Leaf Length\"}, \"leaf_shape\": {\"type\": \"string\", \"default\": \"\", \"title\": \"Leaf Shape\"}, \"leaf_thickness\": {\"type\": \"string\", \"default\": \"\", \"title\": \"Leaf Thickness\"}, \"leaf_width\": {\"type\": \"string\", \"default\": \"\", \"title\": \"Leaf Width\"}, \"phenology\": {\"type\": \"string\", \"default\": \"\", \"title\": \"Phenology\"}, \"plant_height\": {\"type\": \"string\", \"default\": \"\", \"title\": \"Plant Height\"}, \"seed_length\": {\"type\": \"string\", \"default\": \"\", \"title\": \"Seed Length\"}, \"seed_width\": {\"type\": \"string\", \"default\": \"\", \"title\": \"Seed Width\"}}, \"title\": \"Traits\"}\n",
      "\n",
      "[[ ## completed ## ]]\n",
      "\n",
      "In adhering to this structure, your objective is: \n",
      "        You are a botanist working for a conservation agency. Your task is critical: you must accurately extract key trait information from species descriptions to build a database that will inform conservation efforts. Incorrect data could lead to misidentification of endangered species or ineffective conservation strategies. You will be given species descriptions and a specific set of traits to extract. Respond *only* with the requested trait values, formatted as a `Traits` object. If a trait is not mentioned in the text, its value should be an empty string. Pay close attention to units and ensure they are included in the output.\n",
      "\n",
      "\n",
      "\u001b[31mUser message:\u001b[0m\n",
      "\n",
      "[[ ## text ## ]]\n",
      "<b>Annuals </b>or perennials, 10–70(–100) cm, herbaceous to suffrutescent. <b>Leaf</b> blades oblong to oblanceolate, mid-cauline (2.5–)4–13 mm wide. <b>Heads</b> essentially sessile, often surpassed by distal leaves that continue to very base of heads. <b>Involucres</b> (6–)10–15 × 12–30 mm. <b>Phyllaries</b> in 3–4 series, loose, subequal, apices erect to spreading, 1.3–1.7 mm wide, herbaceous. <b>Ray</b> florets 17–38; corollas 8.5–19 mm. <b>Disc</b> florets: corolla tubes longer than limbs. <b>2n</b> = 12.\n",
      "Phenology: Flowering (Jul–)Sep–Dec (sporadically Feb–Jun).\n",
      "Habitat: Sandy sites, along waterways, canal banks, dunes, beaches, salt flats\n",
      "Elevation: 0–10 m\n",
      "\n",
      "[[ ## prompt ## ]]\n",
      "\n",
      "    What is the plant size,\n",
      "    leaf shape, leaf length, leaf width, leaf thickness,\n",
      "    seed length, seed width,\n",
      "    fruit type, fruit length, fruit width,\n",
      "    deciduousness, phenology, habitat, elevation?\n",
      "    If it is not mentioned return an empty value.\n",
      "\n",
      "Respond with the corresponding output fields, starting with the field `[[ ## traits ## ]]` (must be formatted as a valid Python Traits), and then ending with the marker for `[[ ## completed ## ]]`.\n",
      "\n",
      "\n",
      "\u001b[31mAssistant message:\u001b[0m\n",
      "\n",
      "[[ ## traits ## ]]\n",
      "{\"plant_height\": \"10–70(–100) cm\", \"leaf_shape\": \"oblong to oblanceolate\", \"leaf_length\": \"\", \"leaf_width\": \"4–13 mm\", \"leaf_thickness\": \"\", \"fruit_type\": \"\", \"fruit_length\": \"\", \"fruit_width\": \"\", \"seed_length\": \"\", \"seed_width\": \"\", \"deciduousness\": \"\", \"phenology\": \"Flowering (Jul–)Sep–Dec (sporadically Feb–Jun)\", \"habitat\": \"Sandy sites, along waterways, canal banks, dunes, beaches, salt flats\", \"elevation\": \"0–10 m\"}\n",
      "\n",
      "[[ ## completed ## ]]\n",
      "\n",
      "\n",
      "\u001b[31mUser message:\u001b[0m\n",
      "\n",
      "[[ ## text ## ]]\n",
      "<b>Plants </b>30–180 cm. <b>Corms</b> globose. <b>Stems</b> hispidulous-puberulent. <b>Leaves</b>: basal (usually withering before flowering) and proximal cauline 1-nerved, broadly oblanceolate to elliptic- or lanceolate-spatulate to linear-lanceolate, 80–250 × (4–)6–25 mm, gradually or abruptly reduced distally, essentially glabrous or sparsely or densely puberulent-hispidulous, ± gland-dotted (distal especially). <b>Heads</b> in loose, spiciform arrays. <b>Peduncles</b> 0 or (ascending to spreading or deflexed) 1–5(–10) mm. <b>Involucres</b> campanulate-hemispheric to turbinate-campanulate, (9–)10–16 × 10–20 mm. <b>Phyllaries</b> usually in 4–5 series, (outer or outer and middle usually reflexed) broadly obovate to oblong-spatulate, unequal, essentially glabrous, margins with relatively broad, whitish-hyaline, irregular to erose or lacerate borders (especially on the distal 1/3), strongly bullate (with a sharp, low, rounded buttress delimiting the hyaline border), apices usually rounded to subtruncate. <b>Florets</b> (14–)18–24(–30); corolla tubes pilose inside. <b>Cypselae</b> (3.5–)4.5–6 mm; pappi: lengths ± equaling corollas, bristles barbellate. <b>2n</b> = 20.\n",
      "Phenology: Flowering Aug–Sep(–Oct).\n",
      "Habitat: Prairies, barrens, old fields, sand dunes, ridges, fields, stream bottoms, sandstone outcrops, limestone ridges, hills, oak, oak-juniper, and oak-pine woodlands, jack pine, sand, silt loam\n",
      "Elevation: 50–500(–900) m\n",
      "\n",
      "[[ ## prompt ## ]]\n",
      "\n",
      "    What is the plant size,\n",
      "    leaf shape, leaf length, leaf width, leaf thickness,\n",
      "    seed length, seed width,\n",
      "    fruit type, fruit length, fruit width,\n",
      "    deciduousness, phenology, habitat, elevation?\n",
      "    If it is not mentioned return an empty value.\n",
      "\n",
      "Respond with the corresponding output fields, starting with the field `[[ ## traits ## ]]` (must be formatted as a valid Python Traits), and then ending with the marker for `[[ ## completed ## ]]`.\n",
      "\n",
      "\n",
      "\u001b[31mAssistant message:\u001b[0m\n",
      "\n",
      "[[ ## traits ## ]]\n",
      "{\"plant_height\": \"30–180 cm\", \"leaf_shape\": \"broadly oblanceolate to elliptic- or lanceolate-spatulate to linear-lanceolate\", \"leaf_length\": \"80–250 mm\", \"leaf_width\": \"6–25 mm\", \"leaf_thickness\": \"\", \"fruit_type\": \"Cypselae\", \"fruit_length\": \"\", \"fruit_width\": \"\", \"seed_length\": \"\", \"seed_width\": \"\", \"deciduousness\": \"\", \"phenology\": \"Flowering Aug–Sep(–Oct)\", \"habitat\": \"Prairies, barrens, old fields, sand dunes, ridges, fields, stream bottoms, sandstone outcrops, limestone ridges, hills, oak, oak-juniper, and oak-pine woodlands, jack pine, sand, silt loam\", \"elevation\": \"50–500(–900) m\"}\n",
      "\n",
      "[[ ## completed ## ]]\n",
      "\n",
      "\n",
      "\u001b[31mUser message:\u001b[0m\n",
      "\n",
      "[[ ## text ## ]]\n",
      "<b>Annuals,</b> (10–)30–70(–150+) cm. <b>Leaves</b>: proximal blades usually 1(–3)-pinnate, terminal lobes lance-ovate to oblanceolate, 10–60 × 5–25 mm; cauline blades usually 1–2(–3)-pinnate, rarely simple, simple blades or terminal lobes lance-linear to linear or filiform, 10–45 × 0.5–2(–5+) mm. <b>Peduncles</b> 1–5(–15+) cm. <b>Calyculi</b> of deltate-lanceolate bractlets 1–3+ mm. <b>Phyllaries</b> ± lance-oblong to lance-ovate, 4–7(–9) mm. <b>Ray</b> laminae usually yellow with red-brown blotch, sometimes red-brown in proximal 1/3–9/10 and distally yellow, rarely yellow throughout, 12–18+ mm. <b>Disc</b> corollas 2.5–3+ mm. <b>Cypselae</b> 1.5–3(–4+) mm, wings 0 or 0.1–0.7+ mm wide; pappi 0, or of 1–2 cusps or subulate scales 0.1–1+ mm. <b>2n</b> = 24 (+ 0–2 Bs).\n",
      "Phenology: Flowering year round, mostly Jun–Aug.\n",
      "Habitat: Moist, sandy or clay soils, sometimes alkaline flats, prairies, ditches, disturbed places\n",
      "Elevation: (0–)20–1500(–2000) m\n",
      "\n",
      "[[ ## prompt ## ]]\n",
      "\n",
      "    What is the plant size,\n",
      "    leaf shape, leaf length, leaf width, leaf thickness,\n",
      "    seed length, seed width,\n",
      "    fruit type, fruit length, fruit width,\n",
      "    deciduousness, phenology, habitat, elevation?\n",
      "    If it is not mentioned return an empty value.\n",
      "\n",
      "Respond with the corresponding output fields, starting with the field `[[ ## traits ## ]]` (must be formatted as a valid Python Traits), and then ending with the marker for `[[ ## completed ## ]]`.\n",
      "\n",
      "\n",
      "\u001b[31mAssistant message:\u001b[0m\n",
      "\n",
      "[[ ## traits ## ]]\n",
      "{\"plant_height\": \"30–70(–150+) cm\", \"leaf_shape\": \"lance-ovate to oblanceolate\", \"leaf_length\": \"10–60 mm\", \"leaf_width\": \"5–25 mm\", \"leaf_thickness\": \"\", \"fruit_type\": \"Cypselae\", \"fruit_length\": \"1.5–3(–4+) mm\", \"fruit_width\": \"\", \"seed_length\": \"\", \"seed_width\": \"\", \"deciduousness\": \"\", \"phenology\": \"Flowering year round, mostly Jun–Aug\", \"habitat\": \"Moist, sandy or clay soils, sometimes alkaline flats, prairies, ditches, disturbed places\", \"elevation\": \"(0–)20–1500(–2000) m\"}\n",
      "\n",
      "[[ ## completed ## ]]\n",
      "\n",
      "\n",
      "\u001b[31mUser message:\u001b[0m\n",
      "\n",
      "[[ ## text ## ]]\n",
      "<b>Plants </b>40–150 cm. <b>Corms</b> globose. <b>Stems</b> glabrous or sparsely pilose. <b>Leaves</b>: basal and proximal cauline (arising from separated nodes) 1-nerved, linear to linear-lanceolate, 100–300 × 1–2(–2.5) mm, gradually or abruptly reduced distally, essentially glabrous, gland-dotted (proximal margins sometimes ciliate). <b>Heads</b> in compact, racemiform arrays. <b>Peduncles</b> (ascending) 1–7 mm. <b>Involucres</b> turbinate-campanulate, 5–7 × 4–5 mm. <b>Phyllaries</b> in 2–3(–4) series, lanceolate to oblong or elliptic-oblong, unequal, essentially glabrous, margins with (pinkish purple) hyaline borders, apices usually rounded-retuse and minutely involute-cuspidate to apiculate. <b>Florets</b> 4–6; corolla tubes glabrous inside. <b>Cypselae</b> 2.5–4 mm; pappi: lengths ± equaling corollas, bristles barbellate.\n",
      "Phenology: Flowering Aug–Nov.\n",
      "Habitat: Longleaf pine savannas, longleaf pine-scrub oak, turkey oak-bluejack oak, slash pine-sand pine-scrub, sand pine-scrub, sand ridges, hills, and flats, roadsides\n",
      "Elevation: 10–100 m\n",
      "\n",
      "[[ ## prompt ## ]]\n",
      "\n",
      "    What is the plant size,\n",
      "    leaf shape, leaf length, leaf width, leaf thickness,\n",
      "    seed length, seed width,\n",
      "    fruit type, fruit length, fruit width,\n",
      "    deciduousness, phenology, habitat, elevation?\n",
      "    If it is not mentioned return an empty value.\n",
      "\n",
      "Respond with the corresponding output fields, starting with the field `[[ ## traits ## ]]` (must be formatted as a valid Python Traits), and then ending with the marker for `[[ ## completed ## ]]`.\n",
      "\n",
      "\n",
      "\u001b[31mAssistant message:\u001b[0m\n",
      "\n",
      "[[ ## traits ## ]]\n",
      "{\"plant_height\": \"40–150 cm\", \"leaf_shape\": \"linear to linear-lanceolate\", \"leaf_length\": \"100–300 mm\", \"leaf_width\": \"1–2(–2.5) mm\", \"leaf_thickness\": \"\", \"fruit_type\": \"Cypselae\", \"fruit_length\": \"\", \"fruit_width\": \"\", \"seed_length\": \"\", \"seed_width\": \"\", \"deciduousness\": \"\", \"phenology\": \"Flowering Aug–Nov\", \"habitat\": \"Longleaf pine savannas, longleaf pine-scrub oak, turkey oak-bluejack oak, slash pine-sand pine-scrub, sand pine-scrub, sand ridges, hills, and flats, roadside\", \"elevation\": \"10–100 m\"}\n",
      "\n",
      "[[ ## completed ## ]]\n",
      "\n",
      "\n",
      "\u001b[31mUser message:\u001b[0m\n",
      "\n",
      "[[ ## text ## ]]\n",
      "<b>Annuals,</b> 10–50 cm; taprooted. <b>Stems</b> erect to decumbent or procumbent, loosely arachnose-tomentose. <b>Leaves</b> basal and cauline, proximal usually present at flowering, blades spatulate to oblanceolate-obovate, 2–7 cm × 4–16 mm (becoming spatulate to oblanceolate bracts among proximal heads, surpassing glomerules, bases narrowed to petiolar regions, margins sinuate, apices often apiculate), faces concolor or weakly bicolor, loosely tomentose. <b>Heads</b> in glomerules in continuous or interrupted, spiciform arrays 1–12 cm × 10–15 mm (pressed). <b>Involucres</b> cupulate-campanulate, 3–3.5 mm, bases sparsely arachnose. <b>Phyllaries</b> in 3–4 series, outer ovate-triangular, lengths 1/2–2/3 inner, apices attenuate-apiculate, inner oblong, laminae often purple-tinged (at stereome), apices (transparent, sometimes golden) acute to obtuse. <b>Florets</b>: bisexual 3–4; all (or at least bisexual) corollas usually purplish distally. <b>Cypselae</b> (tan) 0.4–0.5 mm. <b>2n</b> = 28.\n",
      "Phenology: Flowering Mar–Jun(–Aug).\n",
      "Habitat: Disturbed sites, exposed, moist soils, commonly partially shaded\n",
      "Elevation: 0–500 m\n",
      "\n",
      "[[ ## prompt ## ]]\n",
      "\n",
      "    What is the plant size,\n",
      "    leaf shape, leaf length, leaf width, leaf thickness,\n",
      "    seed length, seed width,\n",
      "    fruit type, fruit length, fruit width,\n",
      "    deciduousness, phenology, habitat, elevation?\n",
      "    If it is not mentioned return an empty value.\n",
      "\n",
      "Respond with the corresponding output fields, starting with the field `[[ ## traits ## ]]` (must be formatted as a valid Python Traits), and then ending with the marker for `[[ ## completed ## ]]`.\n",
      "\n",
      "\n",
      "\u001b[31mAssistant message:\u001b[0m\n",
      "\n",
      "[[ ## traits ## ]]\n",
      "{\"plant_height\": \"10–50 cm\", \"leaf_shape\": \"spatulate to oblanceolate-obovate\", \"leaf_length\": \"2–7 cm\", \"leaf_width\": \"4–16 mm\", \"leaf_thickness\": \"\", \"fruit_type\": \"Cypselae\", \"fruit_length\": \"0.4–0.5 mm\", \"fruit_width\": \"\", \"seed_length\": \"\", \"seed_width\": \"\", \"deciduousness\": \"\", \"phenology\": \"Flowering Mar–Jun(–Aug)\", \"habitat\": \"Disturbed sites, exposed, moist soils, commonly partially shaded\", \"elevation\": \"0–500 m\"}\n",
      "\n",
      "[[ ## completed ## ]]\n",
      "\n",
      "\n",
      "\u001b[31mUser message:\u001b[0m\n",
      "\n",
      "[[ ## text ## ]]\n",
      "<b>Stems </b>obscurely 6-angled, sometimes winged on angles, often densely glandular, glabrous or puberulent; internodes 3.5–13 cm. <b>Petioles</b> 10–40 mm, glabrous, glandular. <b>Leaf</b> blades deltate-ovate, 1.5–6 × 1–5 cm, (subcoriaceous to somewhat fleshy) bases cordate to subcordate, margins usually hastately dentate to ± lobed (lobes divergent), apices acute to acuminate, faces glabrous (and gland-dotted). <b>Arrays</b> of heads corymbiform, 2–4 × 2–6 cm. <b>Heads</b> 4–6 mm. <b>Phyllaries</b> lanceolate to narrowly ovate, ca. 3.5 mm, apices acuminate (abaxial faces puberulent). <b>Corollas</b> white, ca. 3 mm, gland-dotted, lobes deltate. <b>Cypselae</b> brown, 1.5–2 mm, densely gland-dotted; pappi of ca. 40 white, barbellate bristles ca. 3 mm.\n",
      "Phenology: Flowering year round.\n",
      "Habitat: Woodlands, savannas, salt marshes, swamps, usually in oölite or coral soils\n",
      "\n",
      "[[ ## prompt ## ]]\n",
      "\n",
      "    What is the plant size,\n",
      "    leaf shape, leaf length, leaf width, leaf thickness,\n",
      "    seed length, seed width,\n",
      "    fruit type, fruit length, fruit width,\n",
      "    deciduousness, phenology, habitat, elevation?\n",
      "    If it is not mentioned return an empty value.\n",
      "\n",
      "Respond with the corresponding output fields, starting with the field `[[ ## traits ## ]]` (must be formatted as a valid Python Traits), and then ending with the marker for `[[ ## completed ## ]]`.\n",
      "\n",
      "\n",
      "\u001b[31mAssistant message:\u001b[0m\n",
      "\n",
      "[[ ## traits ## ]]\n",
      "{\"plant_height\": \"\", \"leaf_shape\": \"deltate-ovate\", \"leaf_length\": \"1.5–6 cm\", \"leaf_width\": \"1–5 cm\", \"leaf_thickness\": \"\", \"fruit_type\": \"Cypselae\", \"fruit_length\": \"1.5–2 mm\", \"fruit_width\": \"\", \"seed_length\": \"\", \"seed_width\": \"\", \"deciduousness\": \"\", \"phenology\": \"Flowering year round\", \"habitat\": \"Woodlands, savannas, salt marshes, swamps, usually in oölite or coral soils\", \"elevation\": \"\"}\n",
      "\n",
      "[[ ## completed ## ]]\n",
      "\n",
      "\n",
      "\u001b[31mUser message:\u001b[0m\n",
      "\n",
      "[[ ## text ## ]]\n",
      "<b>Plants </b>40–120 cm; caudices branching, woody. <b>Stems</b> usually 1, erect, glabrous, sparsely hairy in arrays. <b>Leaves</b>: basal when present similar to proximal cauline; proximal cauline often withering by flowering, tapering (sometimes rather abruptly) to short, winged petioles, blades ovate-lanceolate, 60–100(–150) × 30–40(–50) mm, thin, margins coarsely serrate, apices acute, abaxial faces hirsute on main nerves, adaxial sparsely hirsute to somewhat scabrous; mid to distal cauline subsessile to sessile, blades lanceolate, 20–50 × 5–20 mm, gradually reduced distally, margins entire. <b>Heads</b> 20–150, secund, in open paniculiform arrays, proximal branches elongate and widely divergent, sometimes pyramidal-secund with proximal branches short and recurved-secund. <b>Peduncles</b> 1.7–2 mm, sparsely to moderately short hispido-strigose, bracteoles 2–7, ovate, grading into phyllaries. <b>Involucres</b> 3–4 mm. <b>Phyllaries</b> (16–18) in 2–3 series, unequal; outer ovate, acute, inner linear-lanceolate, obtuse to acute. <b>Ray</b> florets 3–6; laminae 1–2 × 0.5–1 mm. <b>Disc</b> florets 4–7; corollas 2.7–3 mm, lobes 0.5–1.1 mm. <b>Cypselae</b> 1–1.6 mm, finely hairy; pappi ± 2.5 mm.\n",
      "\n",
      "[[ ## prompt ## ]]\n",
      "\n",
      "    What is the plant size,\n",
      "    leaf shape, leaf length, leaf width, leaf thickness,\n",
      "    seed length, seed width,\n",
      "    fruit type, fruit length, fruit width,\n",
      "    deciduousness, phenology, habitat, elevation?\n",
      "    If it is not mentioned return an empty value.\n",
      "\n",
      "Respond with the corresponding output fields, starting with the field `[[ ## traits ## ]]` (must be formatted as a valid Python Traits), and then ending with the marker for `[[ ## completed ## ]]`.\n",
      "\n",
      "\n",
      "\u001b[31mAssistant message:\u001b[0m\n",
      "\n",
      "[[ ## traits ## ]]\n",
      "{\"plant_height\": \"40–120 cm\", \"leaf_shape\": \"tapering (sometimes rather abruptly) to short, winged petioles, blades ovate-lanceolate\", \"leaf_length\": \"60–100(–150) mm\", \"leaf_width\": \"30–40(–50) mm\", \"leaf_thickness\": \"\", \"fruit_type\": \"Cypselae\", \"fruit_length\": \"1–1.6 mm\", \"fruit_width\": \"\", \"seed_length\": \"\", \"seed_width\": \"\", \"deciduousness\": \"\", \"phenology\": \"\", \"habitat\": \"\", \"elevation\": \"\"}\n",
      "\n",
      "[[ ## completed ## ]]\n",
      "\n",
      "\n",
      "\u001b[31mUser message:\u001b[0m\n",
      "\n",
      "[[ ## text ## ]]\n",
      "<b>Perennials,</b> 30–120 cm, cespitose; with herbaceous or thick, woody, sometimes cormoid caudices. <b>Stems</b> 5+, erect to scandent-sprawling (brown, branched from middle), moderately to densely finely hairy. <b>Leaves</b> (yellowish green) thick, firm, margins entire; basal early deciduous, sessile or subpetiolate, blades (3-nerved) oblanceolate to obovate, 10–43 × 7–15 mm, bases cuneate, margins scabrous, apices acute to obtuse, faces sparsely finely scabrous; proximal cauline sessile, blades narrowly obovate to oblanceolate, 20–35 × 5–13 mm, bases auriculate-clasping, margins finely scabrous, apices acute to obtuse, faces finely scabrous, shiny; distal sessile, blades lanceolate to linear, 3–10 × 1–4 mm, gradually reduced to bracts distally, bases subclasping and adnate to stem for 1/2+ length, apices narrowly acute, white-spinulose, faces finely scabrous, viscid, minutely stipitate-glandular. <b>Heads</b> in ± open, paniculiform arrays, branches initially patent then ascending or divaricate. <b>Peduncles</b> densely short-strigose, glandular, bracts linear, adnate, densely short-strigose. <b>Involucres</b> campanulate, 4–6.5 mm. <b>Phyllaries</b> in 4–5 series, oblong to oblanceolate, strongly unequal, bases (tan) ± indurate, margins hyaline, finely scabrous, green zones lenticular, in distal 1/4–2/5, apices obtuse, mucronate to finely subspinulose, faces scabrellous-puberulent, stipitate-glandular. <b>Ray</b> florets 10–20; corollas light to dark lavender, laminae 5–8 × 0.5–1.5 mm. <b>Disc</b> florets 12–25; corollas yellow, 3.7–7 mm, throats narrowly funnelform, lobes triangular, 0.4–0.8 mm. <b>Cypselae</b> tan to brown, obovoid, not compressed, 2–2.5 mm, 6–10-nerved (faint), faces sparsely strigose; pappi tan, 3.75–8 mm. <b>2n</b> = 20.\n",
      "Phenology: Flowering Oct–Dec.\n",
      "Habitat: Sandy, clayey soils, sandhills, oak-pine scrub, open pine flatwoods, roadsides\n",
      "Elevation: 0–100+ m\n",
      "\n",
      "[[ ## prompt ## ]]\n",
      "\n",
      "    What is the plant size,\n",
      "    leaf shape, leaf length, leaf width, leaf thickness,\n",
      "    seed length, seed width,\n",
      "    fruit type, fruit length, fruit width,\n",
      "    deciduousness, phenology, habitat, elevation?\n",
      "    If it is not mentioned return an empty value.\n",
      "\n",
      "Respond with the corresponding output fields, starting with the field `[[ ## traits ## ]]` (must be formatted as a valid Python Traits), and then ending with the marker for `[[ ## completed ## ]]`.\n",
      "\n",
      "\n",
      "\u001b[31mAssistant message:\u001b[0m\n",
      "\n",
      "[[ ## traits ## ]]\n",
      "{\"plant_height\": \"30–120 cm\", \"leaf_shape\": \"oblanceolate to obovate\", \"leaf_length\": \"10–43 mm\", \"leaf_width\": \"7–15 mm\", \"leaf_thickness\": \"\", \"fruit_type\": \"Cypselae\", \"fruit_length\": \"2–2.5 mm\", \"fruit_width\": \"\", \"seed_length\": \"\", \"seed_width\": \"\", \"deciduousness\": \"\", \"phenology\": \"Flowering Oct–Dec\", \"habitat\": \"Sandy, clayey soils, sandhills, oak-pine scrub, open pine flatwoods, roadsides\", \"elevation\": \"0–100+ m\"}\n",
      "\n",
      "[[ ## completed ## ]]\n",
      "\n",
      "\n",
      "\u001b[31mUser message:\u001b[0m\n",
      "\n",
      "[[ ## text ## ]]\n",
      "<b>Plants </b>30–120(–200) cm. <b>Stems</b> lax, sprawling or scandent. <b>Leaves</b>: petioles (0.5–)1–3.5(–4) cm; blades triangular-deltate, (1–)2–5(–7) × (1–)1.5–3.5(–5) cm, bases usually truncate to cordate, sometimes obtuse, margins coarsely serrate to crenate-serrate, apices acute to acuminate. <b>Involucres</b> 4–5 mm. <b>Phyllaries</b>: outer lanceolate, inner lanceolate to narrowly oblong-lanceolate, glabrous or sparsely puberulent, apices usually acute to attenuate, sometimes rounded. <b>Corollas</b> usually pink-purple or whitish with pink to lilac lobes, rarely all white. <b>Cypselae</b> 1.8–2.8 mm, usually sparsely strigoso-hirtellous, sometimes glabrate. <b>2n</b> = 20.\n",
      "Phenology: Flowering Oct–Dec.\n",
      "Habitat: Woodlands, thickets, moist soil, roads, ditches, stream banks, bottomlands, swamps, depressions, cedar glades\n",
      "Elevation: 10–200 m\n",
      "\n",
      "[[ ## prompt ## ]]\n",
      "\n",
      "    What is the plant size,\n",
      "    leaf shape, leaf length, leaf width, leaf thickness,\n",
      "    seed length, seed width,\n",
      "    fruit type, fruit length, fruit width,\n",
      "    deciduousness, phenology, habitat, elevation?\n",
      "    If it is not mentioned return an empty value.\n",
      "\n",
      "Respond with the corresponding output fields, starting with the field `[[ ## traits ## ]]` (must be formatted as a valid Python Traits), and then ending with the marker for `[[ ## completed ## ]]`.\n",
      "\n",
      "\n",
      "\u001b[31mAssistant message:\u001b[0m\n",
      "\n",
      "[[ ## traits ## ]]\n",
      "{\"plant_height\": \"30–120(–200) cm\", \"leaf_shape\": \"triangular-deltate\", \"leaf_length\": \"(1–)2–5(–7) cm\", \"leaf_width\": \"(1–)1.5–3.5(–5) cm\", \"leaf_thickness\": \"\", \"fruit_type\": \"Cypselae\", \"fruit_length\": \"1.8–2.8 mm\", \"fruit_width\": \"\", \"seed_length\": \"\", \"seed_width\": \"\", \"deciduousness\": \"\", \"phenology\": \"Flowering Oct–Dec\", \"habitat\": \"Woodlands, thickets, moist soil, roads, ditches, stream banks, bottomlands, swamps, depressions, cedar glades\", \"elevation\": \"10–200 m\"}\n",
      "\n",
      "[[ ## completed ## ]]\n",
      "\n",
      "\n",
      "\u001b[31mUser message:\u001b[0m\n",
      "\n",
      "[[ ## text ## ]]\n",
      "<b>Annuals,</b> 4–42 cm; taprooted. <b>Stems</b> erect or ascending, branched, eglandular or stipitate-glandular, especially distally. <b>Leaves</b> basal and cauline; petiolate (at least basal); blades broadly to narrowly oblanceolate, 2–15 cm, margins entire or remotely toothed or lobed, lobes acute or rounded, apices acute to obtuse, faces glabrous or lightly glandular-villous; cauline appearing unequal and opposite proximal to distal peduncles, petiolate or sessile, blades oblanceolate to linear, gradually reduced, bases ± clasping, margins entire or dentate. <b>Heads</b> borne singly. <b>Peduncles</b> from branching, leafy stems. <b>Involucres</b> 2–8 mm. <b>Phyllaries</b> 5–10, erect in fruit, narrowly to broadly lanceolate, midveins evident, not prominent or keeled, apices acute. <b>Florets</b> 12–35; corollas yellow, 2–11 mm (barely equaling to much surpassing phyllaries). <b>Cypselae</b> fusiform, 1.4–1.7 mm, broadest at or ± beyond middles (apical areas ± equal to basal areoles), 15-ribbed; pappi 0. <b>2n</b> = 8.\n",
      "\n",
      "[[ ## prompt ## ]]\n",
      "\n",
      "    What is the plant size,\n",
      "    leaf shape, leaf length, leaf width, leaf thickness,\n",
      "    seed length, seed width,\n",
      "    fruit type, fruit length, fruit width,\n",
      "    deciduousness, phenology, habitat, elevation?\n",
      "    If it is not mentioned return an empty value.\n",
      "\n",
      "Respond with the corresponding output fields, starting with the field `[[ ## traits ## ]]` (must be formatted as a valid Python Traits), and then ending with the marker for `[[ ## completed ## ]]`.\n",
      "\n",
      "\n",
      "\u001b[31mResponse:\u001b[0m\n",
      "\n",
      "\u001b[32m[[ ## traits ## ]]\n",
      "{\"plant_height\": \"4–42 cm\", \"leaf_shape\": \"oblanceolate\", \"leaf_length\": \"2–15 cm\", \"leaf_width\": \"\", \"leaf_thickness\": \"\", \"fruit_type\": \"Cypselae\", \"fruit_length\": \"1.4–1.7 mm\", \"fruit_width\": \"\", \"seed_length\": \"\", \"seed_width\": \"\", \"deciduousness\": \"\", \"phenology\": \"\", \"habitat\": \"\", \"elevation\": \"\"}\n",
      "\n",
      "[[ ## completed ## ]]\u001b[0m\n",
      "\n",
      "\n",
      "\n",
      "\n",
      "\n"
     ]
    }
   ],
   "source": [
    "dspy.inspect_history(n=1)"
   ]
  },
  {
   "cell_type": "code",
   "execution_count": 17,
   "id": "945422fb-cbed-4510-a008-2ebb9203d038",
   "metadata": {},
   "outputs": [],
   "source": [
    "optimized_trait_extractor.save(\"../data/fna/optimized_trait_extractor_2025-03-18a.pkl\")"
   ]
  },
  {
   "cell_type": "code",
   "execution_count": 18,
   "id": "dca12e12-9095-4db7-9cef-e43c10de39ce",
   "metadata": {},
   "outputs": [],
   "source": [
    "import pandas as pd"
   ]
  },
  {
   "cell_type": "code",
   "execution_count": 19,
   "id": "2bd7da8f-11b3-4b04-9cde-1962900c665e",
   "metadata": {},
   "outputs": [],
   "source": [
    "obj = pd.read_pickle(\"../data/fna/optimized_trait_extractor_2025-03-18a.pkl\")"
   ]
  },
  {
   "cell_type": "code",
   "execution_count": 20,
   "id": "45e108c9-44ad-498f-9369-3bf3a81be5c1",
   "metadata": {
    "scrolled": true
   },
   "outputs": [
    {
     "data": {
      "text/plain": [
       "{'lm': None,\n",
       " 'traces': [],\n",
       " 'train': [],\n",
       " 'demos': [Example({'augmented': True, 'text': '<b>Annuals </b>or perennials, 10–70(–100) cm, herbaceous to suffrutescent. <b>Leaf</b> blades oblong to oblanceolate, mid-cauline (2.5–)4–13 mm wide. <b>Heads</b> essentially sessile, often surpassed by distal leaves that continue to very base of heads. <b>Involucres</b> (6–)10–15 × 12–30 mm. <b>Phyllaries</b> in 3–4 series, loose, subequal, apices erect to spreading, 1.3–1.7 mm wide, herbaceous. <b>Ray</b> florets 17–38; corollas 8.5–19 mm. <b>Disc</b> florets: corolla tubes longer than limbs. <b>2n</b> = 12.\\nPhenology: Flowering (Jul–)Sep–Dec (sporadically Feb–Jun).\\nHabitat: Sandy sites, along waterways, canal banks, dunes, beaches, salt flats\\nElevation: 0–10 m', 'prompt': '\\n    What is the plant size,\\n    leaf shape, leaf length, leaf width, leaf thickness,\\n    seed length, seed width,\\n    fruit type, fruit length, fruit width,\\n    deciduousness, phenology, habitat, elevation?\\n    If it is not mentioned return an empty value.\\n    ', 'traits': Traits(plant_height='10–70(–100) cm', leaf_shape='oblong to oblanceolate', leaf_length='', leaf_width='4–13 mm', leaf_thickness='', fruit_type='', fruit_length='', fruit_width='', seed_length='', seed_width='', deciduousness='', phenology='Flowering (Jul–)Sep–Dec (sporadically Feb–Jun)', habitat='Sandy sites, along waterways, canal banks, dunes, beaches, salt flats', elevation='0–10 m')}) (input_keys=None),\n",
       "  Example({'augmented': True, 'text': '<b>Plants </b>30–180 cm. <b>Corms</b> globose. <b>Stems</b> hispidulous-puberulent. <b>Leaves</b>: basal (usually withering before flowering) and proximal cauline 1-nerved, broadly oblanceolate to elliptic- or lanceolate-spatulate to linear-lanceolate, 80–250 × (4–)6–25 mm, gradually or abruptly reduced distally, essentially glabrous or sparsely or densely puberulent-hispidulous, ± gland-dotted (distal especially). <b>Heads</b> in loose, spiciform arrays. <b>Peduncles</b> 0 or (ascending to spreading or deflexed) 1–5(–10) mm. <b>Involucres</b> campanulate-hemispheric to turbinate-campanulate, (9–)10–16 × 10–20 mm. <b>Phyllaries</b> usually in 4–5 series, (outer or outer and middle usually reflexed) broadly obovate to oblong-spatulate, unequal, essentially glabrous, margins with relatively broad, whitish-hyaline, irregular to erose or lacerate borders (especially on the distal 1/3), strongly bullate (with a sharp, low, rounded buttress delimiting the hyaline border), apices usually rounded to subtruncate. <b>Florets</b> (14–)18–24(–30); corolla tubes pilose inside. <b>Cypselae</b> (3.5–)4.5–6 mm; pappi: lengths ± equaling corollas, bristles barbellate. <b>2n</b> = 20.\\nPhenology: Flowering Aug–Sep(–Oct).\\nHabitat: Prairies, barrens, old fields, sand dunes, ridges, fields, stream bottoms, sandstone outcrops, limestone ridges, hills, oak, oak-juniper, and oak-pine woodlands, jack pine, sand, silt loam\\nElevation: 50–500(–900) m', 'prompt': '\\n    What is the plant size,\\n    leaf shape, leaf length, leaf width, leaf thickness,\\n    seed length, seed width,\\n    fruit type, fruit length, fruit width,\\n    deciduousness, phenology, habitat, elevation?\\n    If it is not mentioned return an empty value.\\n    ', 'traits': Traits(plant_height='30–180 cm', leaf_shape='broadly oblanceolate to elliptic- or lanceolate-spatulate to linear-lanceolate', leaf_length='80–250 mm', leaf_width='6–25 mm', leaf_thickness='', fruit_type='Cypselae', fruit_length='', fruit_width='', seed_length='', seed_width='', deciduousness='', phenology='Flowering Aug–Sep(–Oct)', habitat='Prairies, barrens, old fields, sand dunes, ridges, fields, stream bottoms, sandstone outcrops, limestone ridges, hills, oak, oak-juniper, and oak-pine woodlands, jack pine, sand, silt loam', elevation='50–500(–900) m')}) (input_keys=None),\n",
       "  Example({'augmented': True, 'text': '<b>Annuals,</b> (10–)30–70(–150+) cm. <b>Leaves</b>: proximal blades usually 1(–3)-pinnate, terminal lobes lance-ovate to oblanceolate, 10–60 × 5–25 mm; cauline blades usually 1–2(–3)-pinnate, rarely simple, simple blades or terminal lobes lance-linear to linear or filiform, 10–45 × 0.5–2(–5+) mm. <b>Peduncles</b> 1–5(–15+) cm. <b>Calyculi</b> of deltate-lanceolate bractlets 1–3+ mm. <b>Phyllaries</b> ± lance-oblong to lance-ovate, 4–7(–9) mm. <b>Ray</b> laminae usually yellow with red-brown blotch, sometimes red-brown in proximal 1/3–9/10 and distally yellow, rarely yellow throughout, 12–18+ mm. <b>Disc</b> corollas 2.5–3+ mm. <b>Cypselae</b> 1.5–3(–4+) mm, wings 0 or 0.1–0.7+ mm wide; pappi 0, or of 1–2 cusps or subulate scales 0.1–1+ mm. <b>2n</b> = 24 (+ 0–2 Bs).\\nPhenology: Flowering year round, mostly Jun–Aug.\\nHabitat: Moist, sandy or clay soils, sometimes alkaline flats, prairies, ditches, disturbed places\\nElevation: (0–)20–1500(–2000) m', 'prompt': '\\n    What is the plant size,\\n    leaf shape, leaf length, leaf width, leaf thickness,\\n    seed length, seed width,\\n    fruit type, fruit length, fruit width,\\n    deciduousness, phenology, habitat, elevation?\\n    If it is not mentioned return an empty value.\\n    ', 'traits': Traits(plant_height='30–70(–150+) cm', leaf_shape='lance-ovate to oblanceolate', leaf_length='10–60 mm', leaf_width='5–25 mm', leaf_thickness='', fruit_type='Cypselae', fruit_length='1.5–3(–4+) mm', fruit_width='', seed_length='', seed_width='', deciduousness='', phenology='Flowering year round, mostly Jun–Aug', habitat='Moist, sandy or clay soils, sometimes alkaline flats, prairies, ditches, disturbed places', elevation='(0–)20–1500(–2000) m')}) (input_keys=None),\n",
       "  Example({'augmented': True, 'text': '<b>Plants </b>40–150 cm. <b>Corms</b> globose. <b>Stems</b> glabrous or sparsely pilose. <b>Leaves</b>: basal and proximal cauline (arising from separated nodes) 1-nerved, linear to linear-lanceolate, 100–300 × 1–2(–2.5) mm, gradually or abruptly reduced distally, essentially glabrous, gland-dotted (proximal margins sometimes ciliate). <b>Heads</b> in compact, racemiform arrays. <b>Peduncles</b> (ascending) 1–7 mm. <b>Involucres</b> turbinate-campanulate, 5–7 × 4–5 mm. <b>Phyllaries</b> in 2–3(–4) series, lanceolate to oblong or elliptic-oblong, unequal, essentially glabrous, margins with (pinkish purple) hyaline borders, apices usually rounded-retuse and minutely involute-cuspidate to apiculate. <b>Florets</b> 4–6; corolla tubes glabrous inside. <b>Cypselae</b> 2.5–4 mm; pappi: lengths ± equaling corollas, bristles barbellate.\\nPhenology: Flowering Aug–Nov.\\nHabitat: Longleaf pine savannas, longleaf pine-scrub oak, turkey oak-bluejack oak, slash pine-sand pine-scrub, sand pine-scrub, sand ridges, hills, and flats, roadsides\\nElevation: 10–100 m', 'prompt': '\\n    What is the plant size,\\n    leaf shape, leaf length, leaf width, leaf thickness,\\n    seed length, seed width,\\n    fruit type, fruit length, fruit width,\\n    deciduousness, phenology, habitat, elevation?\\n    If it is not mentioned return an empty value.\\n    ', 'traits': Traits(plant_height='40–150 cm', leaf_shape='linear to linear-lanceolate', leaf_length='100–300 mm', leaf_width='1–2(–2.5) mm', leaf_thickness='', fruit_type='Cypselae', fruit_length='', fruit_width='', seed_length='', seed_width='', deciduousness='', phenology='Flowering Aug–Nov', habitat='Longleaf pine savannas, longleaf pine-scrub oak, turkey oak-bluejack oak, slash pine-sand pine-scrub, sand pine-scrub, sand ridges, hills, and flats, roadside', elevation='10–100 m')}) (input_keys=None),\n",
       "  Example({'text': '<b>Annuals,</b> 10–50 cm; taprooted. <b>Stems</b> erect to decumbent or procumbent, loosely arachnose-tomentose. <b>Leaves</b> basal and cauline, proximal usually present at flowering, blades spatulate to oblanceolate-obovate, 2–7 cm × 4–16 mm (becoming spatulate to oblanceolate bracts among proximal heads, surpassing glomerules, bases narrowed to petiolar regions, margins sinuate, apices often apiculate), faces concolor or weakly bicolor, loosely tomentose. <b>Heads</b> in glomerules in continuous or interrupted, spiciform arrays 1–12 cm × 10–15 mm (pressed). <b>Involucres</b> cupulate-campanulate, 3–3.5 mm, bases sparsely arachnose. <b>Phyllaries</b> in 3–4 series, outer ovate-triangular, lengths 1/2–2/3 inner, apices attenuate-apiculate, inner oblong, laminae often purple-tinged (at stereome), apices (transparent, sometimes golden) acute to obtuse. <b>Florets</b>: bisexual 3–4; all (or at least bisexual) corollas usually purplish distally. <b>Cypselae</b> (tan) 0.4–0.5 mm. <b>2n</b> = 28.\\nPhenology: Flowering Mar–Jun(–Aug).\\nHabitat: Disturbed sites, exposed, moist soils, commonly partially shaded\\nElevation: 0–500 m', 'prompt': '\\n    What is the plant size,\\n    leaf shape, leaf length, leaf width, leaf thickness,\\n    seed length, seed width,\\n    fruit type, fruit length, fruit width,\\n    deciduousness, phenology, habitat, elevation?\\n    If it is not mentioned return an empty value.\\n    ', 'traits': Traits(plant_height='10–50 cm', leaf_shape='spatulate to oblanceolate-obovate', leaf_length='2–7 cm', leaf_width='4–16 mm', leaf_thickness='', fruit_type='Cypselae', fruit_length='0.4–0.5 mm', fruit_width='', seed_length='', seed_width='', deciduousness='', phenology='Flowering Mar–Jun(–Aug)', habitat='Disturbed sites, exposed, moist soils, commonly partially shaded', elevation='0–500 m')}) (input_keys=None),\n",
       "  Example({'text': '<b>Stems </b>obscurely 6-angled, sometimes winged on angles, often densely glandular, glabrous or puberulent; internodes 3.5–13 cm. <b>Petioles</b> 10–40 mm, glabrous, glandular. <b>Leaf</b> blades deltate-ovate, 1.5–6 × 1–5 cm, (subcoriaceous to somewhat fleshy) bases cordate to subcordate, margins usually hastately dentate to ± lobed (lobes divergent), apices acute to acuminate, faces glabrous (and gland-dotted). <b>Arrays</b> of heads corymbiform, 2–4 × 2–6 cm. <b>Heads</b> 4–6 mm. <b>Phyllaries</b> lanceolate to narrowly ovate, ca. 3.5 mm, apices acuminate (abaxial faces puberulent). <b>Corollas</b> white, ca. 3 mm, gland-dotted, lobes deltate. <b>Cypselae</b> brown, 1.5–2 mm, densely gland-dotted; pappi of ca. 40 white, barbellate bristles ca. 3 mm.\\nPhenology: Flowering year round.\\nHabitat: Woodlands, savannas, salt marshes, swamps, usually in oölite or coral soils', 'prompt': '\\n    What is the plant size,\\n    leaf shape, leaf length, leaf width, leaf thickness,\\n    seed length, seed width,\\n    fruit type, fruit length, fruit width,\\n    deciduousness, phenology, habitat, elevation?\\n    If it is not mentioned return an empty value.\\n    ', 'traits': Traits(plant_height='', leaf_shape='deltate-ovate', leaf_length='1.5–6 cm', leaf_width='1–5 cm', leaf_thickness='', fruit_type='Cypselae', fruit_length='1.5–2 mm', fruit_width='', seed_length='', seed_width='', deciduousness='', phenology='Flowering year round', habitat='Woodlands, savannas, salt marshes, swamps, usually in oölite or coral soils', elevation='')}) (input_keys=None),\n",
       "  Example({'text': '<b>Plants </b>40–120 cm; caudices branching, woody. <b>Stems</b> usually 1, erect, glabrous, sparsely hairy in arrays. <b>Leaves</b>: basal when present similar to proximal cauline; proximal cauline often withering by flowering, tapering (sometimes rather abruptly) to short, winged petioles, blades ovate-lanceolate, 60–100(–150) × 30–40(–50) mm, thin, margins coarsely serrate, apices acute, abaxial faces hirsute on main nerves, adaxial sparsely hirsute to somewhat scabrous; mid to distal cauline subsessile to sessile, blades lanceolate, 20–50 × 5–20 mm, gradually reduced distally, margins entire. <b>Heads</b> 20–150, secund, in open paniculiform arrays, proximal branches elongate and widely divergent, sometimes pyramidal-secund with proximal branches short and recurved-secund. <b>Peduncles</b> 1.7–2 mm, sparsely to moderately short hispido-strigose, bracteoles 2–7, ovate, grading into phyllaries. <b>Involucres</b> 3–4 mm. <b>Phyllaries</b> (16–18) in 2–3 series, unequal; outer ovate, acute, inner linear-lanceolate, obtuse to acute. <b>Ray</b> florets 3–6; laminae 1–2 × 0.5–1 mm. <b>Disc</b> florets 4–7; corollas 2.7–3 mm, lobes 0.5–1.1 mm. <b>Cypselae</b> 1–1.6 mm, finely hairy; pappi ± 2.5 mm.', 'prompt': '\\n    What is the plant size,\\n    leaf shape, leaf length, leaf width, leaf thickness,\\n    seed length, seed width,\\n    fruit type, fruit length, fruit width,\\n    deciduousness, phenology, habitat, elevation?\\n    If it is not mentioned return an empty value.\\n    ', 'traits': Traits(plant_height='40–120 cm', leaf_shape='tapering (sometimes rather abruptly) to short, winged petioles, blades ovate-lanceolate', leaf_length='60–100(–150) mm', leaf_width='30–40(–50) mm', leaf_thickness='', fruit_type='Cypselae', fruit_length='1–1.6 mm', fruit_width='', seed_length='', seed_width='', deciduousness='', phenology='', habitat='', elevation='')}) (input_keys=None),\n",
       "  Example({'text': '<b>Perennials,</b> 30–120 cm, cespitose; with herbaceous or thick, woody, sometimes cormoid caudices. <b>Stems</b> 5+, erect to scandent-sprawling (brown, branched from middle), moderately to densely finely hairy. <b>Leaves</b> (yellowish green) thick, firm, margins entire; basal early deciduous, sessile or subpetiolate, blades (3-nerved) oblanceolate to obovate, 10–43 × 7–15 mm, bases cuneate, margins scabrous, apices acute to obtuse, faces sparsely finely scabrous; proximal cauline sessile, blades narrowly obovate to oblanceolate, 20–35 × 5–13 mm, bases auriculate-clasping, margins finely scabrous, apices acute to obtuse, faces finely scabrous, shiny; distal sessile, blades lanceolate to linear, 3–10 × 1–4 mm, gradually reduced to bracts distally, bases subclasping and adnate to stem for 1/2+ length, apices narrowly acute, white-spinulose, faces finely scabrous, viscid, minutely stipitate-glandular. <b>Heads</b> in ± open, paniculiform arrays, branches initially patent then ascending or divaricate. <b>Peduncles</b> densely short-strigose, glandular, bracts linear, adnate, densely short-strigose. <b>Involucres</b> campanulate, 4–6.5 mm. <b>Phyllaries</b> in 4–5 series, oblong to oblanceolate, strongly unequal, bases (tan) ± indurate, margins hyaline, finely scabrous, green zones lenticular, in distal 1/4–2/5, apices obtuse, mucronate to finely subspinulose, faces scabrellous-puberulent, stipitate-glandular. <b>Ray</b> florets 10–20; corollas light to dark lavender, laminae 5–8 × 0.5–1.5 mm. <b>Disc</b> florets 12–25; corollas yellow, 3.7–7 mm, throats narrowly funnelform, lobes triangular, 0.4–0.8 mm. <b>Cypselae</b> tan to brown, obovoid, not compressed, 2–2.5 mm, 6–10-nerved (faint), faces sparsely strigose; pappi tan, 3.75–8 mm. <b>2n</b> = 20.\\nPhenology: Flowering Oct–Dec.\\nHabitat: Sandy, clayey soils, sandhills, oak-pine scrub, open pine flatwoods, roadsides\\nElevation: 0–100+ m', 'prompt': '\\n    What is the plant size,\\n    leaf shape, leaf length, leaf width, leaf thickness,\\n    seed length, seed width,\\n    fruit type, fruit length, fruit width,\\n    deciduousness, phenology, habitat, elevation?\\n    If it is not mentioned return an empty value.\\n    ', 'traits': Traits(plant_height='30–120 cm', leaf_shape='oblanceolate to obovate', leaf_length='10–43 mm', leaf_width='7–15 mm', leaf_thickness='', fruit_type='Cypselae', fruit_length='2–2.5 mm', fruit_width='', seed_length='', seed_width='', deciduousness='', phenology='Flowering Oct–Dec', habitat='Sandy, clayey soils, sandhills, oak-pine scrub, open pine flatwoods, roadsides', elevation='0–100+ m')}) (input_keys=None),\n",
       "  Example({'text': '<b>Plants </b>30–120(–200) cm. <b>Stems</b> lax, sprawling or scandent. <b>Leaves</b>: petioles (0.5–)1–3.5(–4) cm; blades triangular-deltate, (1–)2–5(–7) × (1–)1.5–3.5(–5) cm, bases usually truncate to cordate, sometimes obtuse, margins coarsely serrate to crenate-serrate, apices acute to acuminate. <b>Involucres</b> 4–5 mm. <b>Phyllaries</b>: outer lanceolate, inner lanceolate to narrowly oblong-lanceolate, glabrous or sparsely puberulent, apices usually acute to attenuate, sometimes rounded. <b>Corollas</b> usually pink-purple or whitish with pink to lilac lobes, rarely all white. <b>Cypselae</b> 1.8–2.8 mm, usually sparsely strigoso-hirtellous, sometimes glabrate. <b>2n</b> = 20.\\nPhenology: Flowering Oct–Dec.\\nHabitat: Woodlands, thickets, moist soil, roads, ditches, stream banks, bottomlands, swamps, depressions, cedar glades\\nElevation: 10–200 m', 'prompt': '\\n    What is the plant size,\\n    leaf shape, leaf length, leaf width, leaf thickness,\\n    seed length, seed width,\\n    fruit type, fruit length, fruit width,\\n    deciduousness, phenology, habitat, elevation?\\n    If it is not mentioned return an empty value.\\n    ', 'traits': Traits(plant_height='30–120(–200) cm', leaf_shape='triangular-deltate', leaf_length='(1–)2–5(–7) cm', leaf_width='(1–)1.5–3.5(–5) cm', leaf_thickness='', fruit_type='Cypselae', fruit_length='1.8–2.8 mm', fruit_width='', seed_length='', seed_width='', deciduousness='', phenology='Flowering Oct–Dec', habitat='Woodlands, thickets, moist soil, roads, ditches, stream banks, bottomlands, swamps, depressions, cedar glades', elevation='10–200 m')}) (input_keys=None)],\n",
       " 'signature': {'instructions': 'You are a botanist working for a conservation agency. Your task is critical: you must accurately extract key trait information from species descriptions to build a database that will inform conservation efforts. Incorrect data could lead to misidentification of endangered species or ineffective conservation strategies. You will be given species descriptions and a specific set of traits to extract. Respond *only* with the requested trait values, formatted as a `Traits` object. If a trait is not mentioned in the text, its value should be an empty string. Pay close attention to units and ensure they are included in the output.',\n",
       "  'fields': [{'prefix': 'Text:',\n",
       "    'description': 'the species description text'},\n",
       "   {'prefix': 'Prompt:', 'description': 'extract these traits'},\n",
       "   {'prefix': 'Traits:', 'description': 'the extracted traits'}]},\n",
       " 'metadata': {'dependency_versions': {'python': '3.12',\n",
       "   'dspy': '2.6.8',\n",
       "   'cloudpickle': '3.1'}}}"
      ]
     },
     "execution_count": 20,
     "metadata": {},
     "output_type": "execute_result"
    }
   ],
   "source": [
    "obj"
   ]
  },
  {
   "cell_type": "code",
   "execution_count": 21,
   "id": "911e8844-c0cc-4aca-9d64-8f180237b0d3",
   "metadata": {},
   "outputs": [
    {
     "ename": "RuntimeError",
     "evalue": "Failed to save state to ../data/fna/optimized_trait_extractor_2025-03-18a.json with error: Traits(plant_height='10–70(–100) cm', leaf_shape='oblong to oblanceolate', leaf_length='', leaf_width='4–13 mm', leaf_thickness='', fruit_type='', fruit_length='', fruit_width='', seed_length='', seed_width='', deciduousness='', phenology='Flowering (Jul–)Sep–Dec (sporadically Feb–Jun)', habitat='Sandy sites, along waterways, canal banks, dunes, beaches, salt flats', elevation='0–10 m') is not JSON serializable. Your DSPy program may contain non json-serializable objects, please consider saving the state in .pkl by using `path` ending with `.pkl`, or saving the whole program by setting `save_program=True`.",
     "output_type": "error",
     "traceback": [
      "\u001b[31m---------------------------------------------------------------------------\u001b[39m",
      "\u001b[31mTypeError\u001b[39m                                 Traceback (most recent call last)",
      "\u001b[36mFile \u001b[39m\u001b[32m/srv/work/rafe/language_models/ConservationConcernFlorida/.venv/lib/python3.12/site-packages/dspy/primitives/module.py:218\u001b[39m, in \u001b[36mBaseModule.save\u001b[39m\u001b[34m(self, path, save_program)\u001b[39m\n\u001b[32m    217\u001b[39m     \u001b[38;5;28;01mwith\u001b[39;00m \u001b[38;5;28mopen\u001b[39m(path, \u001b[33m\"\u001b[39m\u001b[33mw\u001b[39m\u001b[33m\"\u001b[39m) \u001b[38;5;28;01mas\u001b[39;00m f:\n\u001b[32m--> \u001b[39m\u001b[32m218\u001b[39m         f.write(\u001b[43mujson\u001b[49m\u001b[43m.\u001b[49m\u001b[43mdumps\u001b[49m\u001b[43m(\u001b[49m\u001b[43mstate\u001b[49m\u001b[43m,\u001b[49m\u001b[43m \u001b[49m\u001b[43mindent\u001b[49m\u001b[43m=\u001b[49m\u001b[32;43m2\u001b[39;49m\u001b[43m)\u001b[49m)\n\u001b[32m    219\u001b[39m \u001b[38;5;28;01mexcept\u001b[39;00m \u001b[38;5;167;01mException\u001b[39;00m \u001b[38;5;28;01mas\u001b[39;00m e:\n",
      "\u001b[31mTypeError\u001b[39m: Traits(plant_height='10–70(–100) cm', leaf_shape='oblong to oblanceolate', leaf_length='', leaf_width='4–13 mm', leaf_thickness='', fruit_type='', fruit_length='', fruit_width='', seed_length='', seed_width='', deciduousness='', phenology='Flowering (Jul–)Sep–Dec (sporadically Feb–Jun)', habitat='Sandy sites, along waterways, canal banks, dunes, beaches, salt flats', elevation='0–10 m') is not JSON serializable",
      "\nDuring handling of the above exception, another exception occurred:\n",
      "\u001b[31mRuntimeError\u001b[39m                              Traceback (most recent call last)",
      "\u001b[36mCell\u001b[39m\u001b[36m \u001b[39m\u001b[32mIn[21]\u001b[39m\u001b[32m, line 1\u001b[39m\n\u001b[32m----> \u001b[39m\u001b[32m1\u001b[39m \u001b[43moptimized_trait_extractor\u001b[49m\u001b[43m.\u001b[49m\u001b[43msave\u001b[49m\u001b[43m(\u001b[49m\u001b[33;43m\"\u001b[39;49m\u001b[33;43m../data/fna/optimized_trait_extractor_2025-03-18a.json\u001b[39;49m\u001b[33;43m\"\u001b[39;49m\u001b[43m)\u001b[49m\n",
      "\u001b[36mFile \u001b[39m\u001b[32m/srv/work/rafe/language_models/ConservationConcernFlorida/.venv/lib/python3.12/site-packages/dspy/primitives/module.py:220\u001b[39m, in \u001b[36mBaseModule.save\u001b[39m\u001b[34m(self, path, save_program)\u001b[39m\n\u001b[32m    218\u001b[39m             f.write(ujson.dumps(state, indent=\u001b[32m2\u001b[39m))\n\u001b[32m    219\u001b[39m     \u001b[38;5;28;01mexcept\u001b[39;00m \u001b[38;5;167;01mException\u001b[39;00m \u001b[38;5;28;01mas\u001b[39;00m e:\n\u001b[32m--> \u001b[39m\u001b[32m220\u001b[39m         \u001b[38;5;28;01mraise\u001b[39;00m \u001b[38;5;167;01mRuntimeError\u001b[39;00m(\n\u001b[32m    221\u001b[39m             \u001b[33mf\u001b[39m\u001b[33m\"\u001b[39m\u001b[33mFailed to save state to \u001b[39m\u001b[38;5;132;01m{\u001b[39;00mpath\u001b[38;5;132;01m}\u001b[39;00m\u001b[33m with error: \u001b[39m\u001b[38;5;132;01m{\u001b[39;00me\u001b[38;5;132;01m}\u001b[39;00m\u001b[33m. Your DSPy program may contain non \u001b[39m\u001b[33m\"\u001b[39m\n\u001b[32m    222\u001b[39m             \u001b[33m\"\u001b[39m\u001b[33mjson-serializable objects, please consider saving the state in .pkl by using `path` ending \u001b[39m\u001b[33m\"\u001b[39m\n\u001b[32m    223\u001b[39m             \u001b[33m\"\u001b[39m\u001b[33mwith `.pkl`, or saving the whole program by setting `save_program=True`.\u001b[39m\u001b[33m\"\u001b[39m\n\u001b[32m    224\u001b[39m         )\n\u001b[32m    225\u001b[39m \u001b[38;5;28;01melif\u001b[39;00m path.suffix == \u001b[33m\"\u001b[39m\u001b[33m.pkl\u001b[39m\u001b[33m\"\u001b[39m:\n\u001b[32m    226\u001b[39m     \u001b[38;5;28;01mwith\u001b[39;00m \u001b[38;5;28mopen\u001b[39m(path, \u001b[33m\"\u001b[39m\u001b[33mwb\u001b[39m\u001b[33m\"\u001b[39m) \u001b[38;5;28;01mas\u001b[39;00m f:\n",
      "\u001b[31mRuntimeError\u001b[39m: Failed to save state to ../data/fna/optimized_trait_extractor_2025-03-18a.json with error: Traits(plant_height='10–70(–100) cm', leaf_shape='oblong to oblanceolate', leaf_length='', leaf_width='4–13 mm', leaf_thickness='', fruit_type='', fruit_length='', fruit_width='', seed_length='', seed_width='', deciduousness='', phenology='Flowering (Jul–)Sep–Dec (sporadically Feb–Jun)', habitat='Sandy sites, along waterways, canal banks, dunes, beaches, salt flats', elevation='0–10 m') is not JSON serializable. Your DSPy program may contain non json-serializable objects, please consider saving the state in .pkl by using `path` ending with `.pkl`, or saving the whole program by setting `save_program=True`."
     ]
    }
   ],
   "source": [
    "optimized_trait_extractor.save(\"../data/fna/optimized_trait_extractor_2025-03-18a.json\")"
   ]
  },
  {
   "cell_type": "code",
   "execution_count": null,
   "id": "df66a011-e415-416b-a6e9-520165d56281",
   "metadata": {},
   "outputs": [],
   "source": []
  }
 ],
 "metadata": {
  "kernelspec": {
   "display_name": "Python 3 (ipykernel)",
   "language": "python",
   "name": "python3"
  },
  "language_info": {
   "codemirror_mode": {
    "name": "ipython",
    "version": 3
   },
   "file_extension": ".py",
   "mimetype": "text/x-python",
   "name": "python",
   "nbconvert_exporter": "python",
   "pygments_lexer": "ipython3",
   "version": "3.12.9"
  }
 },
 "nbformat": 4,
 "nbformat_minor": 5
}

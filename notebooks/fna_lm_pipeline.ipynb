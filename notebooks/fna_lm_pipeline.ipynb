{
 "cells": [
  {
   "cell_type": "code",
   "execution_count": 1,
   "id": "0bc77211-d259-4d53-aa74-1b2b7f641010",
   "metadata": {},
   "outputs": [],
   "source": [
    "from argparse import Namespace\n",
    "from dataclasses import dataclass\n",
    "from pathlib import Path\n",
    "\n",
    "import dspy\n",
    "from bs4 import BeautifulSoup\n",
    "from IPython.display import HTML"
   ]
  },
  {
   "cell_type": "code",
   "execution_count": 2,
   "id": "c395e5d2-9077-4082-acc5-0ce6a6f6464a",
   "metadata": {},
   "outputs": [],
   "source": [
    "args = Namespace()\n",
    "args.html_dir = Path(\"..\") / \"data\" / \"fna\" / \"Asteraceae\"\n",
    "args.model = \"ollama_chat/qwq\"\n",
    "args.api_base = \"http://localhost:11434\"\n",
    "args.api_key = \"\"\n",
    "args.limit = 3"
   ]
  },
  {
   "cell_type": "code",
   "execution_count": 3,
   "id": "87c937d3-e3c5-4bb0-a4b1-dd09bded700a",
   "metadata": {},
   "outputs": [],
   "source": [
    "@dataclass\n",
    "class Traits:\n",
    "    plant_size: str = \"\"\n",
    "    leaf_shape: str = \"\"\n",
    "    leaf_length: str = \"\"\n",
    "    leaf_width: str = \"\"\n",
    "    leaf_thickness: str = \"\"\n",
    "    fruit_type: str = \"\"\n",
    "    fruit_length: str = \"\"\n",
    "    fruit_width: str = \"\"\n",
    "    seed_length: str = \"\"\n",
    "    seed_width: str = \"\"\n",
    "    deciduousness: str = \"\""
   ]
  },
  {
   "cell_type": "code",
   "execution_count": 4,
   "id": "d03695de-1904-4c72-9eab-6c87a47b10a9",
   "metadata": {},
   "outputs": [],
   "source": [
    "class ExtractInfo(dspy.Signature):\n",
    "    \"\"\"Analyze species descriptions and extract trait information.\"\"\"\n",
    "\n",
    "    text: str = dspy.InputField()\n",
    "    prompt: str = dspy.InputField()\n",
    "    traits: Traits = dspy.OutputField(desc=\"Extracted traits\")"
   ]
  },
  {
   "cell_type": "code",
   "execution_count": 5,
   "id": "4bfeb3d6-6435-4b90-b380-5a6a824ad9eb",
   "metadata": {},
   "outputs": [],
   "source": [
    "PAGES = sorted(args.html_dir.glob(\"*.html\"))"
   ]
  },
  {
   "cell_type": "code",
   "execution_count": 6,
   "id": "9e0c1424-32a8-4311-bb02-b63ad0b423d0",
   "metadata": {},
   "outputs": [],
   "source": [
    "LM = dspy.LM(args.model, api_base=args.api_base, api_key=args.api_key)\n",
    "dspy.configure(lm=LM)"
   ]
  },
  {
   "cell_type": "code",
   "execution_count": 7,
   "id": "e0b958fd-21ce-4bcf-a6e8-17f328163424",
   "metadata": {},
   "outputs": [],
   "source": [
    "MODULE = dspy.Predict(ExtractInfo)"
   ]
  },
  {
   "cell_type": "code",
   "execution_count": 8,
   "id": "3e5ec46c-f16d-4876-aa1a-094e855e19aa",
   "metadata": {},
   "outputs": [],
   "source": [
    "prompt = \"\"\"\n",
    "    What is the plant size,\n",
    "    leaf shape, leaf length, leaf width, leaf thickness,\n",
    "    fruit type, fruit length, fruit width,\n",
    "    seed length, seed width,\n",
    "    deciduousness?\n",
    "    \"\"\""
   ]
  },
  {
   "cell_type": "code",
   "execution_count": 10,
   "id": "c29f8905-67c3-4a86-bf38-8ca6590e1b85",
   "metadata": {},
   "outputs": [
    {
     "name": "stdout",
     "output_type": "stream",
     "text": [
      "\n",
      "================================================================================\n",
      "Acanthospermum australe\n",
      "\n"
     ]
    },
    {
     "data": {
      "text/html": [
       "<span class=\"statement\" data-properties=\"\" id=\"st-undefined\"><b>Plants </b>10–60(–120+) cm. <b>Stems</b> ± procumbent. <b>Leaf</b> blades deltate to ± rhombic or ovate, 13–37 × 7–32 mm, faces sparsely scabrellous to glabrate or glabrescent, gland-dotted. <b>Fruits</b> plumply ellipsoid to fusiform, weakly compressed, 7–9+ mm, 5–7-ribbed, lacking terminal spines, prickles ± uncinate, mostly along ribs. <b>2n</b> = 22.</span>"
      ],
      "text/plain": [
       "<IPython.core.display.HTML object>"
      ]
     },
     "metadata": {},
     "output_type": "display_data"
    },
    {
     "name": "stdout",
     "output_type": "stream",
     "text": [
      "\n"
     ]
    },
    {
     "data": {
      "text/plain": [
       "Traits(plant_size='10–60(–120+) cm', leaf_shape='deltate to ± rhombic or ovate', leaf_length='13–37 mm', leaf_width='7–32 mm', leaf_thickness='', seed_length='', seed_width='', fruit_type='plumply ellipsoid to fusiform, weakly compressed, 5–7-ribbed, lacking terminal spines, prickles ± uncinate, mostly along ribs', fruit_length='7–9+ mm', fruit_width='', deciduousness='')"
      ]
     },
     "metadata": {},
     "output_type": "display_data"
    },
    {
     "name": "stdout",
     "output_type": "stream",
     "text": [
      "\n",
      "\n",
      "================================================================================\n",
      "Acanthospermum hispidum\n",
      "\n"
     ]
    },
    {
     "data": {
      "text/html": [
       "<span class=\"statement\" data-properties=\"\" id=\"st-undefined\"><b>Plants </b>10–60+ cm. <b>Stems</b> erect. <b>Leaf</b> blades rhombic-ovate to obovate, (20–)40–120(–150+) mm, faces finely pilosulous, gland-dotted. <b>Fruits</b> ± compressed, ± cuneate to obovate, 4–6+ mm, not notably ribbed, terminal spines 2, divergent, 3–4 mm, often 1 ± uncinate, prickles seldom notably uncinate, ± scattered. <b>2n</b> = 22.</span>"
      ],
      "text/plain": [
       "<IPython.core.display.HTML object>"
      ]
     },
     "metadata": {},
     "output_type": "display_data"
    },
    {
     "name": "stdout",
     "output_type": "stream",
     "text": [
      "\n"
     ]
    },
    {
     "data": {
      "text/plain": [
       "Traits(plant_size='10–60+ cm', leaf_shape='rhombic-ovate to obovate', leaf_length='20–150(–150+) mm', leaf_width='', leaf_thickness='', seed_length='', seed_width='', fruit_type='compressed, cuneate to obovate fruits', fruit_length='4–6+ mm', fruit_width='', deciduousness='')"
      ]
     },
     "metadata": {},
     "output_type": "display_data"
    },
    {
     "name": "stdout",
     "output_type": "stream",
     "text": [
      "\n",
      "\n",
      "================================================================================\n",
      "Acanthospermum humile\n",
      "\n"
     ]
    },
    {
     "data": {
      "text/html": [
       "<span class=\"statement\" data-properties=\"\" id=\"st-undefined\"><b>Plants </b>10–20(–30+) cm. <b>Stems</b> decumbent to erect. <b>Leaf</b> blades oval to lyrate, 10–30(–45) mm, faces ± pilosulous to sparsely sericeous, gland-dotted. <b>Fruits</b> strongly compressed, ± cuneate, 2–3(–4) mm, usually 3-ribbed, terminal spines 2, divergent, 2–3(–4) mm, often 1 ± uncinate, prickles ± uncinate, mostly along 2 ribs and around apices.</span>"
      ],
      "text/plain": [
       "<IPython.core.display.HTML object>"
      ]
     },
     "metadata": {},
     "output_type": "display_data"
    },
    {
     "name": "stdout",
     "output_type": "stream",
     "text": [
      "\n"
     ]
    },
    {
     "data": {
      "text/plain": [
       "Traits(plant_size='10–20(–30+) cm', leaf_shape='oval to lyrate', leaf_length='10–30(–45) mm', leaf_width='', leaf_thickness='', seed_length='', seed_width='', fruit_type='strongly compressed, ± cuneate', fruit_length='2–3(–4) mm', fruit_width='', deciduousness='')"
      ]
     },
     "metadata": {},
     "output_type": "display_data"
    },
    {
     "name": "stdout",
     "output_type": "stream",
     "text": [
      "\n"
     ]
    }
   ],
   "source": [
    "def extract_pages(pages, module, limit):\n",
    "    for page in pages[:limit]:\n",
    "        print()\n",
    "        print(\"=\" * 80)\n",
    "        print(page.stem.replace(\"_\", \" \"))\n",
    "\n",
    "        with page.open() as f:\n",
    "            text = f.read()\n",
    "\n",
    "        soup = BeautifulSoup(text, features=\"lxml\")\n",
    "        treatment = soup.find(\"span\", class_=\"statement\")\n",
    "\n",
    "        print()\n",
    "        display(HTML(str(treatment)))\n",
    "        print()\n",
    "\n",
    "        reply = module(text=treatment, prompt=prompt)\n",
    "        display(reply.traits)\n",
    "        print()\n",
    "\n",
    "\n",
    "extract_pages(PAGES, MODULE, args.limit)"
   ]
  },
  {
   "cell_type": "code",
   "execution_count": null,
   "id": "778124fa-4d53-4b06-8414-9afe7db2c536",
   "metadata": {},
   "outputs": [],
   "source": []
  }
 ],
 "metadata": {
  "kernelspec": {
   "display_name": "Python 3 (ipykernel)",
   "language": "python",
   "name": "python3"
  },
  "language_info": {
   "codemirror_mode": {
    "name": "ipython",
    "version": 3
   },
   "file_extension": ".py",
   "mimetype": "text/x-python",
   "name": "python",
   "nbconvert_exporter": "python",
   "pygments_lexer": "ipython3",
   "version": "3.12.9"
  }
 },
 "nbformat": 4,
 "nbformat_minor": 5
}

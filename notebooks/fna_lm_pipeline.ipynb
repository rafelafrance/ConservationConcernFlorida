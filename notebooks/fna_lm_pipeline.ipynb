{
 "cells": [
  {
   "cell_type": "code",
   "execution_count": 1,
   "id": "0bc77211-d259-4d53-aa74-1b2b7f641010",
   "metadata": {},
   "outputs": [],
   "source": [
    "from argparse import Namespace\n",
    "from dataclasses import dataclass\n",
    "from pathlib import Path\n",
    "\n",
    "import dspy\n",
    "from bs4 import BeautifulSoup\n",
    "from IPython.display import HTML"
   ]
  },
  {
   "cell_type": "code",
   "execution_count": 2,
   "id": "c395e5d2-9077-4082-acc5-0ce6a6f6464a",
   "metadata": {},
   "outputs": [],
   "source": [
    "args = Namespace()\n",
    "args.html_dir = Path(\"..\") / \"data\" / \"fna\" / \"Asteraceae\"\n",
    "args.model = \"ollama_chat/qwq\"\n",
    "args.api_base = \"http://localhost:11434\"\n",
    "args.api_key = \"\"\n",
    "args.limit = 10"
   ]
  },
  {
   "cell_type": "code",
   "execution_count": 3,
   "id": "87c937d3-e3c5-4bb0-a4b1-dd09bded700a",
   "metadata": {},
   "outputs": [],
   "source": [
    "@dataclass\n",
    "class Traits:\n",
    "    plant_size: str = \"\"\n",
    "    leaf_shape: str = \"\"\n",
    "    leaf_length: str = \"\"\n",
    "    leaf_width: str = \"\"\n",
    "    leaf_thickness: str = \"\"\n",
    "    fruit_type: str = \"\"\n",
    "    fruit_length: str = \"\"\n",
    "    fruit_width: str = \"\"\n",
    "    seed_length: str = \"\"\n",
    "    seed_width: str = \"\"\n",
    "    deciduousness: str = \"\""
   ]
  },
  {
   "cell_type": "code",
   "execution_count": 4,
   "id": "d03695de-1904-4c72-9eab-6c87a47b10a9",
   "metadata": {},
   "outputs": [],
   "source": [
    "class ExtractInfo(dspy.Signature):\n",
    "    \"\"\"Analyze species descriptions and extract trait information.\"\"\"\n",
    "\n",
    "    text: str = dspy.InputField()\n",
    "    prompt: str = dspy.InputField()\n",
    "    traits: Traits = dspy.OutputField(desc=\"Extracted traits\")"
   ]
  },
  {
   "cell_type": "code",
   "execution_count": 5,
   "id": "4bfeb3d6-6435-4b90-b380-5a6a824ad9eb",
   "metadata": {},
   "outputs": [],
   "source": [
    "PAGES = sorted(args.html_dir.glob(\"*.html\"))"
   ]
  },
  {
   "cell_type": "code",
   "execution_count": 6,
   "id": "9e0c1424-32a8-4311-bb02-b63ad0b423d0",
   "metadata": {},
   "outputs": [],
   "source": [
    "LM = dspy.LM(args.model, api_base=args.api_base, api_key=args.api_key)\n",
    "dspy.configure(lm=LM)"
   ]
  },
  {
   "cell_type": "code",
   "execution_count": 7,
   "id": "e0b958fd-21ce-4bcf-a6e8-17f328163424",
   "metadata": {},
   "outputs": [],
   "source": [
    "MODULE = dspy.Predict(ExtractInfo)"
   ]
  },
  {
   "cell_type": "code",
   "execution_count": 8,
   "id": "3e5ec46c-f16d-4876-aa1a-094e855e19aa",
   "metadata": {},
   "outputs": [],
   "source": [
    "prompt = \"\"\"\n",
    "    What is the plant size,\n",
    "    leaf shape, leaf length, leaf width, leaf thickness,\n",
    "    fruit type, fruit length, fruit width,\n",
    "    seed length, seed width,\n",
    "    deciduousness?\n",
    "    \"\"\""
   ]
  },
  {
   "cell_type": "code",
   "execution_count": 9,
   "id": "c29f8905-67c3-4a86-bf38-8ca6590e1b85",
   "metadata": {},
   "outputs": [
    {
     "name": "stdout",
     "output_type": "stream",
     "text": [
      "\n",
      "================================================================================\n",
      "Acanthospermum australe\n",
      "\n"
     ]
    },
    {
     "data": {
      "text/html": [
       "<span class=\"statement\" data-properties=\"\" id=\"st-undefined\"><b>Plants </b>10–60(–120+) cm. <b>Stems</b> ± procumbent. <b>Leaf</b> blades deltate to ± rhombic or ovate, 13–37 × 7–32 mm, faces sparsely scabrellous to glabrate or glabrescent, gland-dotted. <b>Fruits</b> plumply ellipsoid to fusiform, weakly compressed, 7–9+ mm, 5–7-ribbed, lacking terminal spines, prickles ± uncinate, mostly along ribs. <b>2n</b> = 22.</span>"
      ],
      "text/plain": [
       "<IPython.core.display.HTML object>"
      ]
     },
     "metadata": {},
     "output_type": "display_data"
    },
    {
     "name": "stdout",
     "output_type": "stream",
     "text": [
      "\n"
     ]
    },
    {
     "data": {
      "text/plain": [
       "Traits(plant_size='10–60(–120+) cm', leaf_shape='deltate to ± rhombic or ovate', leaf_length='13–37 mm', leaf_width='7–32 mm', leaf_thickness='', fruit_type='plumply ellipsoid to fusiform', fruit_length='7–9+ mm', fruit_width='', seed_length='', seed_width='', deciduousness='')"
      ]
     },
     "metadata": {},
     "output_type": "display_data"
    },
    {
     "name": "stdout",
     "output_type": "stream",
     "text": [
      "\n",
      "\n",
      "================================================================================\n",
      "Acanthospermum hispidum\n",
      "\n"
     ]
    },
    {
     "data": {
      "text/html": [
       "<span class=\"statement\" data-properties=\"\" id=\"st-undefined\"><b>Plants </b>10–60+ cm. <b>Stems</b> erect. <b>Leaf</b> blades rhombic-ovate to obovate, (20–)40–120(–150+) mm, faces finely pilosulous, gland-dotted. <b>Fruits</b> ± compressed, ± cuneate to obovate, 4–6+ mm, not notably ribbed, terminal spines 2, divergent, 3–4 mm, often 1 ± uncinate, prickles seldom notably uncinate, ± scattered. <b>2n</b> = 22.</span>"
      ],
      "text/plain": [
       "<IPython.core.display.HTML object>"
      ]
     },
     "metadata": {},
     "output_type": "display_data"
    },
    {
     "name": "stdout",
     "output_type": "stream",
     "text": [
      "\n"
     ]
    },
    {
     "data": {
      "text/plain": [
       "Traits(plant_size='10–60+ cm', leaf_shape='rhombic-ovate to obovate', leaf_length='20–150(–150+) mm', leaf_width='', leaf_thickness='', fruit_type='compressed, cuneate to obovate fruits', fruit_length='4–6+ mm', fruit_width='', seed_length='', seed_width='', deciduousness='')"
      ]
     },
     "metadata": {},
     "output_type": "display_data"
    },
    {
     "name": "stdout",
     "output_type": "stream",
     "text": [
      "\n",
      "\n",
      "================================================================================\n",
      "Acanthospermum humile\n",
      "\n"
     ]
    },
    {
     "data": {
      "text/html": [
       "<span class=\"statement\" data-properties=\"\" id=\"st-undefined\"><b>Plants </b>10–20(–30+) cm. <b>Stems</b> decumbent to erect. <b>Leaf</b> blades oval to lyrate, 10–30(–45) mm, faces ± pilosulous to sparsely sericeous, gland-dotted. <b>Fruits</b> strongly compressed, ± cuneate, 2–3(–4) mm, usually 3-ribbed, terminal spines 2, divergent, 2–3(–4) mm, often 1 ± uncinate, prickles ± uncinate, mostly along 2 ribs and around apices.</span>"
      ],
      "text/plain": [
       "<IPython.core.display.HTML object>"
      ]
     },
     "metadata": {},
     "output_type": "display_data"
    },
    {
     "name": "stdout",
     "output_type": "stream",
     "text": [
      "\n"
     ]
    },
    {
     "data": {
      "text/plain": [
       "Traits(plant_size='10–20(–30+) cm', leaf_shape='oval to lyrate', leaf_length='10–30(–45) mm', leaf_width='', leaf_thickness='', fruit_type='strongly compressed, ± cuneate', fruit_length='2–3(–4) mm', fruit_width='', seed_length='', seed_width='', deciduousness='')"
      ]
     },
     "metadata": {},
     "output_type": "display_data"
    },
    {
     "name": "stdout",
     "output_type": "stream",
     "text": [
      "\n",
      "\n",
      "================================================================================\n",
      "Achillea millefolium\n",
      "\n"
     ]
    },
    {
     "data": {
      "text/html": [
       "<span class=\"statement\" data-properties=\"\" id=\"st-undefined\"><b>Perennials,</b> 6–65+ cm (usually rhizomatous, sometimes stoloniferous). <b>Stems</b> 1(–4), erect, simple or branched, densely lanate-tomentose to glabrate. <b>Leaves</b> petiolate (proximally) or sessile (distally, weakly clasping and gradually reduced); blades oblong or lanceolate, 3.5–35+ cm × 5–35 mm, 1–2-pinnately lobed (ultimate lobes ± lanceolate, often arrayed in multiple planes), faces glabrate to sparsely tomentose or densely lanate. <b>Heads</b> 10–100+, in simple or compound, corymbiform arrays. <b>Phyllaries</b> 20–30 in ± 3 series, (light green, midribs dark green to yellowish, margins green to light or dark brown) ovate to lanceolate, abaxial faces tomentose. <b>Receptacles</b> convex; paleae lanceolate, 1.5–4 mm. <b>Ray</b> florets (3–)5–8, pistillate, fertile; corollas white or light pink to deep purple, laminae 1.5–3 × 1.5–3 mm. <b>Disc</b> florets 10–20; corollas white to grayish white, 2–4.5 mm. <b>Cypselae</b> 1–2 mm (margins broadly winged). <b>2n</b> = 18, 27, 36, 45, 54, 63, 72 (including counts from Europe).</span>"
      ],
      "text/plain": [
       "<IPython.core.display.HTML object>"
      ]
     },
     "metadata": {},
     "output_type": "display_data"
    },
    {
     "name": "stdout",
     "output_type": "stream",
     "text": [
      "\n"
     ]
    },
    {
     "data": {
      "text/plain": [
       "Traits(plant_size='6–65+ cm', leaf_shape='oblong or lanceolate, 1–2-pinnately lobed', leaf_length='3.5–35+ cm', leaf_width='5–35 mm', leaf_thickness='', fruit_type='cypselae', fruit_length='1–2 mm', fruit_width='', seed_length='', seed_width='', deciduousness='')"
      ]
     },
     "metadata": {},
     "output_type": "display_data"
    },
    {
     "name": "stdout",
     "output_type": "stream",
     "text": [
      "\n",
      "\n",
      "================================================================================\n",
      "Acmella pusilla\n",
      "\n"
     ]
    },
    {
     "data": {
      "text/html": [
       "<span class=\"statement\" data-properties=\"\" id=\"st-undefined\"><b>Leaves:</b> petioles 2–4 mm; blades lanceolate, mostly 12–40 × 3–10 mm, margins usually sinuate-dentate, rarely entire. <b>Cypselae</b> 1.2–1.6 mm, ciliate or not, tips of cilia recurved; pappi 0 or of 1–2 bristles. <b>2n</b> = 26, 52.</span>"
      ],
      "text/plain": [
       "<IPython.core.display.HTML object>"
      ]
     },
     "metadata": {},
     "output_type": "display_data"
    },
    {
     "name": "stdout",
     "output_type": "stream",
     "text": [
      "\n"
     ]
    },
    {
     "data": {
      "text/plain": [
       "Traits(plant_size='', leaf_shape='lanceolate', leaf_length='12–40 mm', leaf_width='3–10 mm', leaf_thickness='', fruit_type='cypsela', fruit_length='1.2–1.6 mm', fruit_width='', seed_length='', seed_width='', deciduousness='')"
      ]
     },
     "metadata": {},
     "output_type": "display_data"
    },
    {
     "name": "stdout",
     "output_type": "stream",
     "text": [
      "\n",
      "\n",
      "================================================================================\n",
      "Acmella repens\n",
      "\n"
     ]
    },
    {
     "data": {
      "text/html": [
       "<span class=\"statement\" data-properties=\"\" id=\"st-undefined\"><b>Leaves:</b> petioles 3–40+ mm; blades ovate to lance-ovate, mostly 20–40(–100) × 10–35 mm, margins dentate to denticulate or entire. <b>Cypselae</b> 1–2.5 mm, ciliate or not, tips of cilia straight; pappi 0 or of 1–2(–3) bristles. <b>2n</b> = 52.</span>"
      ],
      "text/plain": [
       "<IPython.core.display.HTML object>"
      ]
     },
     "metadata": {},
     "output_type": "display_data"
    },
    {
     "name": "stdout",
     "output_type": "stream",
     "text": [
      "\n"
     ]
    },
    {
     "data": {
      "text/plain": [
       "Traits(plant_size='', leaf_shape='ovate to lance-ovate', leaf_length='20–40(–100) mm', leaf_width='10–35 mm', leaf_thickness='', fruit_type='Cypselae', fruit_length='1–2.5 mm', fruit_width='', seed_length='', seed_width='', deciduousness='')"
      ]
     },
     "metadata": {},
     "output_type": "display_data"
    },
    {
     "name": "stdout",
     "output_type": "stream",
     "text": [
      "\n",
      "\n",
      "================================================================================\n",
      "Ageratina altissima\n",
      "\n"
     ]
    },
    {
     "data": {
      "text/html": [
       "<span class=\"statement\" data-properties=\"\" id=\"st-undefined\"><b>Perennials,</b> (30–)50–80(–120) cm (bases usually fibrous-rooted crowns, sometimes rhizomatous). <b>Stems</b> ascending to erect, sometimes semiscandent, puberulent (hairs minute, crisped). <b>Leaves</b> opposite; petioles (5–)10–30(–50) mm; blades usually deltate-ovate to ovate or broadly lanceolate, sometimes ovate-lanceolate, 4–11(–13) × 2.5–8(–9) cm, bases usually rounded to truncate or obtuse, sometimes cordate, margins coarsely and doubly incised-serrate, apices usually acuminate. <b>Heads</b> clustered. <b>Peduncles</b> 1–5 mm, puberulent. <b>Involucres</b> 4–5 mm. <b>Phyllaries</b>: apices acute, abaxial faces glabrous or sparsely and finely villous. <b>Corollas</b> white, lobes sparsely short-villous. <b>Cypselae</b> glabrous.</span>"
      ],
      "text/plain": [
       "<IPython.core.display.HTML object>"
      ]
     },
     "metadata": {},
     "output_type": "display_data"
    },
    {
     "name": "stdout",
     "output_type": "stream",
     "text": [
      "\n"
     ]
    },
    {
     "data": {
      "text/plain": [
       "Traits(plant_size='(30–)50–80(–120)', leaf_shape='deltate-ovate to ovate or broadly lanceolate', leaf_length='4–11(–13) cm', leaf_width='2.5–8(–9) cm', leaf_thickness='', fruit_type='cypsela', fruit_length='', fruit_width='', seed_length='', seed_width='', deciduousness='')"
      ]
     },
     "metadata": {},
     "output_type": "display_data"
    },
    {
     "name": "stdout",
     "output_type": "stream",
     "text": [
      "\n",
      "\n",
      "================================================================================\n",
      "Ageratina aromatica\n",
      "\n"
     ]
    },
    {
     "data": {
      "text/html": [
       "<span class=\"statement\" data-properties=\"\" id=\"st-undefined\"><b>Perennials,</b> 30–80(–100) cm. <b>Stems</b> erect, villous-puberulent. <b>Leaves</b> opposite; petioles 1–8(–12) mm; blades narrowly to broadly deltate to nearly ovate or lanceolate, 2–7(–9) × 1.5–4 cm, (usually subcoriaceous) bases rounded or truncate to barely cuneate or subcordate, margins usually crenate, sometimes crenate-serrate to dentate or subentire, apices acute to obtuse, faces minutely pilose. <b>Heads</b> clustered. <b>Peduncles</b> 2–9 mm, densely and closely puberulent. <b>Involucres</b> 3.5–5 mm. <b>Phyllaries</b>: apices acute, abaxial faces puberulent to villous-puberulent. <b>Corollas</b> white, lobes sparsely villous. <b>Cypselae</b> usually glabrous or sparsely puberulent (near apices), rarely hirtellous on angles. <b>2n</b> = 34.</span>"
      ],
      "text/plain": [
       "<IPython.core.display.HTML object>"
      ]
     },
     "metadata": {},
     "output_type": "display_data"
    },
    {
     "name": "stdout",
     "output_type": "stream",
     "text": [
      "\n"
     ]
    },
    {
     "data": {
      "text/plain": [
       "Traits(plant_size='30–80(–100) cm', leaf_shape='narrowly to broadly deltate to nearly ovate or lanceolate', leaf_length='2–7(–9) cm', leaf_width='1.5–4 cm', leaf_thickness='subcoriaceous', fruit_type='cypsela', fruit_length='', fruit_width='', seed_length='', seed_width='', deciduousness='')"
      ]
     },
     "metadata": {},
     "output_type": "display_data"
    },
    {
     "name": "stdout",
     "output_type": "stream",
     "text": [
      "\n",
      "\n",
      "================================================================================\n",
      "Ageratina jucunda\n",
      "\n"
     ]
    },
    {
     "data": {
      "text/html": [
       "<span class=\"statement\" data-properties=\"\" id=\"st-undefined\"><b>Perennials,</b> 40–80(–100) cm. <b>Stems</b> erect, lax, minutely pilose. <b>Leaves</b> opposite; petioles 7–15(–22) mm; blades narrowly deltate to rhombic, 2–6(–7) × 1.5–4 cm, (usually subcoriaceous) bases usually cuneate, sometimes truncate to slightly subcordate, margins usually coarsely serrate or incised, sometimes crenate to subentire, apices acute to acuminate, abaxial faces glabrous or hairy on veins. <b>Heads</b> clustered. <b>Peduncles</b> 2–10 mm, sparsely puberulent. <b>Involucres</b> 2.5–4 mm. <b>Phyllaries</b>: apices acute, abaxial faces puberulent to villous-puberulent. <b>Corollas</b> white, lobes glabrous or sparsely short-hirtellous. <b>Cypselae</b> usually finely hirtellous-strigose on distal 1/3, sometimes glabrous. <b>2n</b> = 34.</span>"
      ],
      "text/plain": [
       "<IPython.core.display.HTML object>"
      ]
     },
     "metadata": {},
     "output_type": "display_data"
    },
    {
     "name": "stdout",
     "output_type": "stream",
     "text": [
      "\n"
     ]
    },
    {
     "data": {
      "text/plain": [
       "Traits(plant_size='40–80(–100) cm', leaf_shape='narrowly deltate to rhombic', leaf_length='2–6(–7) cm', leaf_width='1.5–4 cm', leaf_thickness='subcoriaceous', fruit_type='cypsela', fruit_length='', fruit_width='', seed_length='', seed_width='', deciduousness='')"
      ]
     },
     "metadata": {},
     "output_type": "display_data"
    },
    {
     "name": "stdout",
     "output_type": "stream",
     "text": [
      "\n",
      "\n",
      "================================================================================\n",
      "Ageratum conyzoides\n",
      "\n"
     ]
    },
    {
     "data": {
      "text/html": [
       "<span class=\"statement\" data-properties=\"\" id=\"st-undefined\"><b>Annuals,</b> perennials, or sub-shrubs, 20–150 cm (fibrous-rooted). <b>Stems</b> erect, sparsely to densely villous. <b>Leaf</b> blades ovate to elliptic-oblong, 2–8 × 1–5 cm, margins toothed, abaxial faces sparsely pilose and gland-dotted. <b>Peduncles</b> minutely puberulent and sparsely to densely pilose, eglandular. <b>Involucres</b> 3–3.5 × 4–5 mm. <b>Phyllaries</b> oblong-lanceolate (0.8–1.2 mm wide), glabrous or sparsely pilose (margins often ciliate), eglandular, tips abruptly tapering, subulate, 0.5–1 mm. <b>Corollas</b> usually blue to lavender, sometimes white. <b>Cypselae</b> sparsely strigoso-hispidulous; pappi usually of scales 0.5–1.5(–3) mm, sometimes with tapering setae, rarely 0. <b>2n</b> = 20, 40.</span>"
      ],
      "text/plain": [
       "<IPython.core.display.HTML object>"
      ]
     },
     "metadata": {},
     "output_type": "display_data"
    },
    {
     "name": "stdout",
     "output_type": "stream",
     "text": [
      "\n"
     ]
    },
    {
     "data": {
      "text/plain": [
       "Traits(plant_size='20–150 cm', leaf_shape='ovate to elliptic-oblong', leaf_length='2–8 × 1–5 cm', leaf_width='', leaf_thickness='', fruit_type='cypselae', fruit_length='', fruit_width='', seed_length='', seed_width='', deciduousness='')"
      ]
     },
     "metadata": {},
     "output_type": "display_data"
    },
    {
     "name": "stdout",
     "output_type": "stream",
     "text": [
      "\n"
     ]
    }
   ],
   "source": [
    "def extract_pages(pages, module, limit):\n",
    "    for page in pages[:limit]:\n",
    "        print()\n",
    "        print(\"=\" * 80)\n",
    "        print(page.stem.replace(\"_\", \" \"))\n",
    "\n",
    "        with page.open() as f:\n",
    "            text = f.read()\n",
    "\n",
    "        soup = BeautifulSoup(text, features=\"lxml\")\n",
    "        treatment = soup.find(\"span\", class_=\"statement\")\n",
    "\n",
    "        print()\n",
    "        display(HTML(str(treatment)))\n",
    "        print()\n",
    "        \n",
    "        reply = module(text=treatment, prompt=prompt)\n",
    "        display(reply.traits)\n",
    "        print()\n",
    "\n",
    "\n",
    "extract_pages(PAGES, MODULE, args.limit)"
   ]
  },
  {
   "cell_type": "code",
   "execution_count": null,
   "id": "778124fa-4d53-4b06-8414-9afe7db2c536",
   "metadata": {},
   "outputs": [],
   "source": []
  }
 ],
 "metadata": {
  "kernelspec": {
   "display_name": "Python 3 (ipykernel)",
   "language": "python",
   "name": "python3"
  },
  "language_info": {
   "codemirror_mode": {
    "name": "ipython",
    "version": 3
   },
   "file_extension": ".py",
   "mimetype": "text/x-python",
   "name": "python",
   "nbconvert_exporter": "python",
   "pygments_lexer": "ipython3",
   "version": "3.12.9"
  }
 },
 "nbformat": 4,
 "nbformat_minor": 5
}
